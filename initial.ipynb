{
 "cells": [
  {
   "cell_type": "code",
   "execution_count": 1,
   "metadata": {},
   "outputs": [],
   "source": [
    "import fiftyone as fo\n",
    "import fiftyone.brain as fob\n",
    "import fiftyone.zoo as foz\n",
    "from ultralytics import YOLO\n",
    "import yaml"
   ]
  },
  {
   "cell_type": "code",
   "execution_count": 2,
   "metadata": {},
   "outputs": [],
   "source": [
    "import numpy as np\n",
    "from PIL import Image\n",
    "import os\n",
    "from pathlib import Path\n",
    "\n",
    "BASE_DIR = Path(os.path.abspath('')).resolve(strict=True).parent"
   ]
  },
  {
   "cell_type": "code",
   "execution_count": 3,
   "metadata": {},
   "outputs": [],
   "source": [
    "# dataset = fo.Dataset()\n",
    "\n",
    "\n",
    "# DATASET_PATH = Path(r\"C:\\Users\\athif\\OneDrive\\Documents\\Hackathon-Voxel51\\NPD\")\n",
    "\n",
    "# TRAIN_IMG_DIR = DATASET_PATH / \"train\"\n",
    "# TRAIN_ANNOTATION_DIR = DATASET_PATH / \"annotations\" / \"instances_train.json\"\n",
    "\n",
    "\n",
    "# dataset = fo.Dataset.from_dir(\n",
    "#     dataset_type=fo.types.COCODetectionDataset,\n",
    "#     data_path=str(TRAIN_IMG_DIR),\n",
    "#     labels_path=str(TRAIN_ANNOTATION_DIR)\n",
    "# )\n",
    "\n",
    "# # View the dataset\n",
    "# session = fo.launch_app(dataset)"
   ]
  },
  {
   "cell_type": "code",
   "execution_count": 4,
   "metadata": {},
   "outputs": [],
   "source": [
    "# model = foz.load_zoo_model(\"mobilenet-v2-imagenet-torch\")\n",
    "# embeddings = dataset.compute_embeddings(model)\n",
    "\n",
    "# results = fob.compute_visualization(\n",
    "#     dataset, embeddings=embeddings, seed=51, brain_key=\"img_viz\"\n",
    "# )\n",
    "# session = fo.launch_app(dataset)\n"
   ]
  },
  {
   "cell_type": "code",
   "execution_count": 5,
   "metadata": {},
   "outputs": [],
   "source": [
    "# dataset.persistent = True"
   ]
  },
  {
   "cell_type": "code",
   "execution_count": 6,
   "metadata": {},
   "outputs": [],
   "source": [
    "# session = fo.launch_app(dataset)"
   ]
  },
  {
   "cell_type": "code",
   "execution_count": 7,
   "metadata": {},
   "outputs": [],
   "source": [
    "# view = dataset.match_tags([\"ideal-ph\", \"ideal-ph2\"])"
   ]
  },
  {
   "cell_type": "code",
   "execution_count": 8,
   "metadata": {},
   "outputs": [],
   "source": [
    "# print(view)\n",
    "# filteredDataset = view.clone()\n",
    "\n",
    "# print(view.get_field_schema())"
   ]
  },
  {
   "cell_type": "code",
   "execution_count": 9,
   "metadata": {},
   "outputs": [],
   "source": [
    "# session2 = fo.launch_app(view)"
   ]
  },
  {
   "cell_type": "code",
   "execution_count": 10,
   "metadata": {},
   "outputs": [],
   "source": [
    "# export_dir = r\"C:\\Users\\athif\\OneDrive\\Documents\\Hackathon-Voxel51\\NPD\\filtered_NPD\"\n",
    "\n",
    "\n",
    "# label_field = \"segmentations\"\n",
    "# dataset_type = fo.types.COCODetectionDataset\n",
    "\n",
    "# view.export(\n",
    "#     export_dir=export_dir,\n",
    "#     dataset_type=dataset_type,\n",
    "#     label_field=label_field,\n",
    "# )"
   ]
  },
  {
   "cell_type": "code",
   "execution_count": 11,
   "metadata": {},
   "outputs": [],
   "source": [
    "# dataset = fo.Dataset()\n",
    "\n",
    "\n",
    "# DATASET_PATH = Path(r\"C:\\Users\\athif\\OneDrive\\Documents\\Hackathon-Voxel51\\filtered_NPD\")\n",
    "\n",
    "# TRAIN_IMG_DIR = DATASET_PATH / \"data\"\n",
    "# TRAIN_ANNOTATION_DIR = DATASET_PATH / \"labels.json\"\n",
    "\n",
    "\n",
    "# embedded_dataset = fo.Dataset.from_dir(\n",
    "#     dataset_type=fo.types.COCODetectionDataset,\n",
    "#     data_path=str(TRAIN_IMG_DIR),\n",
    "#     labels_path=str(TRAIN_ANNOTATION_DIR)\n",
    "# )\n",
    "\n",
    "# # View the dataset\n",
    "# session = fo.launch_app(embedded_dataset)"
   ]
  },
  {
   "cell_type": "code",
   "execution_count": 12,
   "metadata": {},
   "outputs": [],
   "source": [
    "# if fo.dataset_exists(\"train\"):\n",
    "#     fo.delete_dataset(\"train\")\n",
    "# if fo.dataset_exists(\"test\"):\n",
    "#     fo.delete_dataset(\"test\")\n",
    "# if fo.dataset_exists(\"val\"):\n",
    "#     fo.delete_dataset(\"val\")\n"
   ]
  },
  {
   "cell_type": "code",
   "execution_count": 13,
   "metadata": {},
   "outputs": [],
   "source": [
    "# EXPORT_DIR = r\"C:\\Users\\athif\\OneDrive\\Documents\\Hackathon-Voxel51\"\n",
    "\n",
    "# total_samples = len(embedded_dataset)\n",
    "# all_samples = list(embedded_dataset)\n",
    "# random.shuffle(all_samples)  \n",
    "\n",
    "\n",
    "# train_size = int(0.6 * total_samples)\n",
    "# test_size = int(0.3 * total_samples)\n",
    "# val_size = total_samples - train_size - test_size  \n",
    "\n",
    "\n",
    "# train_samples = all_samples[:train_size]\n",
    "# test_samples = all_samples[train_size:train_size+test_size]\n",
    "# val_samples = all_samples[train_size+test_size:]\n",
    "\n",
    "# train_dataset = fo.Dataset(name=\"train\")\n",
    "# train_dataset.add_samples(train_samples)\n",
    "\n",
    "# test_dataset = fo.Dataset(name=\"test\")\n",
    "# test_dataset.add_samples(test_samples)\n",
    "\n",
    "# val_dataset = fo.Dataset(name=\"val\")\n",
    "# val_dataset.add_samples(val_samples)\n",
    "\n",
    "# print(f\"Train split: {len(train_samples)} samples\")\n",
    "# print(f\"Val split: {len(val_samples)} samples\")\n",
    "# print(f\"Test split: {len(test_samples)} samples\")\n",
    "# print(f\"Total: {len(train_samples) + len(val_samples) + len(test_samples)} samples\")\n",
    "# print(f\"Original dataset: {len(embedded_dataset)} samples\")"
   ]
  },
  {
   "cell_type": "code",
   "execution_count": 14,
   "metadata": {},
   "outputs": [],
   "source": [
    "# train_dataset.export(\n",
    "#     export_dir=os.path.join(EXPORT_DIR, \"train\"),\n",
    "#     dataset_type=fo.types.YOLOv5Dataset,\n",
    "#     label_field=\"segmentations\",\n",
    "#     classes=[\"pothole\"],\n",
    "# )\n",
    "\n",
    "# test_dataset.export(\n",
    "#     export_dir=os.path.join(EXPORT_DIR, \"test\"),\n",
    "#     dataset_type=fo.types.YOLOv5Dataset,\n",
    "#     label_field=\"segmentations\",\n",
    "#     classes=[\"pothole\"],\n",
    "# )\n",
    "\n",
    "# val_dataset.export(\n",
    "#     export_dir=os.path.join(EXPORT_DIR, \"val\"),\n",
    "#     dataset_type=fo.types.YOLOv5Dataset,\n",
    "#     label_field=\"segmentations\",\n",
    "#     classes=[\"pothole\"],\n",
    "# )"
   ]
  },
  {
   "cell_type": "markdown",
   "metadata": {},
   "source": []
  },
  {
   "cell_type": "code",
   "execution_count": 18,
   "metadata": {},
   "outputs": [],
   "source": [
    "EXPORT_DIR = r\"C:\\Users\\athif\\OneDrive\\Documents\\Hackathon-Voxel51\"\n",
    "\n",
    "# Create a dataset YAML file\n",
    "dataset_yaml = {\n",
    "    \"path\": EXPORT_DIR,  \n",
    "    \"train\": \"train/images\",  \n",
    "    \"val\": \"val/images\",      \n",
    "    \"test\": \"test/images\",   \n",
    "    \"names\": {\n",
    "        0: \"pothole\"        \n",
    "    }\n",
    "}\n",
    "\n",
    "\n",
    "yaml_path = os.path.join(EXPORT_DIR, \"dataset.yaml\")\n",
    "with open(yaml_path, \"w\") as f:\n",
    "    yaml.dump(dataset_yaml, f, default_flow_style=False, sort_keys=False)\n"
   ]
  },
  {
   "cell_type": "code",
   "execution_count": 19,
   "metadata": {},
   "outputs": [],
   "source": [
    "model = YOLO(\"yolo11m.pt\").to(\"cuda\")"
   ]
  },
  {
   "cell_type": "code",
   "execution_count": 20,
   "metadata": {},
   "outputs": [
    {
     "name": "stdout",
     "output_type": "stream",
     "text": [
      "Model device: cuda:0\n"
     ]
    }
   ],
   "source": [
    "print(f\"Model device: {model.device}\")"
   ]
  },
  {
   "cell_type": "code",
   "execution_count": 21,
   "metadata": {},
   "outputs": [
    {
     "name": "stdout",
     "output_type": "stream",
     "text": [
      "New https://pypi.org/project/ultralytics/8.3.94 available  Update with 'pip install -U ultralytics'\n",
      "\u001b[34m\u001b[1mengine\\trainer: \u001b[0mtask=detect, mode=train, model=yolo11m.pt, data=C:\\Users\\athif\\OneDrive\\Documents\\Hackathon-Voxel51\\dataset.yaml, epochs=100, time=None, patience=100, batch=12, imgsz=320, save=True, save_period=-1, cache=False, device=cuda:0, workers=8, project=model_out, name=train, exist_ok=False, pretrained=True, optimizer=auto, verbose=True, seed=0, deterministic=True, single_cls=False, rect=False, cos_lr=False, close_mosaic=10, resume=False, amp=True, fraction=1.0, profile=False, freeze=None, multi_scale=False, overlap_mask=True, mask_ratio=4, dropout=0.0, val=True, split=val, save_json=False, save_hybrid=False, conf=None, iou=0.7, max_det=300, half=False, dnn=False, plots=True, source=None, vid_stride=1, stream_buffer=False, visualize=False, augment=False, agnostic_nms=False, classes=None, retina_masks=False, embed=None, show=False, save_frames=False, save_txt=False, save_conf=False, save_crop=False, show_labels=True, show_conf=True, show_boxes=True, line_width=None, format=torchscript, keras=False, optimize=False, int8=False, dynamic=False, simplify=True, opset=None, workspace=None, nms=False, lr0=0.01, lrf=0.01, momentum=0.937, weight_decay=0.0005, warmup_epochs=3.0, warmup_momentum=0.8, warmup_bias_lr=0.1, box=7.5, cls=0.5, dfl=1.5, pose=12.0, kobj=1.0, nbs=64, hsv_h=0.015, hsv_s=0.7, hsv_v=0.4, degrees=0.0, translate=0.1, scale=0.5, shear=0.0, perspective=0.0, flipud=0.0, fliplr=0.5, bgr=0.0, mosaic=1.0, mixup=0.0, copy_paste=0.0, copy_paste_mode=flip, auto_augment=randaugment, erasing=0.4, crop_fraction=1.0, cfg=None, tracker=botsort.yaml, save_dir=model_out\\train\n",
      "Overriding model.yaml nc=80 with nc=1\n",
      "\n",
      "                   from  n    params  module                                       arguments                     \n",
      "  0                  -1  1      1856  ultralytics.nn.modules.conv.Conv             [3, 64, 3, 2]                 \n",
      "  1                  -1  1     73984  ultralytics.nn.modules.conv.Conv             [64, 128, 3, 2]               \n",
      "  2                  -1  1    111872  ultralytics.nn.modules.block.C3k2            [128, 256, 1, True, 0.25]     \n",
      "  3                  -1  1    590336  ultralytics.nn.modules.conv.Conv             [256, 256, 3, 2]              \n",
      "  4                  -1  1    444928  ultralytics.nn.modules.block.C3k2            [256, 512, 1, True, 0.25]     \n",
      "  5                  -1  1   2360320  ultralytics.nn.modules.conv.Conv             [512, 512, 3, 2]              \n",
      "  6                  -1  1   1380352  ultralytics.nn.modules.block.C3k2            [512, 512, 1, True]           \n",
      "  7                  -1  1   2360320  ultralytics.nn.modules.conv.Conv             [512, 512, 3, 2]              \n",
      "  8                  -1  1   1380352  ultralytics.nn.modules.block.C3k2            [512, 512, 1, True]           \n",
      "  9                  -1  1    656896  ultralytics.nn.modules.block.SPPF            [512, 512, 5]                 \n",
      " 10                  -1  1    990976  ultralytics.nn.modules.block.C2PSA           [512, 512, 1]                 \n",
      " 11                  -1  1         0  torch.nn.modules.upsampling.Upsample         [None, 2, 'nearest']          \n",
      " 12             [-1, 6]  1         0  ultralytics.nn.modules.conv.Concat           [1]                           \n",
      " 13                  -1  1   1642496  ultralytics.nn.modules.block.C3k2            [1024, 512, 1, True]          \n",
      " 14                  -1  1         0  torch.nn.modules.upsampling.Upsample         [None, 2, 'nearest']          \n",
      " 15             [-1, 4]  1         0  ultralytics.nn.modules.conv.Concat           [1]                           \n",
      " 16                  -1  1    542720  ultralytics.nn.modules.block.C3k2            [1024, 256, 1, True]          \n",
      " 17                  -1  1    590336  ultralytics.nn.modules.conv.Conv             [256, 256, 3, 2]              \n",
      " 18            [-1, 13]  1         0  ultralytics.nn.modules.conv.Concat           [1]                           \n",
      " 19                  -1  1   1511424  ultralytics.nn.modules.block.C3k2            [768, 512, 1, True]           \n",
      " 20                  -1  1   2360320  ultralytics.nn.modules.conv.Conv             [512, 512, 3, 2]              \n",
      " 21            [-1, 10]  1         0  ultralytics.nn.modules.conv.Concat           [1]                           \n",
      " 22                  -1  1   1642496  ultralytics.nn.modules.block.C3k2            [1024, 512, 1, True]          \n",
      " 23        [16, 19, 22]  1   1411795  ultralytics.nn.modules.head.Detect           [1, [256, 512, 512]]          \n",
      "YOLO11m summary: 231 layers, 20,053,779 parameters, 20,053,763 gradients, 68.2 GFLOPs\n",
      "\n",
      "Transferred 643/649 items from pretrained weights\n",
      "\u001b[34m\u001b[1mTensorBoard: \u001b[0mStart with 'tensorboard --logdir model_out\\train', view at http://localhost:6006/\n",
      "Freezing layer 'model.23.dfl.conv.weight'\n",
      "\u001b[34m\u001b[1mAMP: \u001b[0mrunning Automatic Mixed Precision (AMP) checks...\n",
      "\u001b[34m\u001b[1mAMP: \u001b[0mchecks passed \n"
     ]
    },
    {
     "name": "stderr",
     "output_type": "stream",
     "text": [
      "\u001b[34m\u001b[1mtrain: \u001b[0mScanning C:\\Users\\athif\\OneDrive\\Documents\\Hackathon-Voxel51\\train\\labels\\val.cache... 3646 images, 0 backgrounds, 0 corrupt: 100%|██████████| 3646/3646 [00:00<?, ?it/s]\n",
      "\u001b[34m\u001b[1mval: \u001b[0mScanning C:\\Users\\athif\\OneDrive\\Documents\\Hackathon-Voxel51\\val\\labels\\val.cache... 608 images, 0 backgrounds, 0 corrupt: 100%|██████████| 608/608 [00:00<?, ?it/s]\n"
     ]
    },
    {
     "name": "stdout",
     "output_type": "stream",
     "text": [
      "Plotting labels to model_out\\train\\labels.jpg... \n",
      "\u001b[34m\u001b[1moptimizer:\u001b[0m 'optimizer=auto' found, ignoring 'lr0=0.01' and 'momentum=0.937' and determining best 'optimizer', 'lr0' and 'momentum' automatically... \n",
      "\u001b[34m\u001b[1moptimizer:\u001b[0m AdamW(lr=0.002, momentum=0.9) with parameter groups 106 weight(decay=0.0), 113 weight(decay=0.00046875), 112 bias(decay=0.0)\n",
      "\u001b[34m\u001b[1mTensorBoard: \u001b[0mmodel graph visualization added \n",
      "Image sizes 320 train, 320 val\n",
      "Using 8 dataloader workers\n",
      "Logging results to \u001b[1mmodel_out\\train\u001b[0m\n",
      "Starting training for 100 epochs...\n",
      "\n",
      "      Epoch    GPU_mem   box_loss   cls_loss   dfl_loss  Instances       Size\n"
     ]
    },
    {
     "name": "stderr",
     "output_type": "stream",
     "text": [
      "      1/100      2.15G      2.223      2.395      1.923         33        320: 100%|██████████| 304/304 [00:50<00:00,  5.97it/s]\n",
      "                 Class     Images  Instances      Box(P          R      mAP50  mAP50-95): 100%|██████████| 26/26 [00:03<00:00,  6.61it/s]\n"
     ]
    },
    {
     "name": "stdout",
     "output_type": "stream",
     "text": [
      "                   all        608       1164      0.196       0.15     0.0895     0.0318\n",
      "\n",
      "      Epoch    GPU_mem   box_loss   cls_loss   dfl_loss  Instances       Size\n"
     ]
    },
    {
     "name": "stderr",
     "output_type": "stream",
     "text": [
      "      2/100      2.58G      2.303      2.358      1.993         19        320: 100%|██████████| 304/304 [00:45<00:00,  6.74it/s]\n",
      "                 Class     Images  Instances      Box(P          R      mAP50  mAP50-95): 100%|██████████| 26/26 [00:03<00:00,  6.64it/s]\n"
     ]
    },
    {
     "name": "stdout",
     "output_type": "stream",
     "text": [
      "                   all        608       1164      0.348      0.282       0.25     0.0949\n",
      "\n",
      "      Epoch    GPU_mem   box_loss   cls_loss   dfl_loss  Instances       Size\n"
     ]
    },
    {
     "name": "stderr",
     "output_type": "stream",
     "text": [
      "      3/100      2.58G      2.243      2.284      1.935         21        320: 100%|██████████| 304/304 [00:53<00:00,  5.71it/s]\n",
      "                 Class     Images  Instances      Box(P          R      mAP50  mAP50-95): 100%|██████████| 26/26 [00:04<00:00,  5.25it/s]"
     ]
    },
    {
     "name": "stdout",
     "output_type": "stream",
     "text": [
      "                   all        608       1164      0.324      0.313       0.27      0.106\n"
     ]
    },
    {
     "name": "stderr",
     "output_type": "stream",
     "text": [
      "\n"
     ]
    },
    {
     "name": "stdout",
     "output_type": "stream",
     "text": [
      "\n",
      "      Epoch    GPU_mem   box_loss   cls_loss   dfl_loss  Instances       Size\n"
     ]
    },
    {
     "name": "stderr",
     "output_type": "stream",
     "text": [
      "      4/100      2.58G      2.163       2.22      1.887         36        320: 100%|██████████| 304/304 [00:51<00:00,  5.90it/s]\n",
      "                 Class     Images  Instances      Box(P          R      mAP50  mAP50-95): 100%|██████████| 26/26 [00:04<00:00,  5.34it/s]"
     ]
    },
    {
     "name": "stdout",
     "output_type": "stream",
     "text": [
      "                   all        608       1164      0.448      0.288      0.294      0.125\n"
     ]
    },
    {
     "name": "stderr",
     "output_type": "stream",
     "text": [
      "\n"
     ]
    },
    {
     "name": "stdout",
     "output_type": "stream",
     "text": [
      "\n",
      "      Epoch    GPU_mem   box_loss   cls_loss   dfl_loss  Instances       Size\n"
     ]
    },
    {
     "name": "stderr",
     "output_type": "stream",
     "text": [
      "      5/100      2.58G      2.123      2.108       1.86         32        320: 100%|██████████| 304/304 [00:50<00:00,  6.01it/s]\n",
      "                 Class     Images  Instances      Box(P          R      mAP50  mAP50-95): 100%|██████████| 26/26 [00:04<00:00,  5.34it/s]"
     ]
    },
    {
     "name": "stdout",
     "output_type": "stream",
     "text": [
      "                   all        608       1164      0.457      0.331      0.325      0.142\n"
     ]
    },
    {
     "name": "stderr",
     "output_type": "stream",
     "text": [
      "\n"
     ]
    },
    {
     "name": "stdout",
     "output_type": "stream",
     "text": [
      "\n",
      "      Epoch    GPU_mem   box_loss   cls_loss   dfl_loss  Instances       Size\n"
     ]
    },
    {
     "name": "stderr",
     "output_type": "stream",
     "text": [
      "      6/100      2.58G      2.048      2.007      1.798         21        320: 100%|██████████| 304/304 [00:51<00:00,  5.93it/s]\n",
      "                 Class     Images  Instances      Box(P          R      mAP50  mAP50-95): 100%|██████████| 26/26 [00:04<00:00,  5.40it/s]"
     ]
    },
    {
     "name": "stdout",
     "output_type": "stream",
     "text": [
      "                   all        608       1164      0.528      0.378        0.4      0.178\n"
     ]
    },
    {
     "name": "stderr",
     "output_type": "stream",
     "text": [
      "\n"
     ]
    },
    {
     "name": "stdout",
     "output_type": "stream",
     "text": [
      "\n",
      "      Epoch    GPU_mem   box_loss   cls_loss   dfl_loss  Instances       Size\n"
     ]
    },
    {
     "name": "stderr",
     "output_type": "stream",
     "text": [
      "      7/100      2.58G      2.008       1.93      1.771         26        320: 100%|██████████| 304/304 [00:51<00:00,  5.89it/s]\n",
      "                 Class     Images  Instances      Box(P          R      mAP50  mAP50-95): 100%|██████████| 26/26 [00:05<00:00,  4.88it/s]\n"
     ]
    },
    {
     "name": "stdout",
     "output_type": "stream",
     "text": [
      "                   all        608       1164      0.552      0.413      0.439        0.2\n",
      "\n",
      "      Epoch    GPU_mem   box_loss   cls_loss   dfl_loss  Instances       Size\n"
     ]
    },
    {
     "name": "stderr",
     "output_type": "stream",
     "text": [
      "      8/100      2.58G      1.973      1.863      1.735         55        320: 100%|██████████| 304/304 [00:52<00:00,  5.81it/s]\n",
      "                 Class     Images  Instances      Box(P          R      mAP50  mAP50-95): 100%|██████████| 26/26 [00:04<00:00,  5.29it/s]"
     ]
    },
    {
     "name": "stdout",
     "output_type": "stream",
     "text": [
      "                   all        608       1164      0.535      0.441      0.453      0.217\n"
     ]
    },
    {
     "name": "stderr",
     "output_type": "stream",
     "text": [
      "\n"
     ]
    },
    {
     "name": "stdout",
     "output_type": "stream",
     "text": [
      "\n",
      "      Epoch    GPU_mem   box_loss   cls_loss   dfl_loss  Instances       Size\n"
     ]
    },
    {
     "name": "stderr",
     "output_type": "stream",
     "text": [
      "      9/100      2.58G      1.966       1.82      1.726         38        320: 100%|██████████| 304/304 [00:51<00:00,  5.90it/s]\n",
      "                 Class     Images  Instances      Box(P          R      mAP50  mAP50-95): 100%|██████████| 26/26 [00:04<00:00,  5.35it/s]"
     ]
    },
    {
     "name": "stdout",
     "output_type": "stream",
     "text": [
      "                   all        608       1164      0.603      0.438      0.478      0.231\n"
     ]
    },
    {
     "name": "stderr",
     "output_type": "stream",
     "text": [
      "\n"
     ]
    },
    {
     "name": "stdout",
     "output_type": "stream",
     "text": [
      "\n",
      "      Epoch    GPU_mem   box_loss   cls_loss   dfl_loss  Instances       Size\n"
     ]
    },
    {
     "name": "stderr",
     "output_type": "stream",
     "text": [
      "     10/100      2.58G      1.925      1.796      1.708         31        320: 100%|██████████| 304/304 [00:51<00:00,  5.88it/s]\n",
      "                 Class     Images  Instances      Box(P          R      mAP50  mAP50-95): 100%|██████████| 26/26 [00:04<00:00,  5.29it/s]"
     ]
    },
    {
     "name": "stdout",
     "output_type": "stream",
     "text": [
      "                   all        608       1164      0.581      0.468      0.514      0.252\n"
     ]
    },
    {
     "name": "stderr",
     "output_type": "stream",
     "text": [
      "\n"
     ]
    },
    {
     "name": "stdout",
     "output_type": "stream",
     "text": [
      "\n",
      "      Epoch    GPU_mem   box_loss   cls_loss   dfl_loss  Instances       Size\n"
     ]
    },
    {
     "name": "stderr",
     "output_type": "stream",
     "text": [
      "     11/100      2.58G      1.914      1.732      1.697         41        320: 100%|██████████| 304/304 [00:52<00:00,  5.81it/s]\n",
      "                 Class     Images  Instances      Box(P          R      mAP50  mAP50-95): 100%|██████████| 26/26 [00:05<00:00,  4.95it/s]"
     ]
    },
    {
     "name": "stdout",
     "output_type": "stream",
     "text": [
      "                   all        608       1164      0.604      0.454      0.493      0.233\n"
     ]
    },
    {
     "name": "stderr",
     "output_type": "stream",
     "text": [
      "\n"
     ]
    },
    {
     "name": "stdout",
     "output_type": "stream",
     "text": [
      "\n",
      "      Epoch    GPU_mem   box_loss   cls_loss   dfl_loss  Instances       Size\n"
     ]
    },
    {
     "name": "stderr",
     "output_type": "stream",
     "text": [
      "     12/100      2.58G      1.872       1.69      1.667         35        320: 100%|██████████| 304/304 [00:51<00:00,  5.87it/s]\n",
      "                 Class     Images  Instances      Box(P          R      mAP50  mAP50-95): 100%|██████████| 26/26 [00:04<00:00,  5.21it/s]"
     ]
    },
    {
     "name": "stdout",
     "output_type": "stream",
     "text": [
      "                   all        608       1164      0.636       0.51      0.555      0.278\n"
     ]
    },
    {
     "name": "stderr",
     "output_type": "stream",
     "text": [
      "\n"
     ]
    },
    {
     "name": "stdout",
     "output_type": "stream",
     "text": [
      "\n",
      "      Epoch    GPU_mem   box_loss   cls_loss   dfl_loss  Instances       Size\n"
     ]
    },
    {
     "name": "stderr",
     "output_type": "stream",
     "text": [
      "     13/100      2.58G      1.855      1.657       1.66         33        320: 100%|██████████| 304/304 [00:51<00:00,  5.94it/s]\n",
      "                 Class     Images  Instances      Box(P          R      mAP50  mAP50-95): 100%|██████████| 26/26 [00:04<00:00,  5.40it/s]"
     ]
    },
    {
     "name": "stdout",
     "output_type": "stream",
     "text": [
      "                   all        608       1164      0.666      0.509      0.582      0.288\n"
     ]
    },
    {
     "name": "stderr",
     "output_type": "stream",
     "text": [
      "\n"
     ]
    },
    {
     "name": "stdout",
     "output_type": "stream",
     "text": [
      "\n",
      "      Epoch    GPU_mem   box_loss   cls_loss   dfl_loss  Instances       Size\n"
     ]
    },
    {
     "name": "stderr",
     "output_type": "stream",
     "text": [
      "     14/100      2.58G      1.812      1.596      1.637         35        320: 100%|██████████| 304/304 [00:50<00:00,  6.00it/s]\n",
      "                 Class     Images  Instances      Box(P          R      mAP50  mAP50-95): 100%|██████████| 26/26 [00:04<00:00,  5.34it/s]"
     ]
    },
    {
     "name": "stdout",
     "output_type": "stream",
     "text": [
      "                   all        608       1164      0.626      0.553      0.612      0.297\n"
     ]
    },
    {
     "name": "stderr",
     "output_type": "stream",
     "text": [
      "\n"
     ]
    },
    {
     "name": "stdout",
     "output_type": "stream",
     "text": [
      "\n",
      "      Epoch    GPU_mem   box_loss   cls_loss   dfl_loss  Instances       Size\n"
     ]
    },
    {
     "name": "stderr",
     "output_type": "stream",
     "text": [
      "     15/100      2.58G      1.789      1.579      1.617         32        320: 100%|██████████| 304/304 [00:51<00:00,  5.91it/s]\n",
      "                 Class     Images  Instances      Box(P          R      mAP50  mAP50-95): 100%|██████████| 26/26 [00:05<00:00,  5.17it/s]"
     ]
    },
    {
     "name": "stdout",
     "output_type": "stream",
     "text": [
      "                   all        608       1164      0.667       0.54      0.587      0.282\n"
     ]
    },
    {
     "name": "stderr",
     "output_type": "stream",
     "text": [
      "\n"
     ]
    },
    {
     "name": "stdout",
     "output_type": "stream",
     "text": [
      "\n",
      "      Epoch    GPU_mem   box_loss   cls_loss   dfl_loss  Instances       Size\n"
     ]
    },
    {
     "name": "stderr",
     "output_type": "stream",
     "text": [
      "     16/100      2.58G      1.778      1.544      1.599         28        320: 100%|██████████| 304/304 [00:52<00:00,  5.84it/s]\n",
      "                 Class     Images  Instances      Box(P          R      mAP50  mAP50-95): 100%|██████████| 26/26 [00:04<00:00,  5.29it/s]"
     ]
    },
    {
     "name": "stdout",
     "output_type": "stream",
     "text": [
      "                   all        608       1164      0.668       0.55      0.604        0.3\n"
     ]
    },
    {
     "name": "stderr",
     "output_type": "stream",
     "text": [
      "\n"
     ]
    },
    {
     "name": "stdout",
     "output_type": "stream",
     "text": [
      "\n",
      "      Epoch    GPU_mem   box_loss   cls_loss   dfl_loss  Instances       Size\n"
     ]
    },
    {
     "name": "stderr",
     "output_type": "stream",
     "text": [
      "     17/100      2.58G      1.762      1.516      1.584         22        320: 100%|██████████| 304/304 [00:51<00:00,  5.89it/s]\n",
      "                 Class     Images  Instances      Box(P          R      mAP50  mAP50-95): 100%|██████████| 26/26 [00:04<00:00,  5.35it/s]"
     ]
    },
    {
     "name": "stdout",
     "output_type": "stream",
     "text": [
      "                   all        608       1164       0.73      0.564      0.654      0.342\n"
     ]
    },
    {
     "name": "stderr",
     "output_type": "stream",
     "text": [
      "\n"
     ]
    },
    {
     "name": "stdout",
     "output_type": "stream",
     "text": [
      "\n",
      "      Epoch    GPU_mem   box_loss   cls_loss   dfl_loss  Instances       Size\n"
     ]
    },
    {
     "name": "stderr",
     "output_type": "stream",
     "text": [
      "     18/100      2.58G      1.774      1.516      1.607         28        320: 100%|██████████| 304/304 [00:50<00:00,  6.04it/s]\n",
      "                 Class     Images  Instances      Box(P          R      mAP50  mAP50-95): 100%|██████████| 26/26 [00:04<00:00,  5.34it/s]"
     ]
    },
    {
     "name": "stdout",
     "output_type": "stream",
     "text": [
      "                   all        608       1164      0.705      0.585      0.662      0.339\n"
     ]
    },
    {
     "name": "stderr",
     "output_type": "stream",
     "text": [
      "\n"
     ]
    },
    {
     "name": "stdout",
     "output_type": "stream",
     "text": [
      "\n",
      "      Epoch    GPU_mem   box_loss   cls_loss   dfl_loss  Instances       Size\n"
     ]
    },
    {
     "name": "stderr",
     "output_type": "stream",
     "text": [
      "     19/100      2.58G      1.745      1.481      1.588         33        320: 100%|██████████| 304/304 [00:50<00:00,  5.97it/s]\n",
      "                 Class     Images  Instances      Box(P          R      mAP50  mAP50-95): 100%|██████████| 26/26 [00:05<00:00,  5.19it/s]"
     ]
    },
    {
     "name": "stdout",
     "output_type": "stream",
     "text": [
      "                   all        608       1164      0.701      0.597      0.677      0.344\n"
     ]
    },
    {
     "name": "stderr",
     "output_type": "stream",
     "text": [
      "\n"
     ]
    },
    {
     "name": "stdout",
     "output_type": "stream",
     "text": [
      "\n",
      "      Epoch    GPU_mem   box_loss   cls_loss   dfl_loss  Instances       Size\n"
     ]
    },
    {
     "name": "stderr",
     "output_type": "stream",
     "text": [
      "     20/100      2.58G      1.722      1.449      1.564         38        320: 100%|██████████| 304/304 [00:52<00:00,  5.82it/s]\n",
      "                 Class     Images  Instances      Box(P          R      mAP50  mAP50-95): 100%|██████████| 26/26 [00:04<00:00,  5.23it/s]"
     ]
    },
    {
     "name": "stdout",
     "output_type": "stream",
     "text": [
      "                   all        608       1164      0.678      0.555       0.63      0.326\n"
     ]
    },
    {
     "name": "stderr",
     "output_type": "stream",
     "text": [
      "\n"
     ]
    },
    {
     "name": "stdout",
     "output_type": "stream",
     "text": [
      "\n",
      "      Epoch    GPU_mem   box_loss   cls_loss   dfl_loss  Instances       Size\n"
     ]
    },
    {
     "name": "stderr",
     "output_type": "stream",
     "text": [
      "     21/100      2.58G      1.721      1.431      1.558         30        320: 100%|██████████| 304/304 [00:51<00:00,  5.89it/s]\n",
      "                 Class     Images  Instances      Box(P          R      mAP50  mAP50-95): 100%|██████████| 26/26 [00:04<00:00,  5.39it/s]"
     ]
    },
    {
     "name": "stdout",
     "output_type": "stream",
     "text": [
      "                   all        608       1164      0.707      0.577      0.666      0.341\n"
     ]
    },
    {
     "name": "stderr",
     "output_type": "stream",
     "text": [
      "\n"
     ]
    },
    {
     "name": "stdout",
     "output_type": "stream",
     "text": [
      "\n",
      "      Epoch    GPU_mem   box_loss   cls_loss   dfl_loss  Instances       Size\n"
     ]
    },
    {
     "name": "stderr",
     "output_type": "stream",
     "text": [
      "     22/100      2.58G      1.722      1.461      1.568         23        320: 100%|██████████| 304/304 [00:52<00:00,  5.75it/s]\n",
      "                 Class     Images  Instances      Box(P          R      mAP50  mAP50-95): 100%|██████████| 26/26 [00:05<00:00,  5.15it/s]"
     ]
    },
    {
     "name": "stdout",
     "output_type": "stream",
     "text": [
      "                   all        608       1164      0.684      0.623      0.677      0.359\n"
     ]
    },
    {
     "name": "stderr",
     "output_type": "stream",
     "text": [
      "\n"
     ]
    },
    {
     "name": "stdout",
     "output_type": "stream",
     "text": [
      "\n",
      "      Epoch    GPU_mem   box_loss   cls_loss   dfl_loss  Instances       Size\n"
     ]
    },
    {
     "name": "stderr",
     "output_type": "stream",
     "text": [
      "     23/100      2.58G      1.686      1.378      1.548         38        320: 100%|██████████| 304/304 [00:52<00:00,  5.81it/s]\n",
      "                 Class     Images  Instances      Box(P          R      mAP50  mAP50-95): 100%|██████████| 26/26 [00:05<00:00,  5.15it/s]"
     ]
    },
    {
     "name": "stdout",
     "output_type": "stream",
     "text": [
      "                   all        608       1164      0.762      0.624      0.712      0.383\n"
     ]
    },
    {
     "name": "stderr",
     "output_type": "stream",
     "text": [
      "\n"
     ]
    },
    {
     "name": "stdout",
     "output_type": "stream",
     "text": [
      "\n",
      "      Epoch    GPU_mem   box_loss   cls_loss   dfl_loss  Instances       Size\n"
     ]
    },
    {
     "name": "stderr",
     "output_type": "stream",
     "text": [
      "     24/100      2.58G      1.673      1.368      1.538         37        320: 100%|██████████| 304/304 [00:51<00:00,  5.93it/s]\n",
      "                 Class     Images  Instances      Box(P          R      mAP50  mAP50-95): 100%|██████████| 26/26 [00:04<00:00,  5.24it/s]"
     ]
    },
    {
     "name": "stdout",
     "output_type": "stream",
     "text": [
      "                   all        608       1164      0.717      0.648      0.707      0.378\n"
     ]
    },
    {
     "name": "stderr",
     "output_type": "stream",
     "text": [
      "\n"
     ]
    },
    {
     "name": "stdout",
     "output_type": "stream",
     "text": [
      "\n",
      "      Epoch    GPU_mem   box_loss   cls_loss   dfl_loss  Instances       Size\n"
     ]
    },
    {
     "name": "stderr",
     "output_type": "stream",
     "text": [
      "     25/100      2.58G      1.654      1.348       1.53         37        320: 100%|██████████| 304/304 [00:51<00:00,  5.90it/s]\n",
      "                 Class     Images  Instances      Box(P          R      mAP50  mAP50-95): 100%|██████████| 26/26 [00:04<00:00,  5.25it/s]"
     ]
    },
    {
     "name": "stdout",
     "output_type": "stream",
     "text": [
      "                   all        608       1164      0.759      0.607      0.706      0.387\n"
     ]
    },
    {
     "name": "stderr",
     "output_type": "stream",
     "text": [
      "\n"
     ]
    },
    {
     "name": "stdout",
     "output_type": "stream",
     "text": [
      "\n",
      "      Epoch    GPU_mem   box_loss   cls_loss   dfl_loss  Instances       Size\n"
     ]
    },
    {
     "name": "stderr",
     "output_type": "stream",
     "text": [
      "     26/100      2.58G      1.645      1.342      1.525         27        320: 100%|██████████| 304/304 [00:49<00:00,  6.09it/s]\n",
      "                 Class     Images  Instances      Box(P          R      mAP50  mAP50-95): 100%|██████████| 26/26 [00:04<00:00,  5.40it/s]"
     ]
    },
    {
     "name": "stdout",
     "output_type": "stream",
     "text": [
      "                   all        608       1164      0.709      0.617      0.677      0.363\n"
     ]
    },
    {
     "name": "stderr",
     "output_type": "stream",
     "text": [
      "\n"
     ]
    },
    {
     "name": "stdout",
     "output_type": "stream",
     "text": [
      "\n",
      "      Epoch    GPU_mem   box_loss   cls_loss   dfl_loss  Instances       Size\n"
     ]
    },
    {
     "name": "stderr",
     "output_type": "stream",
     "text": [
      "     27/100      2.58G      1.639      1.292      1.524         28        320: 100%|██████████| 304/304 [00:50<00:00,  6.01it/s]\n",
      "                 Class     Images  Instances      Box(P          R      mAP50  mAP50-95): 100%|██████████| 26/26 [00:04<00:00,  5.28it/s]"
     ]
    },
    {
     "name": "stdout",
     "output_type": "stream",
     "text": [
      "                   all        608       1164      0.746      0.662      0.743      0.409\n"
     ]
    },
    {
     "name": "stderr",
     "output_type": "stream",
     "text": [
      "\n"
     ]
    },
    {
     "name": "stdout",
     "output_type": "stream",
     "text": [
      "\n",
      "      Epoch    GPU_mem   box_loss   cls_loss   dfl_loss  Instances       Size\n"
     ]
    },
    {
     "name": "stderr",
     "output_type": "stream",
     "text": [
      "     28/100      2.58G      1.628       1.28      1.511         38        320: 100%|██████████| 304/304 [00:51<00:00,  5.85it/s]\n",
      "                 Class     Images  Instances      Box(P          R      mAP50  mAP50-95): 100%|██████████| 26/26 [00:05<00:00,  4.99it/s]"
     ]
    },
    {
     "name": "stdout",
     "output_type": "stream",
     "text": [
      "                   all        608       1164      0.761      0.653      0.733      0.399\n"
     ]
    },
    {
     "name": "stderr",
     "output_type": "stream",
     "text": [
      "\n"
     ]
    },
    {
     "name": "stdout",
     "output_type": "stream",
     "text": [
      "\n",
      "      Epoch    GPU_mem   box_loss   cls_loss   dfl_loss  Instances       Size\n"
     ]
    },
    {
     "name": "stderr",
     "output_type": "stream",
     "text": [
      "     29/100      2.58G      1.615      1.268      1.492         21        320: 100%|██████████| 304/304 [00:51<00:00,  5.85it/s]\n",
      "                 Class     Images  Instances      Box(P          R      mAP50  mAP50-95): 100%|██████████| 26/26 [00:04<00:00,  5.25it/s]"
     ]
    },
    {
     "name": "stdout",
     "output_type": "stream",
     "text": [
      "                   all        608       1164      0.771      0.646      0.752      0.413\n"
     ]
    },
    {
     "name": "stderr",
     "output_type": "stream",
     "text": [
      "\n"
     ]
    },
    {
     "name": "stdout",
     "output_type": "stream",
     "text": [
      "\n",
      "      Epoch    GPU_mem   box_loss   cls_loss   dfl_loss  Instances       Size\n"
     ]
    },
    {
     "name": "stderr",
     "output_type": "stream",
     "text": [
      "     30/100      2.58G        1.6      1.262       1.49         33        320: 100%|██████████| 304/304 [00:49<00:00,  6.08it/s]\n",
      "                 Class     Images  Instances      Box(P          R      mAP50  mAP50-95): 100%|██████████| 26/26 [00:04<00:00,  5.32it/s]"
     ]
    },
    {
     "name": "stdout",
     "output_type": "stream",
     "text": [
      "                   all        608       1164       0.78      0.663      0.748      0.409\n"
     ]
    },
    {
     "name": "stderr",
     "output_type": "stream",
     "text": [
      "\n"
     ]
    },
    {
     "name": "stdout",
     "output_type": "stream",
     "text": [
      "\n",
      "      Epoch    GPU_mem   box_loss   cls_loss   dfl_loss  Instances       Size\n"
     ]
    },
    {
     "name": "stderr",
     "output_type": "stream",
     "text": [
      "     31/100      2.58G      1.598       1.23      1.481         36        320: 100%|██████████| 304/304 [00:50<00:00,  6.00it/s]\n",
      "                 Class     Images  Instances      Box(P          R      mAP50  mAP50-95): 100%|██████████| 26/26 [00:04<00:00,  5.46it/s]"
     ]
    },
    {
     "name": "stdout",
     "output_type": "stream",
     "text": [
      "                   all        608       1164      0.764      0.669      0.758      0.419\n"
     ]
    },
    {
     "name": "stderr",
     "output_type": "stream",
     "text": [
      "\n"
     ]
    },
    {
     "name": "stdout",
     "output_type": "stream",
     "text": [
      "\n",
      "      Epoch    GPU_mem   box_loss   cls_loss   dfl_loss  Instances       Size\n"
     ]
    },
    {
     "name": "stderr",
     "output_type": "stream",
     "text": [
      "     32/100      2.58G       1.59      1.236      1.475         27        320: 100%|██████████| 304/304 [00:51<00:00,  5.86it/s]\n",
      "                 Class     Images  Instances      Box(P          R      mAP50  mAP50-95): 100%|██████████| 26/26 [00:05<00:00,  5.16it/s]"
     ]
    },
    {
     "name": "stdout",
     "output_type": "stream",
     "text": [
      "                   all        608       1164      0.766      0.691      0.766      0.432\n"
     ]
    },
    {
     "name": "stderr",
     "output_type": "stream",
     "text": [
      "\n"
     ]
    },
    {
     "name": "stdout",
     "output_type": "stream",
     "text": [
      "\n",
      "      Epoch    GPU_mem   box_loss   cls_loss   dfl_loss  Instances       Size\n"
     ]
    },
    {
     "name": "stderr",
     "output_type": "stream",
     "text": [
      "     33/100      2.58G       1.57      1.217      1.463         24        320: 100%|██████████| 304/304 [00:51<00:00,  5.87it/s]\n",
      "                 Class     Images  Instances      Box(P          R      mAP50  mAP50-95): 100%|██████████| 26/26 [00:04<00:00,  5.20it/s]"
     ]
    },
    {
     "name": "stdout",
     "output_type": "stream",
     "text": [
      "                   all        608       1164      0.788      0.646      0.758      0.422\n"
     ]
    },
    {
     "name": "stderr",
     "output_type": "stream",
     "text": [
      "\n"
     ]
    },
    {
     "name": "stdout",
     "output_type": "stream",
     "text": [
      "\n",
      "      Epoch    GPU_mem   box_loss   cls_loss   dfl_loss  Instances       Size\n"
     ]
    },
    {
     "name": "stderr",
     "output_type": "stream",
     "text": [
      "     34/100      2.58G      1.551      1.179      1.456         48        320: 100%|██████████| 304/304 [00:50<00:00,  6.04it/s]\n",
      "                 Class     Images  Instances      Box(P          R      mAP50  mAP50-95): 100%|██████████| 26/26 [00:04<00:00,  5.42it/s]"
     ]
    },
    {
     "name": "stdout",
     "output_type": "stream",
     "text": [
      "                   all        608       1164      0.813      0.691      0.789      0.445\n"
     ]
    },
    {
     "name": "stderr",
     "output_type": "stream",
     "text": [
      "\n"
     ]
    },
    {
     "name": "stdout",
     "output_type": "stream",
     "text": [
      "\n",
      "      Epoch    GPU_mem   box_loss   cls_loss   dfl_loss  Instances       Size\n"
     ]
    },
    {
     "name": "stderr",
     "output_type": "stream",
     "text": [
      "     35/100      2.58G      1.559      1.183      1.465         37        320: 100%|██████████| 304/304 [00:50<00:00,  5.99it/s]\n",
      "                 Class     Images  Instances      Box(P          R      mAP50  mAP50-95): 100%|██████████| 26/26 [00:04<00:00,  5.49it/s]"
     ]
    },
    {
     "name": "stdout",
     "output_type": "stream",
     "text": [
      "                   all        608       1164      0.778      0.695      0.784      0.444\n"
     ]
    },
    {
     "name": "stderr",
     "output_type": "stream",
     "text": [
      "\n"
     ]
    },
    {
     "name": "stdout",
     "output_type": "stream",
     "text": [
      "\n",
      "      Epoch    GPU_mem   box_loss   cls_loss   dfl_loss  Instances       Size\n"
     ]
    },
    {
     "name": "stderr",
     "output_type": "stream",
     "text": [
      "     36/100      2.58G      1.549       1.18      1.447         26        320: 100%|██████████| 304/304 [00:51<00:00,  5.92it/s]\n",
      "                 Class     Images  Instances      Box(P          R      mAP50  mAP50-95): 100%|██████████| 26/26 [00:04<00:00,  5.24it/s]"
     ]
    },
    {
     "name": "stdout",
     "output_type": "stream",
     "text": [
      "                   all        608       1164      0.783      0.682      0.772      0.438\n"
     ]
    },
    {
     "name": "stderr",
     "output_type": "stream",
     "text": [
      "\n"
     ]
    },
    {
     "name": "stdout",
     "output_type": "stream",
     "text": [
      "\n",
      "      Epoch    GPU_mem   box_loss   cls_loss   dfl_loss  Instances       Size\n"
     ]
    },
    {
     "name": "stderr",
     "output_type": "stream",
     "text": [
      "     37/100      2.58G      1.529      1.158      1.438         18        320: 100%|██████████| 304/304 [00:51<00:00,  5.88it/s]\n",
      "                 Class     Images  Instances      Box(P          R      mAP50  mAP50-95): 100%|██████████| 26/26 [00:04<00:00,  5.25it/s]"
     ]
    },
    {
     "name": "stdout",
     "output_type": "stream",
     "text": [
      "                   all        608       1164      0.818      0.687      0.793       0.45\n"
     ]
    },
    {
     "name": "stderr",
     "output_type": "stream",
     "text": [
      "\n"
     ]
    },
    {
     "name": "stdout",
     "output_type": "stream",
     "text": [
      "\n",
      "      Epoch    GPU_mem   box_loss   cls_loss   dfl_loss  Instances       Size\n"
     ]
    },
    {
     "name": "stderr",
     "output_type": "stream",
     "text": [
      "     38/100      2.58G      1.535      1.156      1.441         31        320: 100%|██████████| 304/304 [00:51<00:00,  5.94it/s]\n",
      "                 Class     Images  Instances      Box(P          R      mAP50  mAP50-95): 100%|██████████| 26/26 [00:04<00:00,  5.54it/s]"
     ]
    },
    {
     "name": "stdout",
     "output_type": "stream",
     "text": [
      "                   all        608       1164      0.818       0.68      0.787      0.452\n"
     ]
    },
    {
     "name": "stderr",
     "output_type": "stream",
     "text": [
      "\n"
     ]
    },
    {
     "name": "stdout",
     "output_type": "stream",
     "text": [
      "\n",
      "      Epoch    GPU_mem   box_loss   cls_loss   dfl_loss  Instances       Size\n"
     ]
    },
    {
     "name": "stderr",
     "output_type": "stream",
     "text": [
      "     39/100      2.58G      1.511      1.147      1.436         29        320: 100%|██████████| 304/304 [00:50<00:00,  6.06it/s]\n",
      "                 Class     Images  Instances      Box(P          R      mAP50  mAP50-95): 100%|██████████| 26/26 [00:04<00:00,  5.31it/s]"
     ]
    },
    {
     "name": "stdout",
     "output_type": "stream",
     "text": [
      "                   all        608       1164      0.787      0.733      0.809      0.471\n"
     ]
    },
    {
     "name": "stderr",
     "output_type": "stream",
     "text": [
      "\n"
     ]
    },
    {
     "name": "stdout",
     "output_type": "stream",
     "text": [
      "\n",
      "      Epoch    GPU_mem   box_loss   cls_loss   dfl_loss  Instances       Size\n"
     ]
    },
    {
     "name": "stderr",
     "output_type": "stream",
     "text": [
      "     40/100      2.58G      1.518      1.125      1.438         22        320: 100%|██████████| 304/304 [00:50<00:00,  5.97it/s]\n",
      "                 Class     Images  Instances      Box(P          R      mAP50  mAP50-95): 100%|██████████| 26/26 [00:05<00:00,  5.15it/s]"
     ]
    },
    {
     "name": "stdout",
     "output_type": "stream",
     "text": [
      "                   all        608       1164      0.847      0.706      0.819      0.475\n"
     ]
    },
    {
     "name": "stderr",
     "output_type": "stream",
     "text": [
      "\n"
     ]
    },
    {
     "name": "stdout",
     "output_type": "stream",
     "text": [
      "\n",
      "      Epoch    GPU_mem   box_loss   cls_loss   dfl_loss  Instances       Size\n"
     ]
    },
    {
     "name": "stderr",
     "output_type": "stream",
     "text": [
      "     41/100      2.58G      1.506      1.118      1.419         38        320: 100%|██████████| 304/304 [00:51<00:00,  5.85it/s]\n",
      "                 Class     Images  Instances      Box(P          R      mAP50  mAP50-95): 100%|██████████| 26/26 [00:05<00:00,  5.19it/s]"
     ]
    },
    {
     "name": "stdout",
     "output_type": "stream",
     "text": [
      "                   all        608       1164      0.783      0.708      0.798      0.463\n"
     ]
    },
    {
     "name": "stderr",
     "output_type": "stream",
     "text": [
      "\n"
     ]
    },
    {
     "name": "stdout",
     "output_type": "stream",
     "text": [
      "\n",
      "      Epoch    GPU_mem   box_loss   cls_loss   dfl_loss  Instances       Size\n"
     ]
    },
    {
     "name": "stderr",
     "output_type": "stream",
     "text": [
      "     42/100      2.58G      1.488       1.09      1.407         43        320: 100%|██████████| 304/304 [00:51<00:00,  5.91it/s]\n",
      "                 Class     Images  Instances      Box(P          R      mAP50  mAP50-95): 100%|██████████| 26/26 [00:04<00:00,  5.40it/s]"
     ]
    },
    {
     "name": "stdout",
     "output_type": "stream",
     "text": [
      "                   all        608       1164      0.802      0.726      0.809      0.477\n"
     ]
    },
    {
     "name": "stderr",
     "output_type": "stream",
     "text": [
      "\n"
     ]
    },
    {
     "name": "stdout",
     "output_type": "stream",
     "text": [
      "\n",
      "      Epoch    GPU_mem   box_loss   cls_loss   dfl_loss  Instances       Size\n"
     ]
    },
    {
     "name": "stderr",
     "output_type": "stream",
     "text": [
      "     43/100      2.58G      1.458      1.082       1.39         29        320: 100%|██████████| 304/304 [00:49<00:00,  6.11it/s]\n",
      "                 Class     Images  Instances      Box(P          R      mAP50  mAP50-95): 100%|██████████| 26/26 [00:04<00:00,  5.40it/s]"
     ]
    },
    {
     "name": "stdout",
     "output_type": "stream",
     "text": [
      "                   all        608       1164      0.819      0.726      0.812      0.474\n"
     ]
    },
    {
     "name": "stderr",
     "output_type": "stream",
     "text": [
      "\n"
     ]
    },
    {
     "name": "stdout",
     "output_type": "stream",
     "text": [
      "\n",
      "      Epoch    GPU_mem   box_loss   cls_loss   dfl_loss  Instances       Size\n"
     ]
    },
    {
     "name": "stderr",
     "output_type": "stream",
     "text": [
      "     44/100      2.58G      1.468      1.075      1.404         32        320: 100%|██████████| 304/304 [00:50<00:00,  6.00it/s]\n",
      "                 Class     Images  Instances      Box(P          R      mAP50  mAP50-95): 100%|██████████| 26/26 [00:04<00:00,  5.33it/s]"
     ]
    },
    {
     "name": "stdout",
     "output_type": "stream",
     "text": [
      "                   all        608       1164      0.833      0.744      0.842      0.494\n"
     ]
    },
    {
     "name": "stderr",
     "output_type": "stream",
     "text": [
      "\n"
     ]
    },
    {
     "name": "stdout",
     "output_type": "stream",
     "text": [
      "\n",
      "      Epoch    GPU_mem   box_loss   cls_loss   dfl_loss  Instances       Size\n"
     ]
    },
    {
     "name": "stderr",
     "output_type": "stream",
     "text": [
      "     45/100      2.58G      1.461      1.066      1.387         29        320: 100%|██████████| 304/304 [00:52<00:00,  5.81it/s]\n",
      "                 Class     Images  Instances      Box(P          R      mAP50  mAP50-95): 100%|██████████| 26/26 [00:04<00:00,  5.31it/s]"
     ]
    },
    {
     "name": "stdout",
     "output_type": "stream",
     "text": [
      "                   all        608       1164       0.83      0.749      0.829      0.486\n"
     ]
    },
    {
     "name": "stderr",
     "output_type": "stream",
     "text": [
      "\n"
     ]
    },
    {
     "name": "stdout",
     "output_type": "stream",
     "text": [
      "\n",
      "      Epoch    GPU_mem   box_loss   cls_loss   dfl_loss  Instances       Size\n"
     ]
    },
    {
     "name": "stderr",
     "output_type": "stream",
     "text": [
      "     46/100      2.58G      1.436      1.035      1.381         26        320: 100%|██████████| 304/304 [00:51<00:00,  5.90it/s]\n",
      "                 Class     Images  Instances      Box(P          R      mAP50  mAP50-95): 100%|██████████| 26/26 [00:04<00:00,  5.26it/s]"
     ]
    },
    {
     "name": "stdout",
     "output_type": "stream",
     "text": [
      "                   all        608       1164      0.833      0.753      0.834      0.491\n"
     ]
    },
    {
     "name": "stderr",
     "output_type": "stream",
     "text": [
      "\n"
     ]
    },
    {
     "name": "stdout",
     "output_type": "stream",
     "text": [
      "\n",
      "      Epoch    GPU_mem   box_loss   cls_loss   dfl_loss  Instances       Size\n"
     ]
    },
    {
     "name": "stderr",
     "output_type": "stream",
     "text": [
      "     47/100      2.58G      1.451      1.054      1.382         23        320: 100%|██████████| 304/304 [00:49<00:00,  6.12it/s]\n",
      "                 Class     Images  Instances      Box(P          R      mAP50  mAP50-95): 100%|██████████| 26/26 [00:04<00:00,  5.23it/s]"
     ]
    },
    {
     "name": "stdout",
     "output_type": "stream",
     "text": [
      "                   all        608       1164      0.845       0.76      0.854      0.504\n"
     ]
    },
    {
     "name": "stderr",
     "output_type": "stream",
     "text": [
      "\n"
     ]
    },
    {
     "name": "stdout",
     "output_type": "stream",
     "text": [
      "\n",
      "      Epoch    GPU_mem   box_loss   cls_loss   dfl_loss  Instances       Size\n"
     ]
    },
    {
     "name": "stderr",
     "output_type": "stream",
     "text": [
      "     48/100      2.58G       1.42       1.02      1.366         61        320: 100%|██████████| 304/304 [00:50<00:00,  5.99it/s]\n",
      "                 Class     Images  Instances      Box(P          R      mAP50  mAP50-95): 100%|██████████| 26/26 [00:04<00:00,  5.37it/s]"
     ]
    },
    {
     "name": "stdout",
     "output_type": "stream",
     "text": [
      "                   all        608       1164      0.835      0.742      0.837      0.502\n"
     ]
    },
    {
     "name": "stderr",
     "output_type": "stream",
     "text": [
      "\n"
     ]
    },
    {
     "name": "stdout",
     "output_type": "stream",
     "text": [
      "\n",
      "      Epoch    GPU_mem   box_loss   cls_loss   dfl_loss  Instances       Size\n"
     ]
    },
    {
     "name": "stderr",
     "output_type": "stream",
     "text": [
      "     49/100      2.58G      1.421      1.028      1.365         21        320: 100%|██████████| 304/304 [00:51<00:00,  5.89it/s]\n",
      "                 Class     Images  Instances      Box(P          R      mAP50  mAP50-95): 100%|██████████| 26/26 [00:04<00:00,  5.35it/s]"
     ]
    },
    {
     "name": "stdout",
     "output_type": "stream",
     "text": [
      "                   all        608       1164      0.856      0.766      0.863       0.52\n"
     ]
    },
    {
     "name": "stderr",
     "output_type": "stream",
     "text": [
      "\n"
     ]
    },
    {
     "name": "stdout",
     "output_type": "stream",
     "text": [
      "\n",
      "      Epoch    GPU_mem   box_loss   cls_loss   dfl_loss  Instances       Size\n"
     ]
    },
    {
     "name": "stderr",
     "output_type": "stream",
     "text": [
      "     50/100      2.58G      1.428      1.016      1.377         21        320: 100%|██████████| 304/304 [00:51<00:00,  5.91it/s]\n",
      "                 Class     Images  Instances      Box(P          R      mAP50  mAP50-95): 100%|██████████| 26/26 [00:04<00:00,  5.29it/s]"
     ]
    },
    {
     "name": "stdout",
     "output_type": "stream",
     "text": [
      "                   all        608       1164      0.857      0.743      0.852      0.501\n"
     ]
    },
    {
     "name": "stderr",
     "output_type": "stream",
     "text": [
      "\n"
     ]
    },
    {
     "name": "stdout",
     "output_type": "stream",
     "text": [
      "\n",
      "      Epoch    GPU_mem   box_loss   cls_loss   dfl_loss  Instances       Size\n"
     ]
    },
    {
     "name": "stderr",
     "output_type": "stream",
     "text": [
      "     51/100      2.58G      1.395     0.9933      1.345         36        320: 100%|██████████| 304/304 [00:52<00:00,  5.83it/s]\n",
      "                 Class     Images  Instances      Box(P          R      mAP50  mAP50-95): 100%|██████████| 26/26 [00:04<00:00,  5.34it/s]"
     ]
    },
    {
     "name": "stdout",
     "output_type": "stream",
     "text": [
      "                   all        608       1164      0.873      0.761      0.861      0.512\n"
     ]
    },
    {
     "name": "stderr",
     "output_type": "stream",
     "text": [
      "\n"
     ]
    },
    {
     "name": "stdout",
     "output_type": "stream",
     "text": [
      "\n",
      "      Epoch    GPU_mem   box_loss   cls_loss   dfl_loss  Instances       Size\n"
     ]
    },
    {
     "name": "stderr",
     "output_type": "stream",
     "text": [
      "     52/100      2.58G      1.405     0.9816      1.357         37        320: 100%|██████████| 304/304 [00:50<00:00,  6.05it/s]\n",
      "                 Class     Images  Instances      Box(P          R      mAP50  mAP50-95): 100%|██████████| 26/26 [00:04<00:00,  5.40it/s]"
     ]
    },
    {
     "name": "stdout",
     "output_type": "stream",
     "text": [
      "                   all        608       1164      0.864      0.793      0.873      0.527\n"
     ]
    },
    {
     "name": "stderr",
     "output_type": "stream",
     "text": [
      "\n"
     ]
    },
    {
     "name": "stdout",
     "output_type": "stream",
     "text": [
      "\n",
      "      Epoch    GPU_mem   box_loss   cls_loss   dfl_loss  Instances       Size\n"
     ]
    },
    {
     "name": "stderr",
     "output_type": "stream",
     "text": [
      "     53/100      2.58G      1.376     0.9631      1.347         32        320: 100%|██████████| 304/304 [00:51<00:00,  5.86it/s]\n",
      "                 Class     Images  Instances      Box(P          R      mAP50  mAP50-95): 100%|██████████| 26/26 [00:04<00:00,  5.36it/s]"
     ]
    },
    {
     "name": "stdout",
     "output_type": "stream",
     "text": [
      "                   all        608       1164      0.867      0.759      0.858      0.515\n"
     ]
    },
    {
     "name": "stderr",
     "output_type": "stream",
     "text": [
      "\n"
     ]
    },
    {
     "name": "stdout",
     "output_type": "stream",
     "text": [
      "\n",
      "      Epoch    GPU_mem   box_loss   cls_loss   dfl_loss  Instances       Size\n"
     ]
    },
    {
     "name": "stderr",
     "output_type": "stream",
     "text": [
      "     54/100      2.58G       1.39     0.9674      1.353         28        320: 100%|██████████| 304/304 [00:50<00:00,  5.97it/s]\n",
      "                 Class     Images  Instances      Box(P          R      mAP50  mAP50-95): 100%|██████████| 26/26 [00:04<00:00,  5.42it/s]"
     ]
    },
    {
     "name": "stdout",
     "output_type": "stream",
     "text": [
      "                   all        608       1164      0.838      0.804      0.868      0.521\n"
     ]
    },
    {
     "name": "stderr",
     "output_type": "stream",
     "text": [
      "\n"
     ]
    },
    {
     "name": "stdout",
     "output_type": "stream",
     "text": [
      "\n",
      "      Epoch    GPU_mem   box_loss   cls_loss   dfl_loss  Instances       Size\n"
     ]
    },
    {
     "name": "stderr",
     "output_type": "stream",
     "text": [
      "     55/100      2.58G      1.372      0.958      1.336         31        320: 100%|██████████| 304/304 [00:50<00:00,  5.98it/s]\n",
      "                 Class     Images  Instances      Box(P          R      mAP50  mAP50-95): 100%|██████████| 26/26 [00:04<00:00,  5.52it/s]"
     ]
    },
    {
     "name": "stdout",
     "output_type": "stream",
     "text": [
      "                   all        608       1164      0.844      0.769      0.864      0.524\n"
     ]
    },
    {
     "name": "stderr",
     "output_type": "stream",
     "text": [
      "\n"
     ]
    },
    {
     "name": "stdout",
     "output_type": "stream",
     "text": [
      "\n",
      "      Epoch    GPU_mem   box_loss   cls_loss   dfl_loss  Instances       Size\n"
     ]
    },
    {
     "name": "stderr",
     "output_type": "stream",
     "text": [
      "     56/100      2.58G      1.358     0.9419      1.325         21        320: 100%|██████████| 304/304 [00:50<00:00,  6.07it/s]\n",
      "                 Class     Images  Instances      Box(P          R      mAP50  mAP50-95): 100%|██████████| 26/26 [00:04<00:00,  5.58it/s]"
     ]
    },
    {
     "name": "stdout",
     "output_type": "stream",
     "text": [
      "                   all        608       1164      0.851      0.802      0.876      0.535\n"
     ]
    },
    {
     "name": "stderr",
     "output_type": "stream",
     "text": [
      "\n"
     ]
    },
    {
     "name": "stdout",
     "output_type": "stream",
     "text": [
      "\n",
      "      Epoch    GPU_mem   box_loss   cls_loss   dfl_loss  Instances       Size\n"
     ]
    },
    {
     "name": "stderr",
     "output_type": "stream",
     "text": [
      "     57/100      2.58G       1.36     0.9445      1.328         31        320: 100%|██████████| 304/304 [00:50<00:00,  6.03it/s]\n",
      "                 Class     Images  Instances      Box(P          R      mAP50  mAP50-95): 100%|██████████| 26/26 [00:04<00:00,  5.35it/s]"
     ]
    },
    {
     "name": "stdout",
     "output_type": "stream",
     "text": [
      "                   all        608       1164      0.852      0.798      0.872      0.529\n"
     ]
    },
    {
     "name": "stderr",
     "output_type": "stream",
     "text": [
      "\n"
     ]
    },
    {
     "name": "stdout",
     "output_type": "stream",
     "text": [
      "\n",
      "      Epoch    GPU_mem   box_loss   cls_loss   dfl_loss  Instances       Size\n"
     ]
    },
    {
     "name": "stderr",
     "output_type": "stream",
     "text": [
      "     58/100      2.58G      1.344     0.9164      1.315         39        320: 100%|██████████| 304/304 [00:51<00:00,  5.95it/s]\n",
      "                 Class     Images  Instances      Box(P          R      mAP50  mAP50-95): 100%|██████████| 26/26 [00:04<00:00,  5.50it/s]"
     ]
    },
    {
     "name": "stdout",
     "output_type": "stream",
     "text": [
      "                   all        608       1164      0.838      0.818      0.878      0.537\n"
     ]
    },
    {
     "name": "stderr",
     "output_type": "stream",
     "text": [
      "\n"
     ]
    },
    {
     "name": "stdout",
     "output_type": "stream",
     "text": [
      "\n",
      "      Epoch    GPU_mem   box_loss   cls_loss   dfl_loss  Instances       Size\n"
     ]
    },
    {
     "name": "stderr",
     "output_type": "stream",
     "text": [
      "     59/100      2.58G      1.337     0.9135      1.315         43        320: 100%|██████████| 304/304 [00:50<00:00,  5.96it/s]\n",
      "                 Class     Images  Instances      Box(P          R      mAP50  mAP50-95): 100%|██████████| 26/26 [00:04<00:00,  5.58it/s]"
     ]
    },
    {
     "name": "stdout",
     "output_type": "stream",
     "text": [
      "                   all        608       1164      0.847      0.811      0.877       0.54\n"
     ]
    },
    {
     "name": "stderr",
     "output_type": "stream",
     "text": [
      "\n"
     ]
    },
    {
     "name": "stdout",
     "output_type": "stream",
     "text": [
      "\n",
      "      Epoch    GPU_mem   box_loss   cls_loss   dfl_loss  Instances       Size\n"
     ]
    },
    {
     "name": "stderr",
     "output_type": "stream",
     "text": [
      "     60/100      2.58G      1.324     0.9173      1.314         20        320: 100%|██████████| 304/304 [00:49<00:00,  6.17it/s]\n",
      "                 Class     Images  Instances      Box(P          R      mAP50  mAP50-95): 100%|██████████| 26/26 [00:04<00:00,  5.62it/s]"
     ]
    },
    {
     "name": "stdout",
     "output_type": "stream",
     "text": [
      "                   all        608       1164      0.824      0.835      0.882      0.544\n"
     ]
    },
    {
     "name": "stderr",
     "output_type": "stream",
     "text": [
      "\n"
     ]
    },
    {
     "name": "stdout",
     "output_type": "stream",
     "text": [
      "\n",
      "      Epoch    GPU_mem   box_loss   cls_loss   dfl_loss  Instances       Size\n"
     ]
    },
    {
     "name": "stderr",
     "output_type": "stream",
     "text": [
      "     61/100      2.58G      1.315     0.9071      1.299         33        320: 100%|██████████| 304/304 [00:50<00:00,  6.05it/s]\n",
      "                 Class     Images  Instances      Box(P          R      mAP50  mAP50-95): 100%|██████████| 26/26 [00:04<00:00,  5.34it/s]"
     ]
    },
    {
     "name": "stdout",
     "output_type": "stream",
     "text": [
      "                   all        608       1164      0.859      0.818      0.879      0.547\n"
     ]
    },
    {
     "name": "stderr",
     "output_type": "stream",
     "text": [
      "\n"
     ]
    },
    {
     "name": "stdout",
     "output_type": "stream",
     "text": [
      "\n",
      "      Epoch    GPU_mem   box_loss   cls_loss   dfl_loss  Instances       Size\n"
     ]
    },
    {
     "name": "stderr",
     "output_type": "stream",
     "text": [
      "     62/100      2.58G        1.3     0.8692      1.286         35        320: 100%|██████████| 304/304 [00:51<00:00,  5.94it/s]\n",
      "                 Class     Images  Instances      Box(P          R      mAP50  mAP50-95): 100%|██████████| 26/26 [00:04<00:00,  5.37it/s]"
     ]
    },
    {
     "name": "stdout",
     "output_type": "stream",
     "text": [
      "                   all        608       1164      0.864      0.816      0.885      0.556\n"
     ]
    },
    {
     "name": "stderr",
     "output_type": "stream",
     "text": [
      "\n"
     ]
    },
    {
     "name": "stdout",
     "output_type": "stream",
     "text": [
      "\n",
      "      Epoch    GPU_mem   box_loss   cls_loss   dfl_loss  Instances       Size\n"
     ]
    },
    {
     "name": "stderr",
     "output_type": "stream",
     "text": [
      "     63/100      2.58G       1.31     0.8849      1.296         18        320: 100%|██████████| 304/304 [00:50<00:00,  6.00it/s]\n",
      "                 Class     Images  Instances      Box(P          R      mAP50  mAP50-95): 100%|██████████| 26/26 [00:04<00:00,  5.51it/s]"
     ]
    },
    {
     "name": "stdout",
     "output_type": "stream",
     "text": [
      "                   all        608       1164      0.872      0.823      0.888      0.555\n"
     ]
    },
    {
     "name": "stderr",
     "output_type": "stream",
     "text": [
      "\n"
     ]
    },
    {
     "name": "stdout",
     "output_type": "stream",
     "text": [
      "\n",
      "      Epoch    GPU_mem   box_loss   cls_loss   dfl_loss  Instances       Size\n"
     ]
    },
    {
     "name": "stderr",
     "output_type": "stream",
     "text": [
      "     64/100      2.58G      1.315     0.8903      1.297         41        320: 100%|██████████| 304/304 [00:50<00:00,  6.05it/s]\n",
      "                 Class     Images  Instances      Box(P          R      mAP50  mAP50-95): 100%|██████████| 26/26 [00:04<00:00,  5.55it/s]"
     ]
    },
    {
     "name": "stdout",
     "output_type": "stream",
     "text": [
      "                   all        608       1164       0.86      0.839      0.895      0.564\n"
     ]
    },
    {
     "name": "stderr",
     "output_type": "stream",
     "text": [
      "\n"
     ]
    },
    {
     "name": "stdout",
     "output_type": "stream",
     "text": [
      "\n",
      "      Epoch    GPU_mem   box_loss   cls_loss   dfl_loss  Instances       Size\n"
     ]
    },
    {
     "name": "stderr",
     "output_type": "stream",
     "text": [
      "     65/100      2.58G       1.28     0.8534      1.279         32        320: 100%|██████████| 304/304 [00:50<00:00,  6.05it/s]\n",
      "                 Class     Images  Instances      Box(P          R      mAP50  mAP50-95): 100%|██████████| 26/26 [00:04<00:00,  5.54it/s]"
     ]
    },
    {
     "name": "stdout",
     "output_type": "stream",
     "text": [
      "                   all        608       1164      0.863      0.834      0.895      0.561\n"
     ]
    },
    {
     "name": "stderr",
     "output_type": "stream",
     "text": [
      "\n"
     ]
    },
    {
     "name": "stdout",
     "output_type": "stream",
     "text": [
      "\n",
      "      Epoch    GPU_mem   box_loss   cls_loss   dfl_loss  Instances       Size\n"
     ]
    },
    {
     "name": "stderr",
     "output_type": "stream",
     "text": [
      "     66/100      2.58G      1.283     0.8623      1.282         34        320: 100%|██████████| 304/304 [00:51<00:00,  5.93it/s]\n",
      "                 Class     Images  Instances      Box(P          R      mAP50  mAP50-95): 100%|██████████| 26/26 [00:04<00:00,  5.53it/s]"
     ]
    },
    {
     "name": "stdout",
     "output_type": "stream",
     "text": [
      "                   all        608       1164      0.874      0.817      0.891      0.561\n"
     ]
    },
    {
     "name": "stderr",
     "output_type": "stream",
     "text": [
      "\n"
     ]
    },
    {
     "name": "stdout",
     "output_type": "stream",
     "text": [
      "\n",
      "      Epoch    GPU_mem   box_loss   cls_loss   dfl_loss  Instances       Size\n"
     ]
    },
    {
     "name": "stderr",
     "output_type": "stream",
     "text": [
      "     67/100      2.58G      1.275      0.859      1.282         27        320: 100%|██████████| 304/304 [00:50<00:00,  6.00it/s]\n",
      "                 Class     Images  Instances      Box(P          R      mAP50  mAP50-95): 100%|██████████| 26/26 [00:04<00:00,  5.36it/s]"
     ]
    },
    {
     "name": "stdout",
     "output_type": "stream",
     "text": [
      "                   all        608       1164      0.886      0.822      0.896      0.568\n"
     ]
    },
    {
     "name": "stderr",
     "output_type": "stream",
     "text": [
      "\n"
     ]
    },
    {
     "name": "stdout",
     "output_type": "stream",
     "text": [
      "\n",
      "      Epoch    GPU_mem   box_loss   cls_loss   dfl_loss  Instances       Size\n"
     ]
    },
    {
     "name": "stderr",
     "output_type": "stream",
     "text": [
      "     68/100      2.58G       1.27     0.8541      1.273         34        320: 100%|██████████| 304/304 [00:53<00:00,  5.70it/s]\n",
      "                 Class     Images  Instances      Box(P          R      mAP50  mAP50-95): 100%|██████████| 26/26 [00:05<00:00,  5.13it/s]"
     ]
    },
    {
     "name": "stdout",
     "output_type": "stream",
     "text": [
      "                   all        608       1164      0.883      0.811      0.891      0.563\n"
     ]
    },
    {
     "name": "stderr",
     "output_type": "stream",
     "text": [
      "\n"
     ]
    },
    {
     "name": "stdout",
     "output_type": "stream",
     "text": [
      "\n",
      "      Epoch    GPU_mem   box_loss   cls_loss   dfl_loss  Instances       Size\n"
     ]
    },
    {
     "name": "stderr",
     "output_type": "stream",
     "text": [
      "     69/100      2.58G      1.259     0.8365      1.267         41        320: 100%|██████████| 304/304 [00:52<00:00,  5.76it/s]\n",
      "                 Class     Images  Instances      Box(P          R      mAP50  mAP50-95): 100%|██████████| 26/26 [00:04<00:00,  5.51it/s]"
     ]
    },
    {
     "name": "stdout",
     "output_type": "stream",
     "text": [
      "                   all        608       1164      0.881      0.825      0.897      0.573\n"
     ]
    },
    {
     "name": "stderr",
     "output_type": "stream",
     "text": [
      "\n"
     ]
    },
    {
     "name": "stdout",
     "output_type": "stream",
     "text": [
      "\n",
      "      Epoch    GPU_mem   box_loss   cls_loss   dfl_loss  Instances       Size\n"
     ]
    },
    {
     "name": "stderr",
     "output_type": "stream",
     "text": [
      "     70/100      2.58G      1.237     0.8282      1.259         30        320: 100%|██████████| 304/304 [00:53<00:00,  5.73it/s]\n",
      "                 Class     Images  Instances      Box(P          R      mAP50  mAP50-95): 100%|██████████| 26/26 [00:05<00:00,  5.17it/s]"
     ]
    },
    {
     "name": "stdout",
     "output_type": "stream",
     "text": [
      "                   all        608       1164      0.885      0.832      0.899      0.572\n"
     ]
    },
    {
     "name": "stderr",
     "output_type": "stream",
     "text": [
      "\n"
     ]
    },
    {
     "name": "stdout",
     "output_type": "stream",
     "text": [
      "\n",
      "      Epoch    GPU_mem   box_loss   cls_loss   dfl_loss  Instances       Size\n"
     ]
    },
    {
     "name": "stderr",
     "output_type": "stream",
     "text": [
      "     71/100      2.58G      1.249     0.8289      1.256         25        320: 100%|██████████| 304/304 [00:52<00:00,  5.81it/s]\n",
      "                 Class     Images  Instances      Box(P          R      mAP50  mAP50-95): 100%|██████████| 26/26 [00:04<00:00,  5.29it/s]"
     ]
    },
    {
     "name": "stdout",
     "output_type": "stream",
     "text": [
      "                   all        608       1164      0.887      0.824        0.9      0.579\n"
     ]
    },
    {
     "name": "stderr",
     "output_type": "stream",
     "text": [
      "\n"
     ]
    },
    {
     "name": "stdout",
     "output_type": "stream",
     "text": [
      "\n",
      "      Epoch    GPU_mem   box_loss   cls_loss   dfl_loss  Instances       Size\n"
     ]
    },
    {
     "name": "stderr",
     "output_type": "stream",
     "text": [
      "     72/100      2.58G      1.226     0.8183      1.248         42        320: 100%|██████████| 304/304 [00:50<00:00,  6.07it/s]\n",
      "                 Class     Images  Instances      Box(P          R      mAP50  mAP50-95): 100%|██████████| 26/26 [00:04<00:00,  5.58it/s]"
     ]
    },
    {
     "name": "stdout",
     "output_type": "stream",
     "text": [
      "                   all        608       1164      0.894      0.823      0.899      0.583\n"
     ]
    },
    {
     "name": "stderr",
     "output_type": "stream",
     "text": [
      "\n"
     ]
    },
    {
     "name": "stdout",
     "output_type": "stream",
     "text": [
      "\n",
      "      Epoch    GPU_mem   box_loss   cls_loss   dfl_loss  Instances       Size\n"
     ]
    },
    {
     "name": "stderr",
     "output_type": "stream",
     "text": [
      "     73/100      2.58G      1.216     0.8004      1.239         27        320: 100%|██████████| 304/304 [00:50<00:00,  6.05it/s]\n",
      "                 Class     Images  Instances      Box(P          R      mAP50  mAP50-95): 100%|██████████| 26/26 [00:04<00:00,  5.58it/s]"
     ]
    },
    {
     "name": "stdout",
     "output_type": "stream",
     "text": [
      "                   all        608       1164      0.895      0.834      0.898      0.581\n"
     ]
    },
    {
     "name": "stderr",
     "output_type": "stream",
     "text": [
      "\n"
     ]
    },
    {
     "name": "stdout",
     "output_type": "stream",
     "text": [
      "\n",
      "      Epoch    GPU_mem   box_loss   cls_loss   dfl_loss  Instances       Size\n"
     ]
    },
    {
     "name": "stderr",
     "output_type": "stream",
     "text": [
      "     74/100      2.58G      1.214     0.8005       1.23         39        320: 100%|██████████| 304/304 [00:51<00:00,  5.95it/s]\n",
      "                 Class     Images  Instances      Box(P          R      mAP50  mAP50-95): 100%|██████████| 26/26 [00:04<00:00,  5.26it/s]"
     ]
    },
    {
     "name": "stdout",
     "output_type": "stream",
     "text": [
      "                   all        608       1164      0.889      0.833      0.904      0.585\n"
     ]
    },
    {
     "name": "stderr",
     "output_type": "stream",
     "text": [
      "\n"
     ]
    },
    {
     "name": "stdout",
     "output_type": "stream",
     "text": [
      "\n",
      "      Epoch    GPU_mem   box_loss   cls_loss   dfl_loss  Instances       Size\n"
     ]
    },
    {
     "name": "stderr",
     "output_type": "stream",
     "text": [
      "     75/100      2.58G      1.198     0.7996      1.235         41        320: 100%|██████████| 304/304 [00:49<00:00,  6.10it/s]\n",
      "                 Class     Images  Instances      Box(P          R      mAP50  mAP50-95): 100%|██████████| 26/26 [00:04<00:00,  5.47it/s]"
     ]
    },
    {
     "name": "stdout",
     "output_type": "stream",
     "text": [
      "                   all        608       1164      0.891      0.843      0.909      0.587\n"
     ]
    },
    {
     "name": "stderr",
     "output_type": "stream",
     "text": [
      "\n"
     ]
    },
    {
     "name": "stdout",
     "output_type": "stream",
     "text": [
      "\n",
      "      Epoch    GPU_mem   box_loss   cls_loss   dfl_loss  Instances       Size\n"
     ]
    },
    {
     "name": "stderr",
     "output_type": "stream",
     "text": [
      "     76/100      2.58G      1.204     0.7884      1.231         28        320: 100%|██████████| 304/304 [00:50<00:00,  5.99it/s]\n",
      "                 Class     Images  Instances      Box(P          R      mAP50  mAP50-95): 100%|██████████| 26/26 [00:04<00:00,  5.67it/s]"
     ]
    },
    {
     "name": "stdout",
     "output_type": "stream",
     "text": [
      "                   all        608       1164      0.882      0.853      0.907      0.588\n"
     ]
    },
    {
     "name": "stderr",
     "output_type": "stream",
     "text": [
      "\n"
     ]
    },
    {
     "name": "stdout",
     "output_type": "stream",
     "text": [
      "\n",
      "      Epoch    GPU_mem   box_loss   cls_loss   dfl_loss  Instances       Size\n"
     ]
    },
    {
     "name": "stderr",
     "output_type": "stream",
     "text": [
      "     77/100      2.58G      1.196     0.7911       1.23         33        320: 100%|██████████| 304/304 [00:50<00:00,  6.08it/s]\n",
      "                 Class     Images  Instances      Box(P          R      mAP50  mAP50-95): 100%|██████████| 26/26 [00:04<00:00,  5.54it/s]"
     ]
    },
    {
     "name": "stdout",
     "output_type": "stream",
     "text": [
      "                   all        608       1164      0.893      0.857      0.915      0.592\n"
     ]
    },
    {
     "name": "stderr",
     "output_type": "stream",
     "text": [
      "\n"
     ]
    },
    {
     "name": "stdout",
     "output_type": "stream",
     "text": [
      "\n",
      "      Epoch    GPU_mem   box_loss   cls_loss   dfl_loss  Instances       Size\n"
     ]
    },
    {
     "name": "stderr",
     "output_type": "stream",
     "text": [
      "     78/100      2.58G       1.19     0.7799      1.222         20        320: 100%|██████████| 304/304 [00:50<00:00,  6.05it/s]\n",
      "                 Class     Images  Instances      Box(P          R      mAP50  mAP50-95): 100%|██████████| 26/26 [00:04<00:00,  5.33it/s]"
     ]
    },
    {
     "name": "stdout",
     "output_type": "stream",
     "text": [
      "                   all        608       1164      0.886      0.849      0.907      0.586\n"
     ]
    },
    {
     "name": "stderr",
     "output_type": "stream",
     "text": [
      "\n"
     ]
    },
    {
     "name": "stdout",
     "output_type": "stream",
     "text": [
      "\n",
      "      Epoch    GPU_mem   box_loss   cls_loss   dfl_loss  Instances       Size\n"
     ]
    },
    {
     "name": "stderr",
     "output_type": "stream",
     "text": [
      "     79/100      2.58G      1.173       0.76      1.216         21        320: 100%|██████████| 304/304 [00:51<00:00,  5.93it/s]\n",
      "                 Class     Images  Instances      Box(P          R      mAP50  mAP50-95): 100%|██████████| 26/26 [00:04<00:00,  5.47it/s]"
     ]
    },
    {
     "name": "stdout",
     "output_type": "stream",
     "text": [
      "                   all        608       1164      0.906      0.832      0.909      0.595\n"
     ]
    },
    {
     "name": "stderr",
     "output_type": "stream",
     "text": [
      "\n"
     ]
    },
    {
     "name": "stdout",
     "output_type": "stream",
     "text": [
      "\n",
      "      Epoch    GPU_mem   box_loss   cls_loss   dfl_loss  Instances       Size\n"
     ]
    },
    {
     "name": "stderr",
     "output_type": "stream",
     "text": [
      "     80/100      2.58G      1.167      0.757      1.212         28        320: 100%|██████████| 304/304 [00:50<00:00,  5.98it/s]\n",
      "                 Class     Images  Instances      Box(P          R      mAP50  mAP50-95): 100%|██████████| 26/26 [00:04<00:00,  5.60it/s]"
     ]
    },
    {
     "name": "stdout",
     "output_type": "stream",
     "text": [
      "                   all        608       1164      0.896      0.853      0.913      0.597\n"
     ]
    },
    {
     "name": "stderr",
     "output_type": "stream",
     "text": [
      "\n"
     ]
    },
    {
     "name": "stdout",
     "output_type": "stream",
     "text": [
      "\n",
      "      Epoch    GPU_mem   box_loss   cls_loss   dfl_loss  Instances       Size\n"
     ]
    },
    {
     "name": "stderr",
     "output_type": "stream",
     "text": [
      "     81/100      2.58G      1.165     0.7496      1.208         39        320: 100%|██████████| 304/304 [00:49<00:00,  6.15it/s]\n",
      "                 Class     Images  Instances      Box(P          R      mAP50  mAP50-95): 100%|██████████| 26/26 [00:04<00:00,  5.52it/s]"
     ]
    },
    {
     "name": "stdout",
     "output_type": "stream",
     "text": [
      "                   all        608       1164      0.891      0.855      0.914      0.598\n"
     ]
    },
    {
     "name": "stderr",
     "output_type": "stream",
     "text": [
      "\n"
     ]
    },
    {
     "name": "stdout",
     "output_type": "stream",
     "text": [
      "\n",
      "      Epoch    GPU_mem   box_loss   cls_loss   dfl_loss  Instances       Size\n"
     ]
    },
    {
     "name": "stderr",
     "output_type": "stream",
     "text": [
      "     82/100      2.58G      1.163     0.7414        1.2         28        320: 100%|██████████| 304/304 [00:50<00:00,  6.07it/s]\n",
      "                 Class     Images  Instances      Box(P          R      mAP50  mAP50-95): 100%|██████████| 26/26 [00:04<00:00,  5.47it/s]"
     ]
    },
    {
     "name": "stdout",
     "output_type": "stream",
     "text": [
      "                   all        608       1164      0.897      0.849      0.917        0.6\n"
     ]
    },
    {
     "name": "stderr",
     "output_type": "stream",
     "text": [
      "\n"
     ]
    },
    {
     "name": "stdout",
     "output_type": "stream",
     "text": [
      "\n",
      "      Epoch    GPU_mem   box_loss   cls_loss   dfl_loss  Instances       Size\n"
     ]
    },
    {
     "name": "stderr",
     "output_type": "stream",
     "text": [
      "     83/100      2.58G      1.158     0.7539      1.203         26        320: 100%|██████████| 304/304 [00:51<00:00,  5.90it/s]\n",
      "                 Class     Images  Instances      Box(P          R      mAP50  mAP50-95): 100%|██████████| 26/26 [00:04<00:00,  5.49it/s]"
     ]
    },
    {
     "name": "stdout",
     "output_type": "stream",
     "text": [
      "                   all        608       1164        0.9      0.848      0.911      0.602\n"
     ]
    },
    {
     "name": "stderr",
     "output_type": "stream",
     "text": [
      "\n"
     ]
    },
    {
     "name": "stdout",
     "output_type": "stream",
     "text": [
      "\n",
      "      Epoch    GPU_mem   box_loss   cls_loss   dfl_loss  Instances       Size\n"
     ]
    },
    {
     "name": "stderr",
     "output_type": "stream",
     "text": [
      "     84/100      2.58G      1.149     0.7449      1.199         32        320: 100%|██████████| 304/304 [00:51<00:00,  5.94it/s]\n",
      "                 Class     Images  Instances      Box(P          R      mAP50  mAP50-95): 100%|██████████| 26/26 [00:04<00:00,  5.34it/s]"
     ]
    },
    {
     "name": "stdout",
     "output_type": "stream",
     "text": [
      "                   all        608       1164      0.886       0.86      0.914      0.602\n"
     ]
    },
    {
     "name": "stderr",
     "output_type": "stream",
     "text": [
      "\n"
     ]
    },
    {
     "name": "stdout",
     "output_type": "stream",
     "text": [
      "\n",
      "      Epoch    GPU_mem   box_loss   cls_loss   dfl_loss  Instances       Size\n"
     ]
    },
    {
     "name": "stderr",
     "output_type": "stream",
     "text": [
      "     85/100      2.58G      1.134      0.729      1.197         43        320: 100%|██████████| 304/304 [00:49<00:00,  6.11it/s]\n",
      "                 Class     Images  Instances      Box(P          R      mAP50  mAP50-95): 100%|██████████| 26/26 [00:04<00:00,  5.47it/s]"
     ]
    },
    {
     "name": "stdout",
     "output_type": "stream",
     "text": [
      "                   all        608       1164      0.886      0.865      0.916       0.61\n"
     ]
    },
    {
     "name": "stderr",
     "output_type": "stream",
     "text": [
      "\n"
     ]
    },
    {
     "name": "stdout",
     "output_type": "stream",
     "text": [
      "\n",
      "      Epoch    GPU_mem   box_loss   cls_loss   dfl_loss  Instances       Size\n"
     ]
    },
    {
     "name": "stderr",
     "output_type": "stream",
     "text": [
      "     86/100      2.58G      1.139     0.7288      1.192         29        320: 100%|██████████| 304/304 [00:50<00:00,  6.00it/s]\n",
      "                 Class     Images  Instances      Box(P          R      mAP50  mAP50-95): 100%|██████████| 26/26 [00:04<00:00,  5.62it/s]"
     ]
    },
    {
     "name": "stdout",
     "output_type": "stream",
     "text": [
      "                   all        608       1164      0.896      0.863      0.919      0.605\n"
     ]
    },
    {
     "name": "stderr",
     "output_type": "stream",
     "text": [
      "\n"
     ]
    },
    {
     "name": "stdout",
     "output_type": "stream",
     "text": [
      "\n",
      "      Epoch    GPU_mem   box_loss   cls_loss   dfl_loss  Instances       Size\n"
     ]
    },
    {
     "name": "stderr",
     "output_type": "stream",
     "text": [
      "     87/100      2.58G      1.122     0.7132      1.184         27        320: 100%|██████████| 304/304 [00:51<00:00,  5.95it/s]\n",
      "                 Class     Images  Instances      Box(P          R      mAP50  mAP50-95): 100%|██████████| 26/26 [00:04<00:00,  5.39it/s]"
     ]
    },
    {
     "name": "stdout",
     "output_type": "stream",
     "text": [
      "                   all        608       1164      0.897       0.87      0.921      0.609\n"
     ]
    },
    {
     "name": "stderr",
     "output_type": "stream",
     "text": [
      "\n"
     ]
    },
    {
     "name": "stdout",
     "output_type": "stream",
     "text": [
      "\n",
      "      Epoch    GPU_mem   box_loss   cls_loss   dfl_loss  Instances       Size\n"
     ]
    },
    {
     "name": "stderr",
     "output_type": "stream",
     "text": [
      "     88/100      2.58G      1.119     0.7134      1.187         26        320: 100%|██████████| 304/304 [00:50<00:00,  5.97it/s]\n",
      "                 Class     Images  Instances      Box(P          R      mAP50  mAP50-95): 100%|██████████| 26/26 [00:04<00:00,  5.42it/s]"
     ]
    },
    {
     "name": "stdout",
     "output_type": "stream",
     "text": [
      "                   all        608       1164      0.884      0.881      0.918      0.613\n"
     ]
    },
    {
     "name": "stderr",
     "output_type": "stream",
     "text": [
      "\n"
     ]
    },
    {
     "name": "stdout",
     "output_type": "stream",
     "text": [
      "\n",
      "      Epoch    GPU_mem   box_loss   cls_loss   dfl_loss  Instances       Size\n"
     ]
    },
    {
     "name": "stderr",
     "output_type": "stream",
     "text": [
      "     89/100      2.58G      1.113     0.7122      1.181         42        320: 100%|██████████| 304/304 [00:50<00:00,  6.03it/s]\n",
      "                 Class     Images  Instances      Box(P          R      mAP50  mAP50-95): 100%|██████████| 26/26 [00:04<00:00,  5.49it/s]"
     ]
    },
    {
     "name": "stdout",
     "output_type": "stream",
     "text": [
      "                   all        608       1164      0.894      0.875      0.919      0.614\n"
     ]
    },
    {
     "name": "stderr",
     "output_type": "stream",
     "text": [
      "\n"
     ]
    },
    {
     "name": "stdout",
     "output_type": "stream",
     "text": [
      "\n",
      "      Epoch    GPU_mem   box_loss   cls_loss   dfl_loss  Instances       Size\n"
     ]
    },
    {
     "name": "stderr",
     "output_type": "stream",
     "text": [
      "     90/100      2.58G      1.097     0.6987      1.177         29        320: 100%|██████████| 304/304 [00:50<00:00,  6.05it/s]\n",
      "                 Class     Images  Instances      Box(P          R      mAP50  mAP50-95): 100%|██████████| 26/26 [00:04<00:00,  5.61it/s]"
     ]
    },
    {
     "name": "stdout",
     "output_type": "stream",
     "text": [
      "                   all        608       1164       0.89       0.87      0.916      0.618\n"
     ]
    },
    {
     "name": "stderr",
     "output_type": "stream",
     "text": [
      "\n"
     ]
    },
    {
     "name": "stdout",
     "output_type": "stream",
     "text": [
      "Closing dataloader mosaic\n",
      "\n",
      "      Epoch    GPU_mem   box_loss   cls_loss   dfl_loss  Instances       Size\n"
     ]
    },
    {
     "name": "stderr",
     "output_type": "stream",
     "text": [
      "     91/100      2.58G      1.053     0.6166      1.163         29        320: 100%|██████████| 304/304 [00:52<00:00,  5.83it/s]\n",
      "                 Class     Images  Instances      Box(P          R      mAP50  mAP50-95): 100%|██████████| 26/26 [00:04<00:00,  5.41it/s]"
     ]
    },
    {
     "name": "stdout",
     "output_type": "stream",
     "text": [
      "                   all        608       1164      0.881      0.873      0.918       0.61\n"
     ]
    },
    {
     "name": "stderr",
     "output_type": "stream",
     "text": [
      "\n"
     ]
    },
    {
     "name": "stdout",
     "output_type": "stream",
     "text": [
      "\n",
      "      Epoch    GPU_mem   box_loss   cls_loss   dfl_loss  Instances       Size\n"
     ]
    },
    {
     "name": "stderr",
     "output_type": "stream",
     "text": [
      "     92/100      2.58G      1.031     0.5821      1.156         14        320: 100%|██████████| 304/304 [00:50<00:00,  6.00it/s]\n",
      "                 Class     Images  Instances      Box(P          R      mAP50  mAP50-95): 100%|██████████| 26/26 [00:04<00:00,  5.37it/s]"
     ]
    },
    {
     "name": "stdout",
     "output_type": "stream",
     "text": [
      "                   all        608       1164      0.896      0.873      0.921      0.618\n"
     ]
    },
    {
     "name": "stderr",
     "output_type": "stream",
     "text": [
      "\n"
     ]
    },
    {
     "name": "stdout",
     "output_type": "stream",
     "text": [
      "\n",
      "      Epoch    GPU_mem   box_loss   cls_loss   dfl_loss  Instances       Size\n"
     ]
    },
    {
     "name": "stderr",
     "output_type": "stream",
     "text": [
      "     93/100      2.58G      1.011     0.5747      1.139         32        320: 100%|██████████| 304/304 [00:49<00:00,  6.13it/s]\n",
      "                 Class     Images  Instances      Box(P          R      mAP50  mAP50-95): 100%|██████████| 26/26 [00:04<00:00,  5.67it/s]"
     ]
    },
    {
     "name": "stdout",
     "output_type": "stream",
     "text": [
      "                   all        608       1164      0.893      0.875      0.923      0.617\n"
     ]
    },
    {
     "name": "stderr",
     "output_type": "stream",
     "text": [
      "\n"
     ]
    },
    {
     "name": "stdout",
     "output_type": "stream",
     "text": [
      "\n",
      "      Epoch    GPU_mem   box_loss   cls_loss   dfl_loss  Instances       Size\n"
     ]
    },
    {
     "name": "stderr",
     "output_type": "stream",
     "text": [
      "     94/100      2.58G      1.019     0.5791      1.141         22        320: 100%|██████████| 304/304 [00:50<00:00,  6.05it/s]\n",
      "                 Class     Images  Instances      Box(P          R      mAP50  mAP50-95): 100%|██████████| 26/26 [00:04<00:00,  5.50it/s]"
     ]
    },
    {
     "name": "stdout",
     "output_type": "stream",
     "text": [
      "                   all        608       1164      0.923      0.855      0.926      0.617\n"
     ]
    },
    {
     "name": "stderr",
     "output_type": "stream",
     "text": [
      "\n"
     ]
    },
    {
     "name": "stdout",
     "output_type": "stream",
     "text": [
      "\n",
      "      Epoch    GPU_mem   box_loss   cls_loss   dfl_loss  Instances       Size\n"
     ]
    },
    {
     "name": "stderr",
     "output_type": "stream",
     "text": [
      "     95/100      2.58G      1.005     0.5656      1.138         15        320: 100%|██████████| 304/304 [00:50<00:00,  5.98it/s]\n",
      "                 Class     Images  Instances      Box(P          R      mAP50  mAP50-95): 100%|██████████| 26/26 [00:04<00:00,  5.33it/s]"
     ]
    },
    {
     "name": "stdout",
     "output_type": "stream",
     "text": [
      "                   all        608       1164      0.895      0.887      0.931      0.623\n"
     ]
    },
    {
     "name": "stderr",
     "output_type": "stream",
     "text": [
      "\n"
     ]
    },
    {
     "name": "stdout",
     "output_type": "stream",
     "text": [
      "\n",
      "      Epoch    GPU_mem   box_loss   cls_loss   dfl_loss  Instances       Size\n"
     ]
    },
    {
     "name": "stderr",
     "output_type": "stream",
     "text": [
      "     96/100      2.58G     0.9973      0.561      1.133         19        320: 100%|██████████| 304/304 [00:50<00:00,  6.01it/s]\n",
      "                 Class     Images  Instances      Box(P          R      mAP50  mAP50-95): 100%|██████████| 26/26 [00:04<00:00,  5.47it/s]"
     ]
    },
    {
     "name": "stdout",
     "output_type": "stream",
     "text": [
      "                   all        608       1164      0.897      0.891      0.932      0.623\n"
     ]
    },
    {
     "name": "stderr",
     "output_type": "stream",
     "text": [
      "\n"
     ]
    },
    {
     "name": "stdout",
     "output_type": "stream",
     "text": [
      "\n",
      "      Epoch    GPU_mem   box_loss   cls_loss   dfl_loss  Instances       Size\n"
     ]
    },
    {
     "name": "stderr",
     "output_type": "stream",
     "text": [
      "     97/100      2.58G     0.9841     0.5514      1.122         22        320: 100%|██████████| 304/304 [00:50<00:00,  6.06it/s]\n",
      "                 Class     Images  Instances      Box(P          R      mAP50  mAP50-95): 100%|██████████| 26/26 [00:04<00:00,  5.58it/s]"
     ]
    },
    {
     "name": "stdout",
     "output_type": "stream",
     "text": [
      "                   all        608       1164      0.909      0.885      0.932      0.626\n"
     ]
    },
    {
     "name": "stderr",
     "output_type": "stream",
     "text": [
      "\n"
     ]
    },
    {
     "name": "stdout",
     "output_type": "stream",
     "text": [
      "\n",
      "      Epoch    GPU_mem   box_loss   cls_loss   dfl_loss  Instances       Size\n"
     ]
    },
    {
     "name": "stderr",
     "output_type": "stream",
     "text": [
      "     98/100      2.58G      0.985     0.5493      1.122         12        320: 100%|██████████| 304/304 [00:50<00:00,  6.04it/s]\n",
      "                 Class     Images  Instances      Box(P          R      mAP50  mAP50-95): 100%|██████████| 26/26 [00:04<00:00,  5.47it/s]"
     ]
    },
    {
     "name": "stdout",
     "output_type": "stream",
     "text": [
      "                   all        608       1164      0.901      0.893      0.931      0.627\n"
     ]
    },
    {
     "name": "stderr",
     "output_type": "stream",
     "text": [
      "\n"
     ]
    },
    {
     "name": "stdout",
     "output_type": "stream",
     "text": [
      "\n",
      "      Epoch    GPU_mem   box_loss   cls_loss   dfl_loss  Instances       Size\n"
     ]
    },
    {
     "name": "stderr",
     "output_type": "stream",
     "text": [
      "     99/100      2.58G     0.9659     0.5412      1.119         21        320: 100%|██████████| 304/304 [00:50<00:00,  6.05it/s]\n",
      "                 Class     Images  Instances      Box(P          R      mAP50  mAP50-95): 100%|██████████| 26/26 [00:04<00:00,  5.23it/s]"
     ]
    },
    {
     "name": "stdout",
     "output_type": "stream",
     "text": [
      "                   all        608       1164      0.907      0.892      0.933      0.629\n"
     ]
    },
    {
     "name": "stderr",
     "output_type": "stream",
     "text": [
      "\n"
     ]
    },
    {
     "name": "stdout",
     "output_type": "stream",
     "text": [
      "\n",
      "      Epoch    GPU_mem   box_loss   cls_loss   dfl_loss  Instances       Size\n"
     ]
    },
    {
     "name": "stderr",
     "output_type": "stream",
     "text": [
      "    100/100      2.58G     0.9721     0.5415      1.113         19        320: 100%|██████████| 304/304 [00:50<00:00,  5.97it/s]\n",
      "                 Class     Images  Instances      Box(P          R      mAP50  mAP50-95): 100%|██████████| 26/26 [00:04<00:00,  5.36it/s]"
     ]
    },
    {
     "name": "stdout",
     "output_type": "stream",
     "text": [
      "                   all        608       1164      0.906      0.891      0.933       0.63\n"
     ]
    },
    {
     "name": "stderr",
     "output_type": "stream",
     "text": [
      "\n"
     ]
    },
    {
     "name": "stdout",
     "output_type": "stream",
     "text": [
      "\n",
      "100 epochs completed in 1.590 hours.\n",
      "Optimizer stripped from model_out\\train\\weights\\last.pt, 40.5MB\n",
      "Optimizer stripped from model_out\\train\\weights\\best.pt, 40.5MB\n",
      "\n",
      "Validating model_out\\train\\weights\\best.pt...\n",
      "Ultralytics 8.3.91  Python-3.12.3 torch-2.5.1 CUDA:0 (NVIDIA GeForce RTX 4050 Laptop GPU, 6141MiB)\n",
      "YOLO11m summary (fused): 125 layers, 20,030,803 parameters, 0 gradients, 67.6 GFLOPs\n"
     ]
    },
    {
     "name": "stderr",
     "output_type": "stream",
     "text": [
      "                 Class     Images  Instances      Box(P          R      mAP50  mAP50-95): 100%|██████████| 26/26 [00:05<00:00,  5.01it/s]\n"
     ]
    },
    {
     "name": "stdout",
     "output_type": "stream",
     "text": [
      "                   all        608       1164      0.906      0.891      0.933      0.629\n",
      "Speed: 0.1ms preprocess, 3.1ms inference, 0.0ms loss, 1.3ms postprocess per image\n",
      "Results saved to \u001b[1mmodel_out\\train\u001b[0m\n"
     ]
    },
    {
     "data": {
      "text/plain": [
       "ultralytics.utils.metrics.DetMetrics object with attributes:\n",
       "\n",
       "ap_class_index: array([0])\n",
       "box: ultralytics.utils.metrics.Metric object\n",
       "confusion_matrix: <ultralytics.utils.metrics.ConfusionMatrix object at 0x00000201ABA75370>\n",
       "curves: ['Precision-Recall(B)', 'F1-Confidence(B)', 'Precision-Confidence(B)', 'Recall-Confidence(B)']\n",
       "curves_results: [[array([          0,    0.001001,    0.002002,    0.003003,    0.004004,    0.005005,    0.006006,    0.007007,    0.008008,    0.009009,     0.01001,    0.011011,    0.012012,    0.013013,    0.014014,    0.015015,    0.016016,    0.017017,    0.018018,    0.019019,     0.02002,    0.021021,    0.022022,    0.023023,\n",
       "          0.024024,    0.025025,    0.026026,    0.027027,    0.028028,    0.029029,     0.03003,    0.031031,    0.032032,    0.033033,    0.034034,    0.035035,    0.036036,    0.037037,    0.038038,    0.039039,     0.04004,    0.041041,    0.042042,    0.043043,    0.044044,    0.045045,    0.046046,    0.047047,\n",
       "          0.048048,    0.049049,     0.05005,    0.051051,    0.052052,    0.053053,    0.054054,    0.055055,    0.056056,    0.057057,    0.058058,    0.059059,     0.06006,    0.061061,    0.062062,    0.063063,    0.064064,    0.065065,    0.066066,    0.067067,    0.068068,    0.069069,     0.07007,    0.071071,\n",
       "          0.072072,    0.073073,    0.074074,    0.075075,    0.076076,    0.077077,    0.078078,    0.079079,     0.08008,    0.081081,    0.082082,    0.083083,    0.084084,    0.085085,    0.086086,    0.087087,    0.088088,    0.089089,     0.09009,    0.091091,    0.092092,    0.093093,    0.094094,    0.095095,\n",
       "          0.096096,    0.097097,    0.098098,    0.099099,      0.1001,      0.1011,      0.1021,      0.1031,      0.1041,     0.10511,     0.10611,     0.10711,     0.10811,     0.10911,     0.11011,     0.11111,     0.11211,     0.11311,     0.11411,     0.11512,     0.11612,     0.11712,     0.11812,     0.11912,\n",
       "           0.12012,     0.12112,     0.12212,     0.12312,     0.12412,     0.12513,     0.12613,     0.12713,     0.12813,     0.12913,     0.13013,     0.13113,     0.13213,     0.13313,     0.13413,     0.13514,     0.13614,     0.13714,     0.13814,     0.13914,     0.14014,     0.14114,     0.14214,     0.14314,\n",
       "           0.14414,     0.14515,     0.14615,     0.14715,     0.14815,     0.14915,     0.15015,     0.15115,     0.15215,     0.15315,     0.15415,     0.15516,     0.15616,     0.15716,     0.15816,     0.15916,     0.16016,     0.16116,     0.16216,     0.16316,     0.16416,     0.16517,     0.16617,     0.16717,\n",
       "           0.16817,     0.16917,     0.17017,     0.17117,     0.17217,     0.17317,     0.17417,     0.17518,     0.17618,     0.17718,     0.17818,     0.17918,     0.18018,     0.18118,     0.18218,     0.18318,     0.18418,     0.18519,     0.18619,     0.18719,     0.18819,     0.18919,     0.19019,     0.19119,\n",
       "           0.19219,     0.19319,     0.19419,      0.1952,      0.1962,      0.1972,      0.1982,      0.1992,      0.2002,      0.2012,      0.2022,      0.2032,      0.2042,     0.20521,     0.20621,     0.20721,     0.20821,     0.20921,     0.21021,     0.21121,     0.21221,     0.21321,     0.21421,     0.21522,\n",
       "           0.21622,     0.21722,     0.21822,     0.21922,     0.22022,     0.22122,     0.22222,     0.22322,     0.22422,     0.22523,     0.22623,     0.22723,     0.22823,     0.22923,     0.23023,     0.23123,     0.23223,     0.23323,     0.23423,     0.23524,     0.23624,     0.23724,     0.23824,     0.23924,\n",
       "           0.24024,     0.24124,     0.24224,     0.24324,     0.24424,     0.24525,     0.24625,     0.24725,     0.24825,     0.24925,     0.25025,     0.25125,     0.25225,     0.25325,     0.25425,     0.25526,     0.25626,     0.25726,     0.25826,     0.25926,     0.26026,     0.26126,     0.26226,     0.26326,\n",
       "           0.26426,     0.26527,     0.26627,     0.26727,     0.26827,     0.26927,     0.27027,     0.27127,     0.27227,     0.27327,     0.27427,     0.27528,     0.27628,     0.27728,     0.27828,     0.27928,     0.28028,     0.28128,     0.28228,     0.28328,     0.28428,     0.28529,     0.28629,     0.28729,\n",
       "           0.28829,     0.28929,     0.29029,     0.29129,     0.29229,     0.29329,     0.29429,      0.2953,      0.2963,      0.2973,      0.2983,      0.2993,      0.3003,      0.3013,      0.3023,      0.3033,      0.3043,     0.30531,     0.30631,     0.30731,     0.30831,     0.30931,     0.31031,     0.31131,\n",
       "           0.31231,     0.31331,     0.31431,     0.31532,     0.31632,     0.31732,     0.31832,     0.31932,     0.32032,     0.32132,     0.32232,     0.32332,     0.32432,     0.32533,     0.32633,     0.32733,     0.32833,     0.32933,     0.33033,     0.33133,     0.33233,     0.33333,     0.33433,     0.33534,\n",
       "           0.33634,     0.33734,     0.33834,     0.33934,     0.34034,     0.34134,     0.34234,     0.34334,     0.34434,     0.34535,     0.34635,     0.34735,     0.34835,     0.34935,     0.35035,     0.35135,     0.35235,     0.35335,     0.35435,     0.35536,     0.35636,     0.35736,     0.35836,     0.35936,\n",
       "           0.36036,     0.36136,     0.36236,     0.36336,     0.36436,     0.36537,     0.36637,     0.36737,     0.36837,     0.36937,     0.37037,     0.37137,     0.37237,     0.37337,     0.37437,     0.37538,     0.37638,     0.37738,     0.37838,     0.37938,     0.38038,     0.38138,     0.38238,     0.38338,\n",
       "           0.38438,     0.38539,     0.38639,     0.38739,     0.38839,     0.38939,     0.39039,     0.39139,     0.39239,     0.39339,     0.39439,      0.3954,      0.3964,      0.3974,      0.3984,      0.3994,      0.4004,      0.4014,      0.4024,      0.4034,      0.4044,     0.40541,     0.40641,     0.40741,\n",
       "           0.40841,     0.40941,     0.41041,     0.41141,     0.41241,     0.41341,     0.41441,     0.41542,     0.41642,     0.41742,     0.41842,     0.41942,     0.42042,     0.42142,     0.42242,     0.42342,     0.42442,     0.42543,     0.42643,     0.42743,     0.42843,     0.42943,     0.43043,     0.43143,\n",
       "           0.43243,     0.43343,     0.43443,     0.43544,     0.43644,     0.43744,     0.43844,     0.43944,     0.44044,     0.44144,     0.44244,     0.44344,     0.44444,     0.44545,     0.44645,     0.44745,     0.44845,     0.44945,     0.45045,     0.45145,     0.45245,     0.45345,     0.45445,     0.45546,\n",
       "           0.45646,     0.45746,     0.45846,     0.45946,     0.46046,     0.46146,     0.46246,     0.46346,     0.46446,     0.46547,     0.46647,     0.46747,     0.46847,     0.46947,     0.47047,     0.47147,     0.47247,     0.47347,     0.47447,     0.47548,     0.47648,     0.47748,     0.47848,     0.47948,\n",
       "           0.48048,     0.48148,     0.48248,     0.48348,     0.48448,     0.48549,     0.48649,     0.48749,     0.48849,     0.48949,     0.49049,     0.49149,     0.49249,     0.49349,     0.49449,      0.4955,      0.4965,      0.4975,      0.4985,      0.4995,      0.5005,      0.5015,      0.5025,      0.5035,\n",
       "            0.5045,     0.50551,     0.50651,     0.50751,     0.50851,     0.50951,     0.51051,     0.51151,     0.51251,     0.51351,     0.51451,     0.51552,     0.51652,     0.51752,     0.51852,     0.51952,     0.52052,     0.52152,     0.52252,     0.52352,     0.52452,     0.52553,     0.52653,     0.52753,\n",
       "           0.52853,     0.52953,     0.53053,     0.53153,     0.53253,     0.53353,     0.53453,     0.53554,     0.53654,     0.53754,     0.53854,     0.53954,     0.54054,     0.54154,     0.54254,     0.54354,     0.54454,     0.54555,     0.54655,     0.54755,     0.54855,     0.54955,     0.55055,     0.55155,\n",
       "           0.55255,     0.55355,     0.55455,     0.55556,     0.55656,     0.55756,     0.55856,     0.55956,     0.56056,     0.56156,     0.56256,     0.56356,     0.56456,     0.56557,     0.56657,     0.56757,     0.56857,     0.56957,     0.57057,     0.57157,     0.57257,     0.57357,     0.57457,     0.57558,\n",
       "           0.57658,     0.57758,     0.57858,     0.57958,     0.58058,     0.58158,     0.58258,     0.58358,     0.58458,     0.58559,     0.58659,     0.58759,     0.58859,     0.58959,     0.59059,     0.59159,     0.59259,     0.59359,     0.59459,      0.5956,      0.5966,      0.5976,      0.5986,      0.5996,\n",
       "            0.6006,      0.6016,      0.6026,      0.6036,      0.6046,     0.60561,     0.60661,     0.60761,     0.60861,     0.60961,     0.61061,     0.61161,     0.61261,     0.61361,     0.61461,     0.61562,     0.61662,     0.61762,     0.61862,     0.61962,     0.62062,     0.62162,     0.62262,     0.62362,\n",
       "           0.62462,     0.62563,     0.62663,     0.62763,     0.62863,     0.62963,     0.63063,     0.63163,     0.63263,     0.63363,     0.63463,     0.63564,     0.63664,     0.63764,     0.63864,     0.63964,     0.64064,     0.64164,     0.64264,     0.64364,     0.64464,     0.64565,     0.64665,     0.64765,\n",
       "           0.64865,     0.64965,     0.65065,     0.65165,     0.65265,     0.65365,     0.65465,     0.65566,     0.65666,     0.65766,     0.65866,     0.65966,     0.66066,     0.66166,     0.66266,     0.66366,     0.66466,     0.66567,     0.66667,     0.66767,     0.66867,     0.66967,     0.67067,     0.67167,\n",
       "           0.67267,     0.67367,     0.67467,     0.67568,     0.67668,     0.67768,     0.67868,     0.67968,     0.68068,     0.68168,     0.68268,     0.68368,     0.68468,     0.68569,     0.68669,     0.68769,     0.68869,     0.68969,     0.69069,     0.69169,     0.69269,     0.69369,     0.69469,      0.6957,\n",
       "            0.6967,      0.6977,      0.6987,      0.6997,      0.7007,      0.7017,      0.7027,      0.7037,      0.7047,     0.70571,     0.70671,     0.70771,     0.70871,     0.70971,     0.71071,     0.71171,     0.71271,     0.71371,     0.71471,     0.71572,     0.71672,     0.71772,     0.71872,     0.71972,\n",
       "           0.72072,     0.72172,     0.72272,     0.72372,     0.72472,     0.72573,     0.72673,     0.72773,     0.72873,     0.72973,     0.73073,     0.73173,     0.73273,     0.73373,     0.73473,     0.73574,     0.73674,     0.73774,     0.73874,     0.73974,     0.74074,     0.74174,     0.74274,     0.74374,\n",
       "           0.74474,     0.74575,     0.74675,     0.74775,     0.74875,     0.74975,     0.75075,     0.75175,     0.75275,     0.75375,     0.75475,     0.75576,     0.75676,     0.75776,     0.75876,     0.75976,     0.76076,     0.76176,     0.76276,     0.76376,     0.76476,     0.76577,     0.76677,     0.76777,\n",
       "           0.76877,     0.76977,     0.77077,     0.77177,     0.77277,     0.77377,     0.77477,     0.77578,     0.77678,     0.77778,     0.77878,     0.77978,     0.78078,     0.78178,     0.78278,     0.78378,     0.78478,     0.78579,     0.78679,     0.78779,     0.78879,     0.78979,     0.79079,     0.79179,\n",
       "           0.79279,     0.79379,     0.79479,      0.7958,      0.7968,      0.7978,      0.7988,      0.7998,      0.8008,      0.8018,      0.8028,      0.8038,      0.8048,     0.80581,     0.80681,     0.80781,     0.80881,     0.80981,     0.81081,     0.81181,     0.81281,     0.81381,     0.81481,     0.81582,\n",
       "           0.81682,     0.81782,     0.81882,     0.81982,     0.82082,     0.82182,     0.82282,     0.82382,     0.82482,     0.82583,     0.82683,     0.82783,     0.82883,     0.82983,     0.83083,     0.83183,     0.83283,     0.83383,     0.83483,     0.83584,     0.83684,     0.83784,     0.83884,     0.83984,\n",
       "           0.84084,     0.84184,     0.84284,     0.84384,     0.84484,     0.84585,     0.84685,     0.84785,     0.84885,     0.84985,     0.85085,     0.85185,     0.85285,     0.85385,     0.85485,     0.85586,     0.85686,     0.85786,     0.85886,     0.85986,     0.86086,     0.86186,     0.86286,     0.86386,\n",
       "           0.86486,     0.86587,     0.86687,     0.86787,     0.86887,     0.86987,     0.87087,     0.87187,     0.87287,     0.87387,     0.87487,     0.87588,     0.87688,     0.87788,     0.87888,     0.87988,     0.88088,     0.88188,     0.88288,     0.88388,     0.88488,     0.88589,     0.88689,     0.88789,\n",
       "           0.88889,     0.88989,     0.89089,     0.89189,     0.89289,     0.89389,     0.89489,      0.8959,      0.8969,      0.8979,      0.8989,      0.8999,      0.9009,      0.9019,      0.9029,      0.9039,      0.9049,     0.90591,     0.90691,     0.90791,     0.90891,     0.90991,     0.91091,     0.91191,\n",
       "           0.91291,     0.91391,     0.91491,     0.91592,     0.91692,     0.91792,     0.91892,     0.91992,     0.92092,     0.92192,     0.92292,     0.92392,     0.92492,     0.92593,     0.92693,     0.92793,     0.92893,     0.92993,     0.93093,     0.93193,     0.93293,     0.93393,     0.93493,     0.93594,\n",
       "           0.93694,     0.93794,     0.93894,     0.93994,     0.94094,     0.94194,     0.94294,     0.94394,     0.94494,     0.94595,     0.94695,     0.94795,     0.94895,     0.94995,     0.95095,     0.95195,     0.95295,     0.95395,     0.95495,     0.95596,     0.95696,     0.95796,     0.95896,     0.95996,\n",
       "           0.96096,     0.96196,     0.96296,     0.96396,     0.96496,     0.96597,     0.96697,     0.96797,     0.96897,     0.96997,     0.97097,     0.97197,     0.97297,     0.97397,     0.97497,     0.97598,     0.97698,     0.97798,     0.97898,     0.97998,     0.98098,     0.98198,     0.98298,     0.98398,\n",
       "           0.98498,     0.98599,     0.98699,     0.98799,     0.98899,     0.98999,     0.99099,     0.99199,     0.99299,     0.99399,     0.99499,       0.996,       0.997,       0.998,       0.999,           1]), array([[          1,           1,           1,           1,           1,           1,           1,           1,           1,           1,           1,           1,           1,           1,           1,           1,           1,           1,           1,           1,           1,           1,           1,\n",
       "                  1,           1,           1,           1,           1,           1,           1,           1,           1,           1,           1,           1,           1,           1,           1,           1,           1,           1,           1,           1,           1,           1,           1,\n",
       "                  1,           1,           1,           1,           1,           1,           1,           1,           1,           1,           1,           1,           1,           1,           1,           1,           1,           1,           1,           1,           1,           1,           1,\n",
       "                  1,           1,           1,           1,           1,           1,           1,           1,           1,           1,           1,           1,           1,           1,           1,           1,           1,           1,           1,           1,           1,           1,           1,\n",
       "                  1,           1,           1,           1,           1,           1,           1,           1,           1,           1,           1,           1,           1,           1,           1,           1,           1,           1,           1,           1,           1,           1,           1,\n",
       "                  1,           1,           1,           1,           1,           1,           1,           1,           1,           1,           1,           1,           1,           1,           1,           1,           1,           1,           1,           1,           1,           1,           1,\n",
       "                  1,           1,           1,           1,           1,           1,           1,           1,           1,           1,           1,           1,           1,           1,           1,           1,           1,           1,           1,           1,           1,           1,           1,\n",
       "                  1,           1,           1,           1,           1,           1,           1,           1,           1,           1,           1,           1,           1,           1,           1,           1,           1,           1,           1,           1,           1,           1,           1,\n",
       "                  1,           1,           1,           1,           1,           1,           1,           1,           1,           1,           1,           1,           1,           1,           1,           1,           1,           1,           1,           1,           1,           1,           1,\n",
       "                  1,           1,           1,           1,           1,           1,           1,           1,           1,           1,           1,           1,           1,           1,           1,           1,           1,           1,           1,           1,           1,           1,           1,\n",
       "                  1,           1,           1,           1,           1,           1,           1,           1,           1,           1,           1,           1,           1,           1,           1,           1,           1,           1,           1,           1,           1,           1,           1,\n",
       "                  1,           1,           1,           1,           1,           1,           1,           1,           1,           1,           1,           1,           1,           1,           1,           1,           1,           1,           1,           1,           1,           1,           1,\n",
       "                  1,           1,           1,           1,           1,           1,           1,           1,           1,           1,           1,           1,           1,           1,           1,           1,           1,           1,           1,           1,           1,           1,           1,\n",
       "                  1,           1,           1,           1,           1,           1,           1,           1,           1,           1,           1,           1,           1,           1,           1,           1,           1,           1,           1,           1,           1,           1,           1,\n",
       "                  1,           1,           1,           1,           1,           1,           1,           1,           1,           1,           1,           1,           1,           1,           1,           1,           1,           1,           1,           1,           1,           1,           1,\n",
       "                  1,           1,           1,           1,           1,           1,           1,           1,           1,           1,           1,           1,     0.99779,     0.99779,     0.99779,     0.99779,     0.99779,     0.99779,     0.99779,     0.99779,     0.99779,     0.99779,     0.99779,\n",
       "            0.99779,     0.99779,     0.99779,     0.99779,     0.99779,     0.99779,     0.99779,     0.99779,     0.99779,     0.99779,     0.99779,     0.99779,     0.99779,     0.99779,     0.99779,     0.99779,     0.99779,     0.99779,     0.99779,     0.99779,     0.99609,     0.99609,     0.99609,\n",
       "            0.99609,     0.99609,     0.99609,     0.99609,     0.99609,     0.99609,     0.99609,     0.99609,     0.99609,     0.99609,     0.99609,     0.99609,     0.99609,     0.99609,     0.99609,     0.99609,     0.99609,     0.99609,     0.99609,     0.99609,     0.99609,     0.99609,     0.99609,\n",
       "            0.99609,     0.99609,     0.99609,     0.99609,     0.99609,     0.99609,     0.99609,     0.99609,     0.99609,     0.99609,     0.99609,     0.99609,     0.99609,     0.99609,     0.99609,     0.99609,     0.99609,     0.99609,     0.99609,     0.99609,     0.99609,     0.99609,     0.99609,\n",
       "            0.99609,     0.99526,     0.99526,     0.99526,     0.99526,     0.99526,     0.99526,     0.99526,     0.99526,     0.99526,     0.99526,     0.99526,     0.99526,     0.99526,     0.99526,     0.99526,     0.99526,     0.99526,     0.99526,     0.99526,     0.99526,     0.99526,     0.99526,\n",
       "            0.99526,     0.99526,     0.99526,     0.99526,     0.99526,     0.99526,     0.99526,     0.99526,     0.99526,     0.99526,     0.99526,     0.99526,     0.99526,     0.99526,     0.99526,     0.99526,     0.99526,     0.99526,     0.99526,     0.99526,     0.99526,     0.99526,     0.99526,\n",
       "            0.99526,     0.99526,     0.99526,     0.99526,     0.99526,     0.99526,     0.99526,     0.99526,     0.99526,     0.99526,     0.99526,     0.99526,     0.99526,     0.99526,     0.99526,     0.99526,     0.99526,     0.99526,     0.99526,     0.99526,     0.99526,     0.99526,     0.99526,\n",
       "            0.99526,     0.99526,     0.99526,     0.99526,     0.99526,     0.99526,     0.99526,     0.99526,     0.99526,     0.99526,     0.99526,     0.99526,     0.99526,     0.99526,     0.99526,     0.99526,     0.99526,     0.99526,     0.99526,     0.99526,     0.99526,     0.99526,     0.99526,\n",
       "            0.99526,     0.99526,     0.99526,     0.99526,     0.99526,     0.99526,     0.99526,     0.99526,     0.99526,     0.99526,     0.99526,     0.99526,     0.99387,     0.99387,     0.99387,     0.99387,     0.99387,     0.99387,     0.99387,     0.99387,     0.99387,     0.99387,     0.99387,\n",
       "            0.99387,     0.99387,     0.99387,     0.99387,     0.99387,     0.99254,     0.99254,     0.99254,     0.99254,     0.99254,     0.99254,     0.99254,     0.99254,     0.99254,     0.99254,     0.99254,     0.99254,     0.99254,     0.99254,     0.99167,     0.99167,     0.99167,     0.99167,\n",
       "            0.99167,     0.99167,     0.99167,     0.99167,     0.99167,     0.99167,     0.99167,     0.99167,     0.99167,     0.99167,     0.99167,     0.99167,     0.99167,     0.99167,     0.99167,     0.99167,     0.99167,     0.99167,     0.99167,     0.99167,     0.99167,     0.99167,     0.99167,\n",
       "            0.99167,     0.99167,     0.99167,     0.99167,     0.99167,     0.99167,     0.99167,     0.99167,     0.99167,     0.99167,     0.99167,     0.99167,     0.99167,     0.99167,     0.99167,     0.99042,     0.99042,     0.99042,     0.99042,     0.99042,     0.99042,     0.99042,     0.99042,\n",
       "            0.99042,     0.98915,     0.98915,     0.98915,     0.98915,     0.98795,     0.98795,     0.98795,     0.98795,     0.98795,     0.98795,     0.98795,     0.98795,     0.98535,     0.98535,     0.98296,     0.98296,     0.98296,     0.98296,     0.98296,     0.98296,     0.98296,     0.98296,\n",
       "            0.98177,     0.98177,     0.98177,     0.98177,     0.98067,     0.98067,     0.98067,     0.98067,     0.98067,     0.98067,     0.97761,     0.97761,     0.97761,     0.97761,     0.97761,     0.97761,     0.97761,     0.97761,     0.97761,     0.97761,     0.97761,     0.97761,     0.97761,\n",
       "            0.97761,     0.97761,     0.97761,     0.97761,     0.97761,     0.97761,     0.97761,     0.97761,      0.9766,      0.9766,      0.9766,      0.9766,      0.9766,      0.9766,     0.97582,     0.97582,     0.97582,     0.97582,     0.97582,     0.97582,     0.97582,     0.97582,     0.97582,\n",
       "            0.97582,     0.97582,     0.97582,     0.97467,     0.97246,     0.97246,     0.97246,     0.97133,     0.96916,     0.96916,     0.96916,     0.96916,     0.96809,     0.96698,     0.96483,     0.96483,     0.96483,     0.96262,     0.96216,     0.96216,     0.96216,     0.96216,     0.96216,\n",
       "            0.96216,     0.96216,     0.96216,     0.96216,     0.96216,     0.96216,     0.96216,     0.96216,     0.96041,     0.96041,     0.96041,     0.96041,     0.96041,     0.96041,     0.96041,     0.96041,      0.9604,      0.9604,      0.9604,      0.9604,      0.9604,      0.9604,      0.9604,\n",
       "             0.9604,      0.9604,      0.9604,      0.9604,      0.9604,      0.9604,      0.9604,      0.9604,      0.9604,      0.9604,      0.9604,      0.9604,      0.9604,      0.9604,     0.95965,     0.95965,     0.95965,     0.95965,     0.95965,     0.95965,     0.95883,     0.95883,     0.95883,\n",
       "            0.95883,     0.95685,     0.95685,     0.95484,     0.95391,     0.95383,     0.95383,     0.95383,     0.95383,     0.95383,     0.95383,     0.95383,     0.95383,     0.95383,     0.95383,     0.95383,     0.95383,     0.95383,     0.95383,     0.95383,     0.95383,     0.95383,     0.95312,\n",
       "            0.95312,     0.95312,     0.95312,     0.95312,     0.95228,     0.95228,     0.95179,     0.95179,     0.95179,     0.95179,     0.95179,     0.95179,     0.95179,     0.95179,     0.95179,     0.95132,     0.95132,     0.95132,     0.95132,     0.95132,     0.95132,     0.95132,     0.95132,\n",
       "            0.95132,     0.95085,     0.95085,     0.95085,     0.95085,     0.95085,     0.95085,     0.95085,     0.95085,     0.94995,     0.94857,     0.94857,     0.94857,     0.94857,     0.94857,     0.94857,     0.94857,     0.94857,     0.94857,     0.94773,     0.94685,      0.9451,      0.9451,\n",
       "            0.94439,     0.94439,     0.94439,     0.94266,     0.94266,      0.9418,     0.94101,     0.94101,     0.93966,     0.93966,     0.93966,     0.93966,     0.93966,     0.93966,     0.93524,     0.93454,     0.93454,     0.93454,     0.93107,     0.93058,     0.93058,     0.93058,     0.93058,\n",
       "            0.93058,     0.92897,     0.92897,     0.92737,     0.92665,     0.92665,     0.92586,     0.92521,     0.92521,     0.92456,     0.92456,     0.92456,     0.92308,     0.92308,     0.92308,     0.92237,     0.92175,     0.92175,     0.92175,     0.92015,     0.91938,      0.9187,     0.91727,\n",
       "            0.91727,     0.91727,     0.91592,     0.91592,     0.91592,     0.91451,     0.91451,     0.91451,     0.91393,     0.91393,      0.9132,     0.91166,     0.91021,     0.91021,     0.90957,     0.90957,     0.90726,     0.90513,     0.90513,     0.90295,     0.90295,     0.90225,         0.9,\n",
       "            0.89717,     0.89717,      0.8921,      0.8921,      0.8921,     0.89068,     0.88636,     0.88127,      0.8777,     0.87708,     0.87645,     0.87593,     0.87028,     0.85841,     0.85784,     0.85176,      0.8512,     0.84873,     0.84548,     0.84494,     0.84306,     0.83987,     0.83152,\n",
       "            0.82908,     0.82425,     0.81378,     0.80963,     0.80553,     0.79499,      0.7928,     0.78107,     0.75243,        0.75,     0.74451,     0.74213,       0.724,     0.71018,     0.70806,     0.69649,     0.69579,     0.68939,     0.65449,      0.6487,     0.64623,      0.6265,     0.62034,\n",
       "            0.61832,     0.61832,     0.60649,      0.5787,     0.53514,     0.51756,     0.51299,     0.48574,     0.43956,     0.43666,     0.43654,     0.43642,      0.4324,     0.41016,     0.39574,     0.39029,      0.3804,     0.37127,     0.35365,     0.33087,     0.30335,     0.29563,     0.24095,\n",
       "            0.23785,     0.20532,     0.19817,     0.16873,     0.16873,     0.16011,     0.15793,     0.13168,     0.13078,     0.11033,     0.10673,     0.10209,    0.097446,    0.092806,    0.088165,    0.083525,    0.078885,    0.074245,    0.069604,    0.064964,    0.060324,    0.055683,    0.051043,\n",
       "           0.046403,    0.041763,    0.037122,    0.032482,    0.027842,    0.023201,    0.018561,    0.013921,   0.0092806,   0.0046403,           0]]), 'Recall', 'Precision'], [array([          0,    0.001001,    0.002002,    0.003003,    0.004004,    0.005005,    0.006006,    0.007007,    0.008008,    0.009009,     0.01001,    0.011011,    0.012012,    0.013013,    0.014014,    0.015015,    0.016016,    0.017017,    0.018018,    0.019019,     0.02002,    0.021021,    0.022022,    0.023023,\n",
       "          0.024024,    0.025025,    0.026026,    0.027027,    0.028028,    0.029029,     0.03003,    0.031031,    0.032032,    0.033033,    0.034034,    0.035035,    0.036036,    0.037037,    0.038038,    0.039039,     0.04004,    0.041041,    0.042042,    0.043043,    0.044044,    0.045045,    0.046046,    0.047047,\n",
       "          0.048048,    0.049049,     0.05005,    0.051051,    0.052052,    0.053053,    0.054054,    0.055055,    0.056056,    0.057057,    0.058058,    0.059059,     0.06006,    0.061061,    0.062062,    0.063063,    0.064064,    0.065065,    0.066066,    0.067067,    0.068068,    0.069069,     0.07007,    0.071071,\n",
       "          0.072072,    0.073073,    0.074074,    0.075075,    0.076076,    0.077077,    0.078078,    0.079079,     0.08008,    0.081081,    0.082082,    0.083083,    0.084084,    0.085085,    0.086086,    0.087087,    0.088088,    0.089089,     0.09009,    0.091091,    0.092092,    0.093093,    0.094094,    0.095095,\n",
       "          0.096096,    0.097097,    0.098098,    0.099099,      0.1001,      0.1011,      0.1021,      0.1031,      0.1041,     0.10511,     0.10611,     0.10711,     0.10811,     0.10911,     0.11011,     0.11111,     0.11211,     0.11311,     0.11411,     0.11512,     0.11612,     0.11712,     0.11812,     0.11912,\n",
       "           0.12012,     0.12112,     0.12212,     0.12312,     0.12412,     0.12513,     0.12613,     0.12713,     0.12813,     0.12913,     0.13013,     0.13113,     0.13213,     0.13313,     0.13413,     0.13514,     0.13614,     0.13714,     0.13814,     0.13914,     0.14014,     0.14114,     0.14214,     0.14314,\n",
       "           0.14414,     0.14515,     0.14615,     0.14715,     0.14815,     0.14915,     0.15015,     0.15115,     0.15215,     0.15315,     0.15415,     0.15516,     0.15616,     0.15716,     0.15816,     0.15916,     0.16016,     0.16116,     0.16216,     0.16316,     0.16416,     0.16517,     0.16617,     0.16717,\n",
       "           0.16817,     0.16917,     0.17017,     0.17117,     0.17217,     0.17317,     0.17417,     0.17518,     0.17618,     0.17718,     0.17818,     0.17918,     0.18018,     0.18118,     0.18218,     0.18318,     0.18418,     0.18519,     0.18619,     0.18719,     0.18819,     0.18919,     0.19019,     0.19119,\n",
       "           0.19219,     0.19319,     0.19419,      0.1952,      0.1962,      0.1972,      0.1982,      0.1992,      0.2002,      0.2012,      0.2022,      0.2032,      0.2042,     0.20521,     0.20621,     0.20721,     0.20821,     0.20921,     0.21021,     0.21121,     0.21221,     0.21321,     0.21421,     0.21522,\n",
       "           0.21622,     0.21722,     0.21822,     0.21922,     0.22022,     0.22122,     0.22222,     0.22322,     0.22422,     0.22523,     0.22623,     0.22723,     0.22823,     0.22923,     0.23023,     0.23123,     0.23223,     0.23323,     0.23423,     0.23524,     0.23624,     0.23724,     0.23824,     0.23924,\n",
       "           0.24024,     0.24124,     0.24224,     0.24324,     0.24424,     0.24525,     0.24625,     0.24725,     0.24825,     0.24925,     0.25025,     0.25125,     0.25225,     0.25325,     0.25425,     0.25526,     0.25626,     0.25726,     0.25826,     0.25926,     0.26026,     0.26126,     0.26226,     0.26326,\n",
       "           0.26426,     0.26527,     0.26627,     0.26727,     0.26827,     0.26927,     0.27027,     0.27127,     0.27227,     0.27327,     0.27427,     0.27528,     0.27628,     0.27728,     0.27828,     0.27928,     0.28028,     0.28128,     0.28228,     0.28328,     0.28428,     0.28529,     0.28629,     0.28729,\n",
       "           0.28829,     0.28929,     0.29029,     0.29129,     0.29229,     0.29329,     0.29429,      0.2953,      0.2963,      0.2973,      0.2983,      0.2993,      0.3003,      0.3013,      0.3023,      0.3033,      0.3043,     0.30531,     0.30631,     0.30731,     0.30831,     0.30931,     0.31031,     0.31131,\n",
       "           0.31231,     0.31331,     0.31431,     0.31532,     0.31632,     0.31732,     0.31832,     0.31932,     0.32032,     0.32132,     0.32232,     0.32332,     0.32432,     0.32533,     0.32633,     0.32733,     0.32833,     0.32933,     0.33033,     0.33133,     0.33233,     0.33333,     0.33433,     0.33534,\n",
       "           0.33634,     0.33734,     0.33834,     0.33934,     0.34034,     0.34134,     0.34234,     0.34334,     0.34434,     0.34535,     0.34635,     0.34735,     0.34835,     0.34935,     0.35035,     0.35135,     0.35235,     0.35335,     0.35435,     0.35536,     0.35636,     0.35736,     0.35836,     0.35936,\n",
       "           0.36036,     0.36136,     0.36236,     0.36336,     0.36436,     0.36537,     0.36637,     0.36737,     0.36837,     0.36937,     0.37037,     0.37137,     0.37237,     0.37337,     0.37437,     0.37538,     0.37638,     0.37738,     0.37838,     0.37938,     0.38038,     0.38138,     0.38238,     0.38338,\n",
       "           0.38438,     0.38539,     0.38639,     0.38739,     0.38839,     0.38939,     0.39039,     0.39139,     0.39239,     0.39339,     0.39439,      0.3954,      0.3964,      0.3974,      0.3984,      0.3994,      0.4004,      0.4014,      0.4024,      0.4034,      0.4044,     0.40541,     0.40641,     0.40741,\n",
       "           0.40841,     0.40941,     0.41041,     0.41141,     0.41241,     0.41341,     0.41441,     0.41542,     0.41642,     0.41742,     0.41842,     0.41942,     0.42042,     0.42142,     0.42242,     0.42342,     0.42442,     0.42543,     0.42643,     0.42743,     0.42843,     0.42943,     0.43043,     0.43143,\n",
       "           0.43243,     0.43343,     0.43443,     0.43544,     0.43644,     0.43744,     0.43844,     0.43944,     0.44044,     0.44144,     0.44244,     0.44344,     0.44444,     0.44545,     0.44645,     0.44745,     0.44845,     0.44945,     0.45045,     0.45145,     0.45245,     0.45345,     0.45445,     0.45546,\n",
       "           0.45646,     0.45746,     0.45846,     0.45946,     0.46046,     0.46146,     0.46246,     0.46346,     0.46446,     0.46547,     0.46647,     0.46747,     0.46847,     0.46947,     0.47047,     0.47147,     0.47247,     0.47347,     0.47447,     0.47548,     0.47648,     0.47748,     0.47848,     0.47948,\n",
       "           0.48048,     0.48148,     0.48248,     0.48348,     0.48448,     0.48549,     0.48649,     0.48749,     0.48849,     0.48949,     0.49049,     0.49149,     0.49249,     0.49349,     0.49449,      0.4955,      0.4965,      0.4975,      0.4985,      0.4995,      0.5005,      0.5015,      0.5025,      0.5035,\n",
       "            0.5045,     0.50551,     0.50651,     0.50751,     0.50851,     0.50951,     0.51051,     0.51151,     0.51251,     0.51351,     0.51451,     0.51552,     0.51652,     0.51752,     0.51852,     0.51952,     0.52052,     0.52152,     0.52252,     0.52352,     0.52452,     0.52553,     0.52653,     0.52753,\n",
       "           0.52853,     0.52953,     0.53053,     0.53153,     0.53253,     0.53353,     0.53453,     0.53554,     0.53654,     0.53754,     0.53854,     0.53954,     0.54054,     0.54154,     0.54254,     0.54354,     0.54454,     0.54555,     0.54655,     0.54755,     0.54855,     0.54955,     0.55055,     0.55155,\n",
       "           0.55255,     0.55355,     0.55455,     0.55556,     0.55656,     0.55756,     0.55856,     0.55956,     0.56056,     0.56156,     0.56256,     0.56356,     0.56456,     0.56557,     0.56657,     0.56757,     0.56857,     0.56957,     0.57057,     0.57157,     0.57257,     0.57357,     0.57457,     0.57558,\n",
       "           0.57658,     0.57758,     0.57858,     0.57958,     0.58058,     0.58158,     0.58258,     0.58358,     0.58458,     0.58559,     0.58659,     0.58759,     0.58859,     0.58959,     0.59059,     0.59159,     0.59259,     0.59359,     0.59459,      0.5956,      0.5966,      0.5976,      0.5986,      0.5996,\n",
       "            0.6006,      0.6016,      0.6026,      0.6036,      0.6046,     0.60561,     0.60661,     0.60761,     0.60861,     0.60961,     0.61061,     0.61161,     0.61261,     0.61361,     0.61461,     0.61562,     0.61662,     0.61762,     0.61862,     0.61962,     0.62062,     0.62162,     0.62262,     0.62362,\n",
       "           0.62462,     0.62563,     0.62663,     0.62763,     0.62863,     0.62963,     0.63063,     0.63163,     0.63263,     0.63363,     0.63463,     0.63564,     0.63664,     0.63764,     0.63864,     0.63964,     0.64064,     0.64164,     0.64264,     0.64364,     0.64464,     0.64565,     0.64665,     0.64765,\n",
       "           0.64865,     0.64965,     0.65065,     0.65165,     0.65265,     0.65365,     0.65465,     0.65566,     0.65666,     0.65766,     0.65866,     0.65966,     0.66066,     0.66166,     0.66266,     0.66366,     0.66466,     0.66567,     0.66667,     0.66767,     0.66867,     0.66967,     0.67067,     0.67167,\n",
       "           0.67267,     0.67367,     0.67467,     0.67568,     0.67668,     0.67768,     0.67868,     0.67968,     0.68068,     0.68168,     0.68268,     0.68368,     0.68468,     0.68569,     0.68669,     0.68769,     0.68869,     0.68969,     0.69069,     0.69169,     0.69269,     0.69369,     0.69469,      0.6957,\n",
       "            0.6967,      0.6977,      0.6987,      0.6997,      0.7007,      0.7017,      0.7027,      0.7037,      0.7047,     0.70571,     0.70671,     0.70771,     0.70871,     0.70971,     0.71071,     0.71171,     0.71271,     0.71371,     0.71471,     0.71572,     0.71672,     0.71772,     0.71872,     0.71972,\n",
       "           0.72072,     0.72172,     0.72272,     0.72372,     0.72472,     0.72573,     0.72673,     0.72773,     0.72873,     0.72973,     0.73073,     0.73173,     0.73273,     0.73373,     0.73473,     0.73574,     0.73674,     0.73774,     0.73874,     0.73974,     0.74074,     0.74174,     0.74274,     0.74374,\n",
       "           0.74474,     0.74575,     0.74675,     0.74775,     0.74875,     0.74975,     0.75075,     0.75175,     0.75275,     0.75375,     0.75475,     0.75576,     0.75676,     0.75776,     0.75876,     0.75976,     0.76076,     0.76176,     0.76276,     0.76376,     0.76476,     0.76577,     0.76677,     0.76777,\n",
       "           0.76877,     0.76977,     0.77077,     0.77177,     0.77277,     0.77377,     0.77477,     0.77578,     0.77678,     0.77778,     0.77878,     0.77978,     0.78078,     0.78178,     0.78278,     0.78378,     0.78478,     0.78579,     0.78679,     0.78779,     0.78879,     0.78979,     0.79079,     0.79179,\n",
       "           0.79279,     0.79379,     0.79479,      0.7958,      0.7968,      0.7978,      0.7988,      0.7998,      0.8008,      0.8018,      0.8028,      0.8038,      0.8048,     0.80581,     0.80681,     0.80781,     0.80881,     0.80981,     0.81081,     0.81181,     0.81281,     0.81381,     0.81481,     0.81582,\n",
       "           0.81682,     0.81782,     0.81882,     0.81982,     0.82082,     0.82182,     0.82282,     0.82382,     0.82482,     0.82583,     0.82683,     0.82783,     0.82883,     0.82983,     0.83083,     0.83183,     0.83283,     0.83383,     0.83483,     0.83584,     0.83684,     0.83784,     0.83884,     0.83984,\n",
       "           0.84084,     0.84184,     0.84284,     0.84384,     0.84484,     0.84585,     0.84685,     0.84785,     0.84885,     0.84985,     0.85085,     0.85185,     0.85285,     0.85385,     0.85485,     0.85586,     0.85686,     0.85786,     0.85886,     0.85986,     0.86086,     0.86186,     0.86286,     0.86386,\n",
       "           0.86486,     0.86587,     0.86687,     0.86787,     0.86887,     0.86987,     0.87087,     0.87187,     0.87287,     0.87387,     0.87487,     0.87588,     0.87688,     0.87788,     0.87888,     0.87988,     0.88088,     0.88188,     0.88288,     0.88388,     0.88488,     0.88589,     0.88689,     0.88789,\n",
       "           0.88889,     0.88989,     0.89089,     0.89189,     0.89289,     0.89389,     0.89489,      0.8959,      0.8969,      0.8979,      0.8989,      0.8999,      0.9009,      0.9019,      0.9029,      0.9039,      0.9049,     0.90591,     0.90691,     0.90791,     0.90891,     0.90991,     0.91091,     0.91191,\n",
       "           0.91291,     0.91391,     0.91491,     0.91592,     0.91692,     0.91792,     0.91892,     0.91992,     0.92092,     0.92192,     0.92292,     0.92392,     0.92492,     0.92593,     0.92693,     0.92793,     0.92893,     0.92993,     0.93093,     0.93193,     0.93293,     0.93393,     0.93493,     0.93594,\n",
       "           0.93694,     0.93794,     0.93894,     0.93994,     0.94094,     0.94194,     0.94294,     0.94394,     0.94494,     0.94595,     0.94695,     0.94795,     0.94895,     0.94995,     0.95095,     0.95195,     0.95295,     0.95395,     0.95495,     0.95596,     0.95696,     0.95796,     0.95896,     0.95996,\n",
       "           0.96096,     0.96196,     0.96296,     0.96396,     0.96496,     0.96597,     0.96697,     0.96797,     0.96897,     0.96997,     0.97097,     0.97197,     0.97297,     0.97397,     0.97497,     0.97598,     0.97698,     0.97798,     0.97898,     0.97998,     0.98098,     0.98198,     0.98298,     0.98398,\n",
       "           0.98498,     0.98599,     0.98699,     0.98799,     0.98899,     0.98999,     0.99099,     0.99199,     0.99299,     0.99399,     0.99499,       0.996,       0.997,       0.998,       0.999,           1]), array([[    0.19373,     0.19373,     0.27198,     0.32059,     0.36328,     0.39938,     0.43091,     0.45723,     0.47909,     0.49997,     0.51806,     0.53535,     0.55012,     0.56539,     0.57835,     0.58889,     0.59874,       0.608,     0.61929,     0.63115,     0.64275,     0.65245,     0.66322,\n",
       "            0.67152,     0.68327,     0.68909,     0.69643,     0.70239,     0.70939,     0.71342,     0.71833,     0.72562,     0.73075,     0.73496,     0.73839,     0.74102,      0.7451,     0.74725,     0.74897,       0.752,     0.75436,       0.757,     0.75998,     0.76405,     0.76713,     0.76868,\n",
       "            0.77095,     0.77304,     0.77495,     0.77778,     0.77931,     0.78078,      0.7831,     0.78522,     0.78679,      0.7882,     0.78918,     0.79072,     0.79211,     0.79325,     0.79472,     0.79539,      0.7972,     0.79851,     0.79843,     0.79919,     0.80187,      0.8028,     0.80405,\n",
       "            0.80463,     0.80593,      0.8071,     0.80685,     0.80766,     0.80839,     0.80996,     0.81192,     0.81291,     0.81328,     0.81449,     0.81531,     0.81533,     0.81762,     0.81838,     0.81909,     0.82011,     0.82139,     0.82243,     0.82347,     0.82383,     0.82494,     0.82592,\n",
       "            0.82659,     0.82737,     0.82838,     0.83027,      0.8302,     0.83136,     0.83166,     0.83152,     0.83213,     0.83332,     0.83405,     0.83479,      0.8357,     0.83601,     0.83747,     0.83789,     0.83877,      0.8394,     0.83994,     0.84022,     0.84195,     0.84273,     0.84361,\n",
       "            0.84393,      0.8441,     0.84426,     0.84442,     0.84462,     0.84496,     0.84555,     0.84585,     0.84626,     0.84678,      0.8485,     0.84876,     0.84966,     0.85042,     0.85088,     0.85169,     0.85132,     0.85263,     0.85276,     0.85289,     0.85309,     0.85365,     0.85401,\n",
       "            0.85442,      0.8546,     0.85471,     0.85518,     0.85553,     0.85512,     0.85543,      0.8568,      0.8575,     0.85855,     0.85921,     0.85945,     0.86031,     0.86082,     0.86099,     0.86116,      0.8614,     0.86221,     0.86242,     0.86304,      0.8628,      0.8636,     0.86406,\n",
       "            0.86443,     0.86505,     0.86485,     0.86513,     0.86533,     0.86562,     0.86589,     0.86609,     0.86631,     0.86691,     0.86723,     0.86754,     0.86783,     0.86913,     0.86952,     0.86999,     0.87015,     0.87031,      0.8706,     0.87025,     0.87041,     0.87056,     0.87074,\n",
       "            0.87094,     0.87095,     0.87129,     0.87141,     0.87153,     0.87214,     0.87235,      0.8725,     0.87257,     0.87245,     0.87232,      0.8722,     0.87288,     0.87329,     0.87348,     0.87322,     0.87354,     0.87384,     0.87429,     0.87459,     0.87499,     0.87519,     0.87543,\n",
       "            0.87579,     0.87616,     0.87653,     0.87689,     0.87753,     0.87766,     0.87757,     0.87775,     0.87784,     0.87793,     0.87802,     0.87828,     0.87868,     0.87898,     0.87893,     0.87876,     0.87961,     0.87939,     0.87941,     0.87925,     0.87965,     0.88065,     0.88092,\n",
       "            0.88076,     0.88032,      0.8804,     0.88117,     0.88125,     0.88132,      0.8814,     0.88147,     0.88114,     0.88139,     0.88128,     0.88112,     0.88171,     0.88196,     0.88236,     0.88264,     0.88289,     0.88314,     0.88342,     0.88366,      0.8839,     0.88409,     0.88394,\n",
       "            0.88371,     0.88388,     0.88405,     0.88446,     0.88463,      0.8848,     0.88542,      0.8858,     0.88601,     0.88612,     0.88624,     0.88635,     0.88645,     0.88655,     0.88665,     0.88677,     0.88688,       0.887,     0.88708,     0.88715,     0.88722,     0.88729,     0.88736,\n",
       "            0.88744,     0.88753,     0.88763,     0.88772,     0.88783,     0.88795,     0.88806,     0.88859,     0.88881,     0.88899,     0.88916,     0.88973,     0.88995,     0.88955,     0.88966,     0.88978,     0.88989,     0.89009,     0.89031,     0.89053,     0.89073,     0.89088,     0.89103,\n",
       "            0.89228,     0.89199,     0.89181,     0.89164,     0.89172,     0.89153,     0.89158,     0.89162,     0.89167,     0.89171,     0.89176,      0.8918,     0.89185,     0.89189,     0.89181,     0.89173,     0.89166,     0.89158,      0.8915,     0.89143,     0.89164,     0.89164,     0.89153,\n",
       "            0.89183,     0.89205,      0.8929,     0.89296,     0.89303,     0.89309,     0.89315,     0.89322,     0.89295,     0.89315,     0.89324,     0.89333,     0.89341,      0.8935,     0.89385,     0.89399,      0.8941,     0.89421,     0.89438,      0.8946,     0.89482,     0.89506,     0.89538,\n",
       "             0.8951,     0.89503,     0.89525,     0.89499,     0.89492,     0.89503,     0.89513,     0.89524,     0.89538,     0.89552,     0.89581,     0.89624,     0.89657,      0.8963,     0.89648,     0.89667,     0.89692,     0.89596,     0.89571,     0.89593,     0.89606,     0.89614,     0.89621,\n",
       "            0.89628,     0.89635,     0.89727,     0.89767,     0.89829,     0.89816,     0.89803,      0.8979,     0.89777,     0.89764,     0.89751,     0.89738,     0.89752,     0.89767,     0.89783,     0.89802,     0.89773,     0.89787,     0.89802,     0.89833,     0.89805,     0.89816,     0.89826,\n",
       "            0.89838,     0.89877,      0.8991,     0.89868,     0.89882,     0.89897,       0.899,     0.89887,     0.89874,     0.89861,     0.89839,     0.89815,     0.89881,     0.89921,     0.89905,     0.89881,     0.89785,     0.89795,     0.89805,     0.89815,     0.89834,     0.89867,     0.89887,\n",
       "            0.89877,     0.89861,     0.89874,     0.89887,     0.89919,     0.89945,     0.89965,     0.89962,     0.89951,     0.89941,     0.89931,     0.89877,     0.89897,     0.89909,     0.89884,      0.8986,     0.89835,     0.89823,     0.89843,     0.89869,     0.89878,     0.89868,     0.89913,\n",
       "            0.89905,     0.89835,     0.89809,     0.89793,     0.89776,     0.89783,     0.89797,      0.8981,     0.89803,     0.89794,     0.89784,     0.89774,     0.89764,     0.89748,     0.89731,      0.8967,     0.89708,     0.89731,     0.89741,     0.89729,     0.89716,     0.89704,      0.8969,\n",
       "            0.89673,     0.89657,     0.89597,      0.8959,     0.89583,     0.89576,     0.89568,     0.89561,     0.89554,     0.89581,     0.89594,     0.89563,     0.89538,     0.89524,     0.89511,     0.89499,     0.89486,     0.89541,     0.89516,      0.8948,     0.89493,     0.89495,      0.8949,\n",
       "            0.89523,     0.89418,     0.89402,     0.89385,     0.89362,     0.89331,      0.8935,     0.89306,     0.89281,     0.89256,     0.89262,     0.89267,     0.89273,     0.89279,     0.89285,     0.89291,      0.8927,     0.89219,     0.89157,     0.89177,     0.89157,     0.89072,     0.89046,\n",
       "            0.89044,     0.89054,     0.89064,     0.89075,     0.89058,     0.89033,      0.8906,      0.8901,     0.88999,     0.88989,     0.88979,     0.88969,     0.89007,     0.88922,     0.88935,     0.88949,     0.88959,     0.88969,      0.8898,     0.88985,     0.88959,     0.88929,     0.88893,\n",
       "            0.88914,     0.88964,     0.88947,      0.8893,     0.88913,     0.88896,     0.88879,     0.88864,     0.88851,     0.88838,     0.88825,     0.88793,     0.88742,     0.88691,     0.88693,     0.88699,     0.88682,     0.88664,     0.88686,     0.88727,     0.88768,     0.88809,     0.88799,\n",
       "            0.88773,     0.88727,     0.88685,     0.88706,       0.887,      0.8869,     0.88681,     0.88672,     0.88662,     0.88669,     0.88689,     0.88824,     0.88835,     0.88845,     0.88855,     0.88847,      0.8883,     0.88813,      0.8877,     0.88688,     0.88662,     0.88646,     0.88633,\n",
       "             0.8862,     0.88608,     0.88583,     0.88557,     0.88506,     0.88514,     0.88523,     0.88533,     0.88542,     0.88514,     0.88521,     0.88501,     0.88461,     0.88437,     0.88444,     0.88418,     0.88402,     0.88389,     0.88376,     0.88363,     0.88376,     0.88392,      0.8842,\n",
       "            0.88419,     0.88328,     0.88302,      0.8826,     0.88264,     0.88238,     0.88201,     0.88242,     0.88233,     0.88232,     0.88211,     0.88192,     0.88179,     0.88165,     0.88152,     0.88166,     0.88114,     0.88068,     0.88032,     0.88005,     0.87979,     0.87901,     0.87718,\n",
       "            0.87668,     0.87689,     0.87712,     0.87736,     0.87726,     0.87708,     0.87691,     0.87673,     0.87655,     0.87637,     0.87554,     0.87525,     0.87511,     0.87498,     0.87485,     0.87366,     0.87351,     0.87335,      0.8732,     0.87216,      0.8715,     0.87128,     0.87107,\n",
       "            0.87082,     0.87055,     0.86905,     0.86851,     0.86797,     0.86757,     0.86606,     0.86588,     0.86569,     0.86521,     0.86458,     0.86427,       0.864,     0.86348,     0.86257,     0.86265,     0.86238,     0.86142,     0.86047,     0.85992,     0.85887,     0.85865,     0.85843,\n",
       "            0.85785,      0.8573,     0.85512,     0.85436,     0.85408,     0.85378,      0.8534,     0.85287,     0.85256,     0.85228,     0.85038,     0.84982,     0.84925,     0.84882,     0.84826,      0.8476,     0.84776,     0.84793,     0.84756,     0.84786,     0.84542,     0.84507,     0.84381,\n",
       "            0.84198,     0.84126,     0.84012,     0.83768,     0.83739,      0.8365,     0.83611,     0.83573,     0.83525,     0.83467,     0.83306,     0.83152,     0.82976,     0.82836,     0.82807,     0.82541,     0.82441,     0.82409,     0.82338,     0.82308,     0.82213,     0.82122,     0.82105,\n",
       "            0.82088,     0.82071,     0.81918,     0.81787,     0.81756,     0.81732,     0.81632,     0.81572,     0.81563,     0.81508,     0.81468,     0.81469,     0.81378,     0.81406,     0.81238,     0.81234,     0.81204,     0.81073,     0.81032,     0.80672,     0.80571,      0.8053,     0.80247,\n",
       "            0.80125,     0.80083,     0.79859,     0.79848,     0.79694,     0.79652,     0.79555,     0.79523,     0.79485,      0.7937,     0.79285,     0.78989,      0.7868,     0.78598,     0.78437,     0.78127,     0.78084,     0.77969,     0.77817,     0.77837,     0.77656,     0.77547,     0.77281,\n",
       "            0.77308,     0.77272,     0.77204,     0.77218,     0.77232,     0.76888,      0.7666,     0.76688,     0.76471,     0.76397,     0.76008,     0.75963,     0.75787,     0.75709,     0.75553,     0.75228,     0.74715,     0.74669,     0.74133,     0.73857,     0.73514,      0.7317,     0.73123,\n",
       "            0.72856,     0.72495,     0.72502,     0.72405,     0.71867,     0.71506,     0.71332,     0.71359,      0.7124,     0.70883,     0.70536,     0.70449,     0.69991,     0.69617,     0.69035,     0.68633,     0.68583,      0.6765,      0.6693,     0.65988,     0.65625,     0.65238,     0.65184,\n",
       "            0.64594,     0.63893,     0.63318,     0.63073,     0.62888,     0.62075,     0.61295,     0.60835,     0.60469,     0.59993,     0.59873,     0.59525,      0.5921,     0.58843,     0.58281,     0.57688,     0.56841,     0.56126,     0.55532,     0.55224,     0.54712,     0.53979,     0.53601,\n",
       "            0.53162,     0.52579,     0.51952,     0.51322,     0.51257,     0.50496,     0.49819,     0.49341,     0.48256,       0.473,     0.46848,     0.46286,     0.45619,     0.44536,     0.43323,     0.42363,     0.41607,     0.41045,     0.40292,     0.39405,     0.38396,     0.37147,      0.3683,\n",
       "            0.36712,     0.36213,      0.3493,     0.33863,     0.33608,     0.32657,     0.31562,     0.31124,     0.30815,     0.29946,     0.29564,     0.28931,     0.28421,     0.28034,     0.27518,     0.26999,     0.26218,      0.2556,     0.24634,       0.236,     0.23423,     0.22474,     0.21651,\n",
       "            0.20406,     0.20287,     0.19975,     0.18848,     0.18558,     0.17984,     0.16975,     0.15962,     0.15816,     0.15716,     0.15055,      0.1431,     0.13361,      0.1235,     0.11577,     0.10963,     0.10185,    0.092437,    0.087658,    0.083059,    0.081195,    0.075081,      0.0699,\n",
       "           0.066614,    0.058427,    0.056765,    0.054288,    0.050096,    0.041813,    0.033676,     0.03254,    0.030211,    0.028213,    0.024276,    0.021996,    0.021566,    0.021135,    0.020704,    0.015945,    0.012933,    0.012064,   0.0067694,   0.0065636,   0.0063577,   0.0061518,   0.0059459,\n",
       "          0.0057399,   0.0055339,   0.0053278,   0.0051174,   0.0048671,   0.0046167,   0.0043662,   0.0041157,   0.0038651,   0.0036144,   0.0029625,           0,           0,           0,           0,           0,           0,           0,           0,           0,           0,           0,           0,\n",
       "                  0,           0,           0,           0,           0,           0,           0,           0,           0,           0,           0,           0,           0,           0,           0,           0,           0,           0,           0,           0,           0,           0,           0,\n",
       "                  0,           0,           0,           0,           0,           0,           0,           0,           0,           0,           0,           0,           0,           0,           0,           0,           0,           0,           0,           0,           0,           0,           0,\n",
       "                  0,           0,           0,           0,           0,           0,           0,           0,           0,           0,           0]]), 'Confidence', 'F1'], [array([          0,    0.001001,    0.002002,    0.003003,    0.004004,    0.005005,    0.006006,    0.007007,    0.008008,    0.009009,     0.01001,    0.011011,    0.012012,    0.013013,    0.014014,    0.015015,    0.016016,    0.017017,    0.018018,    0.019019,     0.02002,    0.021021,    0.022022,    0.023023,\n",
       "          0.024024,    0.025025,    0.026026,    0.027027,    0.028028,    0.029029,     0.03003,    0.031031,    0.032032,    0.033033,    0.034034,    0.035035,    0.036036,    0.037037,    0.038038,    0.039039,     0.04004,    0.041041,    0.042042,    0.043043,    0.044044,    0.045045,    0.046046,    0.047047,\n",
       "          0.048048,    0.049049,     0.05005,    0.051051,    0.052052,    0.053053,    0.054054,    0.055055,    0.056056,    0.057057,    0.058058,    0.059059,     0.06006,    0.061061,    0.062062,    0.063063,    0.064064,    0.065065,    0.066066,    0.067067,    0.068068,    0.069069,     0.07007,    0.071071,\n",
       "          0.072072,    0.073073,    0.074074,    0.075075,    0.076076,    0.077077,    0.078078,    0.079079,     0.08008,    0.081081,    0.082082,    0.083083,    0.084084,    0.085085,    0.086086,    0.087087,    0.088088,    0.089089,     0.09009,    0.091091,    0.092092,    0.093093,    0.094094,    0.095095,\n",
       "          0.096096,    0.097097,    0.098098,    0.099099,      0.1001,      0.1011,      0.1021,      0.1031,      0.1041,     0.10511,     0.10611,     0.10711,     0.10811,     0.10911,     0.11011,     0.11111,     0.11211,     0.11311,     0.11411,     0.11512,     0.11612,     0.11712,     0.11812,     0.11912,\n",
       "           0.12012,     0.12112,     0.12212,     0.12312,     0.12412,     0.12513,     0.12613,     0.12713,     0.12813,     0.12913,     0.13013,     0.13113,     0.13213,     0.13313,     0.13413,     0.13514,     0.13614,     0.13714,     0.13814,     0.13914,     0.14014,     0.14114,     0.14214,     0.14314,\n",
       "           0.14414,     0.14515,     0.14615,     0.14715,     0.14815,     0.14915,     0.15015,     0.15115,     0.15215,     0.15315,     0.15415,     0.15516,     0.15616,     0.15716,     0.15816,     0.15916,     0.16016,     0.16116,     0.16216,     0.16316,     0.16416,     0.16517,     0.16617,     0.16717,\n",
       "           0.16817,     0.16917,     0.17017,     0.17117,     0.17217,     0.17317,     0.17417,     0.17518,     0.17618,     0.17718,     0.17818,     0.17918,     0.18018,     0.18118,     0.18218,     0.18318,     0.18418,     0.18519,     0.18619,     0.18719,     0.18819,     0.18919,     0.19019,     0.19119,\n",
       "           0.19219,     0.19319,     0.19419,      0.1952,      0.1962,      0.1972,      0.1982,      0.1992,      0.2002,      0.2012,      0.2022,      0.2032,      0.2042,     0.20521,     0.20621,     0.20721,     0.20821,     0.20921,     0.21021,     0.21121,     0.21221,     0.21321,     0.21421,     0.21522,\n",
       "           0.21622,     0.21722,     0.21822,     0.21922,     0.22022,     0.22122,     0.22222,     0.22322,     0.22422,     0.22523,     0.22623,     0.22723,     0.22823,     0.22923,     0.23023,     0.23123,     0.23223,     0.23323,     0.23423,     0.23524,     0.23624,     0.23724,     0.23824,     0.23924,\n",
       "           0.24024,     0.24124,     0.24224,     0.24324,     0.24424,     0.24525,     0.24625,     0.24725,     0.24825,     0.24925,     0.25025,     0.25125,     0.25225,     0.25325,     0.25425,     0.25526,     0.25626,     0.25726,     0.25826,     0.25926,     0.26026,     0.26126,     0.26226,     0.26326,\n",
       "           0.26426,     0.26527,     0.26627,     0.26727,     0.26827,     0.26927,     0.27027,     0.27127,     0.27227,     0.27327,     0.27427,     0.27528,     0.27628,     0.27728,     0.27828,     0.27928,     0.28028,     0.28128,     0.28228,     0.28328,     0.28428,     0.28529,     0.28629,     0.28729,\n",
       "           0.28829,     0.28929,     0.29029,     0.29129,     0.29229,     0.29329,     0.29429,      0.2953,      0.2963,      0.2973,      0.2983,      0.2993,      0.3003,      0.3013,      0.3023,      0.3033,      0.3043,     0.30531,     0.30631,     0.30731,     0.30831,     0.30931,     0.31031,     0.31131,\n",
       "           0.31231,     0.31331,     0.31431,     0.31532,     0.31632,     0.31732,     0.31832,     0.31932,     0.32032,     0.32132,     0.32232,     0.32332,     0.32432,     0.32533,     0.32633,     0.32733,     0.32833,     0.32933,     0.33033,     0.33133,     0.33233,     0.33333,     0.33433,     0.33534,\n",
       "           0.33634,     0.33734,     0.33834,     0.33934,     0.34034,     0.34134,     0.34234,     0.34334,     0.34434,     0.34535,     0.34635,     0.34735,     0.34835,     0.34935,     0.35035,     0.35135,     0.35235,     0.35335,     0.35435,     0.35536,     0.35636,     0.35736,     0.35836,     0.35936,\n",
       "           0.36036,     0.36136,     0.36236,     0.36336,     0.36436,     0.36537,     0.36637,     0.36737,     0.36837,     0.36937,     0.37037,     0.37137,     0.37237,     0.37337,     0.37437,     0.37538,     0.37638,     0.37738,     0.37838,     0.37938,     0.38038,     0.38138,     0.38238,     0.38338,\n",
       "           0.38438,     0.38539,     0.38639,     0.38739,     0.38839,     0.38939,     0.39039,     0.39139,     0.39239,     0.39339,     0.39439,      0.3954,      0.3964,      0.3974,      0.3984,      0.3994,      0.4004,      0.4014,      0.4024,      0.4034,      0.4044,     0.40541,     0.40641,     0.40741,\n",
       "           0.40841,     0.40941,     0.41041,     0.41141,     0.41241,     0.41341,     0.41441,     0.41542,     0.41642,     0.41742,     0.41842,     0.41942,     0.42042,     0.42142,     0.42242,     0.42342,     0.42442,     0.42543,     0.42643,     0.42743,     0.42843,     0.42943,     0.43043,     0.43143,\n",
       "           0.43243,     0.43343,     0.43443,     0.43544,     0.43644,     0.43744,     0.43844,     0.43944,     0.44044,     0.44144,     0.44244,     0.44344,     0.44444,     0.44545,     0.44645,     0.44745,     0.44845,     0.44945,     0.45045,     0.45145,     0.45245,     0.45345,     0.45445,     0.45546,\n",
       "           0.45646,     0.45746,     0.45846,     0.45946,     0.46046,     0.46146,     0.46246,     0.46346,     0.46446,     0.46547,     0.46647,     0.46747,     0.46847,     0.46947,     0.47047,     0.47147,     0.47247,     0.47347,     0.47447,     0.47548,     0.47648,     0.47748,     0.47848,     0.47948,\n",
       "           0.48048,     0.48148,     0.48248,     0.48348,     0.48448,     0.48549,     0.48649,     0.48749,     0.48849,     0.48949,     0.49049,     0.49149,     0.49249,     0.49349,     0.49449,      0.4955,      0.4965,      0.4975,      0.4985,      0.4995,      0.5005,      0.5015,      0.5025,      0.5035,\n",
       "            0.5045,     0.50551,     0.50651,     0.50751,     0.50851,     0.50951,     0.51051,     0.51151,     0.51251,     0.51351,     0.51451,     0.51552,     0.51652,     0.51752,     0.51852,     0.51952,     0.52052,     0.52152,     0.52252,     0.52352,     0.52452,     0.52553,     0.52653,     0.52753,\n",
       "           0.52853,     0.52953,     0.53053,     0.53153,     0.53253,     0.53353,     0.53453,     0.53554,     0.53654,     0.53754,     0.53854,     0.53954,     0.54054,     0.54154,     0.54254,     0.54354,     0.54454,     0.54555,     0.54655,     0.54755,     0.54855,     0.54955,     0.55055,     0.55155,\n",
       "           0.55255,     0.55355,     0.55455,     0.55556,     0.55656,     0.55756,     0.55856,     0.55956,     0.56056,     0.56156,     0.56256,     0.56356,     0.56456,     0.56557,     0.56657,     0.56757,     0.56857,     0.56957,     0.57057,     0.57157,     0.57257,     0.57357,     0.57457,     0.57558,\n",
       "           0.57658,     0.57758,     0.57858,     0.57958,     0.58058,     0.58158,     0.58258,     0.58358,     0.58458,     0.58559,     0.58659,     0.58759,     0.58859,     0.58959,     0.59059,     0.59159,     0.59259,     0.59359,     0.59459,      0.5956,      0.5966,      0.5976,      0.5986,      0.5996,\n",
       "            0.6006,      0.6016,      0.6026,      0.6036,      0.6046,     0.60561,     0.60661,     0.60761,     0.60861,     0.60961,     0.61061,     0.61161,     0.61261,     0.61361,     0.61461,     0.61562,     0.61662,     0.61762,     0.61862,     0.61962,     0.62062,     0.62162,     0.62262,     0.62362,\n",
       "           0.62462,     0.62563,     0.62663,     0.62763,     0.62863,     0.62963,     0.63063,     0.63163,     0.63263,     0.63363,     0.63463,     0.63564,     0.63664,     0.63764,     0.63864,     0.63964,     0.64064,     0.64164,     0.64264,     0.64364,     0.64464,     0.64565,     0.64665,     0.64765,\n",
       "           0.64865,     0.64965,     0.65065,     0.65165,     0.65265,     0.65365,     0.65465,     0.65566,     0.65666,     0.65766,     0.65866,     0.65966,     0.66066,     0.66166,     0.66266,     0.66366,     0.66466,     0.66567,     0.66667,     0.66767,     0.66867,     0.66967,     0.67067,     0.67167,\n",
       "           0.67267,     0.67367,     0.67467,     0.67568,     0.67668,     0.67768,     0.67868,     0.67968,     0.68068,     0.68168,     0.68268,     0.68368,     0.68468,     0.68569,     0.68669,     0.68769,     0.68869,     0.68969,     0.69069,     0.69169,     0.69269,     0.69369,     0.69469,      0.6957,\n",
       "            0.6967,      0.6977,      0.6987,      0.6997,      0.7007,      0.7017,      0.7027,      0.7037,      0.7047,     0.70571,     0.70671,     0.70771,     0.70871,     0.70971,     0.71071,     0.71171,     0.71271,     0.71371,     0.71471,     0.71572,     0.71672,     0.71772,     0.71872,     0.71972,\n",
       "           0.72072,     0.72172,     0.72272,     0.72372,     0.72472,     0.72573,     0.72673,     0.72773,     0.72873,     0.72973,     0.73073,     0.73173,     0.73273,     0.73373,     0.73473,     0.73574,     0.73674,     0.73774,     0.73874,     0.73974,     0.74074,     0.74174,     0.74274,     0.74374,\n",
       "           0.74474,     0.74575,     0.74675,     0.74775,     0.74875,     0.74975,     0.75075,     0.75175,     0.75275,     0.75375,     0.75475,     0.75576,     0.75676,     0.75776,     0.75876,     0.75976,     0.76076,     0.76176,     0.76276,     0.76376,     0.76476,     0.76577,     0.76677,     0.76777,\n",
       "           0.76877,     0.76977,     0.77077,     0.77177,     0.77277,     0.77377,     0.77477,     0.77578,     0.77678,     0.77778,     0.77878,     0.77978,     0.78078,     0.78178,     0.78278,     0.78378,     0.78478,     0.78579,     0.78679,     0.78779,     0.78879,     0.78979,     0.79079,     0.79179,\n",
       "           0.79279,     0.79379,     0.79479,      0.7958,      0.7968,      0.7978,      0.7988,      0.7998,      0.8008,      0.8018,      0.8028,      0.8038,      0.8048,     0.80581,     0.80681,     0.80781,     0.80881,     0.80981,     0.81081,     0.81181,     0.81281,     0.81381,     0.81481,     0.81582,\n",
       "           0.81682,     0.81782,     0.81882,     0.81982,     0.82082,     0.82182,     0.82282,     0.82382,     0.82482,     0.82583,     0.82683,     0.82783,     0.82883,     0.82983,     0.83083,     0.83183,     0.83283,     0.83383,     0.83483,     0.83584,     0.83684,     0.83784,     0.83884,     0.83984,\n",
       "           0.84084,     0.84184,     0.84284,     0.84384,     0.84484,     0.84585,     0.84685,     0.84785,     0.84885,     0.84985,     0.85085,     0.85185,     0.85285,     0.85385,     0.85485,     0.85586,     0.85686,     0.85786,     0.85886,     0.85986,     0.86086,     0.86186,     0.86286,     0.86386,\n",
       "           0.86486,     0.86587,     0.86687,     0.86787,     0.86887,     0.86987,     0.87087,     0.87187,     0.87287,     0.87387,     0.87487,     0.87588,     0.87688,     0.87788,     0.87888,     0.87988,     0.88088,     0.88188,     0.88288,     0.88388,     0.88488,     0.88589,     0.88689,     0.88789,\n",
       "           0.88889,     0.88989,     0.89089,     0.89189,     0.89289,     0.89389,     0.89489,      0.8959,      0.8969,      0.8979,      0.8989,      0.8999,      0.9009,      0.9019,      0.9029,      0.9039,      0.9049,     0.90591,     0.90691,     0.90791,     0.90891,     0.90991,     0.91091,     0.91191,\n",
       "           0.91291,     0.91391,     0.91491,     0.91592,     0.91692,     0.91792,     0.91892,     0.91992,     0.92092,     0.92192,     0.92292,     0.92392,     0.92492,     0.92593,     0.92693,     0.92793,     0.92893,     0.92993,     0.93093,     0.93193,     0.93293,     0.93393,     0.93493,     0.93594,\n",
       "           0.93694,     0.93794,     0.93894,     0.93994,     0.94094,     0.94194,     0.94294,     0.94394,     0.94494,     0.94595,     0.94695,     0.94795,     0.94895,     0.94995,     0.95095,     0.95195,     0.95295,     0.95395,     0.95495,     0.95596,     0.95696,     0.95796,     0.95896,     0.95996,\n",
       "           0.96096,     0.96196,     0.96296,     0.96396,     0.96496,     0.96597,     0.96697,     0.96797,     0.96897,     0.96997,     0.97097,     0.97197,     0.97297,     0.97397,     0.97497,     0.97598,     0.97698,     0.97798,     0.97898,     0.97998,     0.98098,     0.98198,     0.98298,     0.98398,\n",
       "           0.98498,     0.98599,     0.98699,     0.98799,     0.98899,     0.98999,     0.99099,     0.99199,     0.99299,     0.99399,     0.99499,       0.996,       0.997,       0.998,       0.999,           1]), array([[    0.10753,     0.10753,      0.1581,     0.19206,     0.22363,     0.25175,     0.27733,     0.29961,     0.31876,     0.33773,     0.35456,     0.37096,     0.38558,     0.40105,     0.41454,     0.42546,     0.43634,     0.44683,     0.45913,      0.4723,      0.4854,     0.49679,     0.50938,\n",
       "            0.51976,     0.53397,      0.5414,     0.55051,       0.558,     0.56689,     0.57205,     0.57871,     0.58823,       0.595,     0.60061,      0.6052,     0.60911,     0.61464,     0.61818,      0.6214,     0.62559,     0.62924,     0.63293,     0.63711,     0.64284,     0.64762,     0.65066,\n",
       "            0.65392,     0.65735,     0.66012,     0.66424,     0.66647,     0.66863,     0.67204,     0.67517,     0.67749,     0.67959,     0.68104,     0.68333,     0.68542,     0.68713,     0.68979,     0.69081,     0.69354,     0.69572,     0.69588,     0.69752,     0.70161,     0.70303,     0.70496,\n",
       "            0.70584,     0.70834,     0.71017,     0.71074,     0.71201,     0.71315,      0.7156,     0.71866,     0.72021,     0.72079,      0.7227,       0.724,     0.72453,     0.72817,     0.72937,     0.73051,     0.73212,     0.73417,     0.73583,     0.73751,     0.73808,     0.73986,     0.74199,\n",
       "            0.74306,     0.74446,     0.74652,     0.74959,     0.75004,     0.75194,     0.75243,     0.75275,     0.75375,     0.75572,      0.7569,     0.75814,     0.75963,     0.76014,     0.76256,     0.76326,     0.76472,     0.76577,     0.76667,     0.76714,     0.77002,     0.77133,     0.77281,\n",
       "            0.77335,     0.77362,      0.7739,     0.77417,     0.77451,     0.77507,     0.77607,     0.77658,     0.77727,     0.77815,     0.78107,     0.78211,     0.78364,     0.78493,     0.78572,     0.78716,     0.78703,     0.78933,     0.78955,     0.78976,     0.79012,     0.79107,      0.7917,\n",
       "             0.7924,     0.79272,     0.79353,     0.79433,     0.79494,     0.79484,     0.79541,     0.79778,       0.799,     0.80081,     0.80197,     0.80238,     0.80389,     0.80543,     0.80572,     0.80602,     0.80644,     0.80786,     0.80824,     0.80932,      0.8095,     0.81097,     0.81179,\n",
       "            0.81243,     0.81354,     0.81367,     0.81433,      0.8147,      0.8152,     0.81569,     0.81605,     0.81644,     0.81749,     0.81806,     0.81862,     0.81914,     0.82146,     0.82215,       0.823,     0.82328,     0.82357,     0.82422,     0.82415,     0.82442,      0.8247,     0.82503,\n",
       "            0.82538,     0.82592,     0.82671,     0.82692,     0.82713,     0.82824,     0.82861,     0.82889,     0.82907,     0.82903,       0.829,     0.82896,     0.83026,     0.83102,     0.83135,     0.83142,     0.83217,     0.83272,     0.83354,     0.83407,      0.8348,     0.83516,      0.8356,\n",
       "            0.83626,     0.83693,     0.83762,     0.83826,     0.83943,     0.83984,     0.84023,     0.84055,     0.84072,     0.84089,     0.84106,     0.84153,     0.84227,     0.84282,     0.84301,     0.84313,      0.8449,     0.84484,     0.84506,      0.8455,     0.84624,     0.84809,     0.84859,\n",
       "            0.84867,     0.84855,      0.8491,     0.85055,     0.85069,     0.85083,     0.85097,     0.85111,     0.85123,      0.8517,     0.85173,     0.85168,     0.85304,     0.85351,     0.85425,     0.85479,     0.85526,     0.85573,     0.85624,     0.85671,     0.85715,     0.85779,     0.85798,\n",
       "            0.85832,     0.85864,     0.85896,     0.85974,     0.86006,     0.86038,     0.86155,     0.86226,     0.86266,     0.86288,      0.8631,     0.86331,      0.8635,     0.86369,     0.86388,      0.8641,     0.86433,     0.86455,      0.8647,     0.86483,     0.86496,      0.8651,     0.86523,\n",
       "            0.86538,     0.86556,     0.86574,     0.86592,     0.86612,     0.86635,     0.86657,     0.86757,     0.86798,     0.86834,     0.86866,     0.86974,     0.87016,     0.87018,     0.87039,     0.87062,     0.87085,     0.87123,     0.87165,     0.87207,     0.87244,     0.87273,     0.87303,\n",
       "            0.87543,     0.87581,     0.87577,     0.87573,     0.87639,     0.87638,     0.87647,     0.87655,     0.87664,     0.87673,     0.87682,     0.87691,     0.87699,     0.87708,     0.87706,     0.87704,     0.87703,     0.87701,     0.87699,     0.87697,     0.87738,     0.87767,     0.87799,\n",
       "            0.87857,       0.879,     0.88064,     0.88077,     0.88089,     0.88102,     0.88114,     0.88127,     0.88121,     0.88196,     0.88212,     0.88229,     0.88246,     0.88263,     0.88332,     0.88359,      0.8838,     0.88402,     0.88435,     0.88478,     0.88522,     0.88568,     0.88636,\n",
       "             0.8863,     0.88644,     0.88688,     0.88695,     0.88707,     0.88727,     0.88748,     0.88768,     0.88796,     0.88824,      0.8888,     0.88967,     0.89064,     0.89059,     0.89096,     0.89135,     0.89207,     0.89189,     0.89197,     0.89241,     0.89267,     0.89281,     0.89295,\n",
       "             0.8931,     0.89324,     0.89507,     0.89586,     0.89716,     0.89714,     0.89712,     0.89709,     0.89707,     0.89704,     0.89702,       0.897,     0.89728,     0.89757,     0.89789,     0.89828,     0.89855,     0.89884,     0.89913,     0.89976,     0.90006,     0.90027,     0.90049,\n",
       "            0.90072,     0.90152,     0.90224,      0.9022,     0.90249,     0.90278,     0.90294,     0.90291,     0.90289,     0.90287,     0.90283,     0.90279,     0.90422,     0.90502,      0.9051,     0.90506,     0.90492,     0.90513,     0.90533,     0.90553,      0.9059,     0.90659,       0.907,\n",
       "            0.90722,     0.90735,     0.90762,     0.90789,     0.90854,     0.90907,     0.90947,     0.90956,     0.90954,     0.90952,     0.90951,     0.90947,     0.90988,      0.9102,     0.91016,     0.91012,     0.91008,     0.91017,     0.91058,     0.91113,     0.91163,       0.912,     0.91292,\n",
       "            0.91368,      0.9138,     0.91376,     0.91373,     0.91371,     0.91392,      0.9142,     0.91448,      0.9145,     0.91449,     0.91447,     0.91445,     0.91444,     0.91441,     0.91439,     0.91434,     0.91514,     0.91562,     0.91591,     0.91589,     0.91588,     0.91586,     0.91583,\n",
       "            0.91581,     0.91578,     0.91569,     0.91568,     0.91567,     0.91566,     0.91564,     0.91563,     0.91562,     0.91623,     0.91721,     0.91716,     0.91712,      0.9171,     0.91708,     0.91706,     0.91704,     0.91866,     0.91863,     0.91883,     0.91911,     0.92014,     0.92096,\n",
       "            0.92174,     0.92237,     0.92235,     0.92232,     0.92229,     0.92241,     0.92306,       0.923,     0.92296,     0.92375,     0.92388,       0.924,     0.92412,     0.92425,     0.92437,      0.9245,     0.92453,     0.92446,     0.92458,     0.92502,     0.92517,     0.92505,     0.92501,\n",
       "            0.92514,     0.92536,     0.92558,      0.9258,     0.92583,      0.9258,     0.92649,     0.92657,     0.92655,     0.92654,     0.92653,     0.92651,     0.92734,     0.92752,     0.92782,     0.92811,     0.92834,     0.92856,     0.92878,     0.92897,     0.92893,     0.92889,     0.92893,\n",
       "            0.92938,     0.93058,     0.93055,     0.93053,     0.93051,     0.93049,     0.93046,     0.93044,     0.93043,     0.93041,     0.93039,     0.93035,     0.93028,     0.93022,     0.93071,     0.93105,     0.93103,     0.93101,     0.93161,     0.93251,     0.93342,     0.93433,     0.93451,\n",
       "            0.93448,     0.93442,     0.93473,     0.93519,     0.93523,     0.93522,      0.9352,     0.93519,     0.93518,     0.93542,     0.93587,     0.93889,     0.93912,     0.93935,     0.93958,     0.93964,     0.93962,      0.9396,     0.93955,     0.93946,     0.93943,     0.93941,      0.9394,\n",
       "            0.93938,     0.93937,     0.93934,     0.93931,     0.93925,     0.93945,     0.93966,     0.93987,     0.94007,     0.94012,     0.94068,     0.94097,     0.94152,     0.94176,     0.94264,     0.94261,      0.9426,     0.94258,     0.94257,     0.94255,     0.94288,     0.94325,     0.94387,\n",
       "            0.94436,     0.94427,     0.94424,     0.94467,     0.94508,     0.94506,     0.94556,     0.94652,     0.94742,     0.94772,      0.9477,     0.94768,     0.94766,     0.94765,     0.94764,     0.94855,      0.9485,     0.94845,     0.94842,     0.94839,     0.94836,     0.94828,      0.9481,\n",
       "            0.94807,     0.94856,     0.94909,     0.94994,     0.95084,     0.95083,     0.95081,     0.95079,     0.95077,     0.95076,     0.95068,     0.95065,     0.95064,     0.95063,     0.95061,      0.9505,     0.95048,     0.95047,     0.95046,     0.95037,     0.95122,      0.9512,     0.95118,\n",
       "            0.95115,     0.95113,     0.95099,     0.95094,     0.95088,     0.95178,     0.95164,     0.95162,     0.95161,     0.95156,      0.9515,     0.95147,     0.95145,      0.9514,     0.95176,     0.95227,     0.95224,     0.95216,     0.95302,     0.95297,     0.95288,     0.95286,     0.95284,\n",
       "            0.95375,      0.9537,      0.9535,     0.95343,     0.95341,     0.95338,     0.95335,      0.9533,     0.95327,     0.95324,     0.95307,     0.95302,     0.95297,     0.95391,     0.95386,     0.95482,     0.95524,     0.95566,     0.95742,     0.95881,     0.95881,      0.9596,      0.9595,\n",
       "            0.95935,     0.96032,     0.96023,     0.96004,     0.96001,     0.95994,     0.95991,     0.95988,     0.95985,      0.9598,     0.95967,     0.95955,     0.95941,     0.96035,     0.96033,     0.96012,     0.96004,     0.96042,      0.9621,     0.96207,       0.962,     0.96193,     0.96192,\n",
       "            0.96191,      0.9619,     0.96178,     0.96168,     0.96166,     0.96164,     0.96156,     0.96152,      0.9626,     0.96698,     0.96695,     0.96741,     0.96812,      0.9689,      0.9707,     0.97245,     0.97243,     0.97466,     0.97464,     0.97562,     0.97557,     0.97555,     0.97541,\n",
       "            0.97654,     0.97652,     0.97641,      0.9776,     0.97753,     0.97751,     0.97746,     0.97745,     0.97743,     0.97738,     0.97734,      0.9772,     0.97706,     0.97702,     0.98066,     0.98054,     0.98052,     0.98174,     0.98168,     0.98283,      0.9829,     0.98286,     0.98317,\n",
       "            0.98406,     0.98493,     0.98687,     0.98732,     0.98777,     0.98786,     0.98793,     0.98885,     0.98909,     0.99042,     0.99034,     0.99033,      0.9903,     0.99165,     0.99162,     0.99157,     0.99147,     0.99147,     0.99137,     0.99132,     0.99125,     0.99119,     0.99118,\n",
       "            0.99113,     0.99164,     0.99253,     0.99252,     0.99243,     0.99237,     0.99257,     0.99361,     0.99385,      0.9938,     0.99375,     0.99374,     0.99525,     0.99521,     0.99515,      0.9951,      0.9951,       0.995,     0.99491,     0.99481,     0.99476,     0.99472,     0.99471,\n",
       "            0.99464,     0.99455,     0.99448,     0.99445,     0.99443,     0.99432,     0.99422,     0.99477,     0.99606,     0.99601,       0.996,     0.99597,     0.99594,      0.9959,     0.99585,     0.99579,      0.9957,     0.99562,     0.99777,     0.99775,     0.99773,     0.99768,     0.99766,\n",
       "            0.99763,      0.9976,           1,           1,           1,           1,           1,           1,           1,           1,           1,           1,           1,           1,           1,           1,           1,           1,           1,           1,           1,           1,           1,\n",
       "                  1,           1,           1,           1,           1,           1,           1,           1,           1,           1,           1,           1,           1,           1,           1,           1,           1,           1,           1,           1,           1,           1,           1,\n",
       "                  1,           1,           1,           1,           1,           1,           1,           1,           1,           1,           1,           1,           1,           1,           1,           1,           1,           1,           1,           1,           1,           1,           1,\n",
       "                  1,           1,           1,           1,           1,           1,           1,           1,           1,           1,           1,           1,           1,           1,           1,           1,           1,           1,           1,           1,           1,           1,           1,\n",
       "                  1,           1,           1,           1,           1,           1,           1,           1,           1,           1,           1,           1,           1,           1,           1,           1,           1,           1,           1,           1,           1,           1,           1,\n",
       "                  1,           1,           1,           1,           1,           1,           1,           1,           1,           1,           1,           1,           1,           1,           1,           1,           1,           1,           1,           1,           1,           1,           1,\n",
       "                  1,           1,           1,           1,           1,           1,           1,           1,           1,           1,           1,           1,           1,           1,           1,           1,           1,           1,           1,           1,           1,           1,           1,\n",
       "                  1,           1,           1,           1,           1,           1,           1,           1,           1,           1,           1]]), 'Confidence', 'Precision'], [array([          0,    0.001001,    0.002002,    0.003003,    0.004004,    0.005005,    0.006006,    0.007007,    0.008008,    0.009009,     0.01001,    0.011011,    0.012012,    0.013013,    0.014014,    0.015015,    0.016016,    0.017017,    0.018018,    0.019019,     0.02002,    0.021021,    0.022022,    0.023023,\n",
       "          0.024024,    0.025025,    0.026026,    0.027027,    0.028028,    0.029029,     0.03003,    0.031031,    0.032032,    0.033033,    0.034034,    0.035035,    0.036036,    0.037037,    0.038038,    0.039039,     0.04004,    0.041041,    0.042042,    0.043043,    0.044044,    0.045045,    0.046046,    0.047047,\n",
       "          0.048048,    0.049049,     0.05005,    0.051051,    0.052052,    0.053053,    0.054054,    0.055055,    0.056056,    0.057057,    0.058058,    0.059059,     0.06006,    0.061061,    0.062062,    0.063063,    0.064064,    0.065065,    0.066066,    0.067067,    0.068068,    0.069069,     0.07007,    0.071071,\n",
       "          0.072072,    0.073073,    0.074074,    0.075075,    0.076076,    0.077077,    0.078078,    0.079079,     0.08008,    0.081081,    0.082082,    0.083083,    0.084084,    0.085085,    0.086086,    0.087087,    0.088088,    0.089089,     0.09009,    0.091091,    0.092092,    0.093093,    0.094094,    0.095095,\n",
       "          0.096096,    0.097097,    0.098098,    0.099099,      0.1001,      0.1011,      0.1021,      0.1031,      0.1041,     0.10511,     0.10611,     0.10711,     0.10811,     0.10911,     0.11011,     0.11111,     0.11211,     0.11311,     0.11411,     0.11512,     0.11612,     0.11712,     0.11812,     0.11912,\n",
       "           0.12012,     0.12112,     0.12212,     0.12312,     0.12412,     0.12513,     0.12613,     0.12713,     0.12813,     0.12913,     0.13013,     0.13113,     0.13213,     0.13313,     0.13413,     0.13514,     0.13614,     0.13714,     0.13814,     0.13914,     0.14014,     0.14114,     0.14214,     0.14314,\n",
       "           0.14414,     0.14515,     0.14615,     0.14715,     0.14815,     0.14915,     0.15015,     0.15115,     0.15215,     0.15315,     0.15415,     0.15516,     0.15616,     0.15716,     0.15816,     0.15916,     0.16016,     0.16116,     0.16216,     0.16316,     0.16416,     0.16517,     0.16617,     0.16717,\n",
       "           0.16817,     0.16917,     0.17017,     0.17117,     0.17217,     0.17317,     0.17417,     0.17518,     0.17618,     0.17718,     0.17818,     0.17918,     0.18018,     0.18118,     0.18218,     0.18318,     0.18418,     0.18519,     0.18619,     0.18719,     0.18819,     0.18919,     0.19019,     0.19119,\n",
       "           0.19219,     0.19319,     0.19419,      0.1952,      0.1962,      0.1972,      0.1982,      0.1992,      0.2002,      0.2012,      0.2022,      0.2032,      0.2042,     0.20521,     0.20621,     0.20721,     0.20821,     0.20921,     0.21021,     0.21121,     0.21221,     0.21321,     0.21421,     0.21522,\n",
       "           0.21622,     0.21722,     0.21822,     0.21922,     0.22022,     0.22122,     0.22222,     0.22322,     0.22422,     0.22523,     0.22623,     0.22723,     0.22823,     0.22923,     0.23023,     0.23123,     0.23223,     0.23323,     0.23423,     0.23524,     0.23624,     0.23724,     0.23824,     0.23924,\n",
       "           0.24024,     0.24124,     0.24224,     0.24324,     0.24424,     0.24525,     0.24625,     0.24725,     0.24825,     0.24925,     0.25025,     0.25125,     0.25225,     0.25325,     0.25425,     0.25526,     0.25626,     0.25726,     0.25826,     0.25926,     0.26026,     0.26126,     0.26226,     0.26326,\n",
       "           0.26426,     0.26527,     0.26627,     0.26727,     0.26827,     0.26927,     0.27027,     0.27127,     0.27227,     0.27327,     0.27427,     0.27528,     0.27628,     0.27728,     0.27828,     0.27928,     0.28028,     0.28128,     0.28228,     0.28328,     0.28428,     0.28529,     0.28629,     0.28729,\n",
       "           0.28829,     0.28929,     0.29029,     0.29129,     0.29229,     0.29329,     0.29429,      0.2953,      0.2963,      0.2973,      0.2983,      0.2993,      0.3003,      0.3013,      0.3023,      0.3033,      0.3043,     0.30531,     0.30631,     0.30731,     0.30831,     0.30931,     0.31031,     0.31131,\n",
       "           0.31231,     0.31331,     0.31431,     0.31532,     0.31632,     0.31732,     0.31832,     0.31932,     0.32032,     0.32132,     0.32232,     0.32332,     0.32432,     0.32533,     0.32633,     0.32733,     0.32833,     0.32933,     0.33033,     0.33133,     0.33233,     0.33333,     0.33433,     0.33534,\n",
       "           0.33634,     0.33734,     0.33834,     0.33934,     0.34034,     0.34134,     0.34234,     0.34334,     0.34434,     0.34535,     0.34635,     0.34735,     0.34835,     0.34935,     0.35035,     0.35135,     0.35235,     0.35335,     0.35435,     0.35536,     0.35636,     0.35736,     0.35836,     0.35936,\n",
       "           0.36036,     0.36136,     0.36236,     0.36336,     0.36436,     0.36537,     0.36637,     0.36737,     0.36837,     0.36937,     0.37037,     0.37137,     0.37237,     0.37337,     0.37437,     0.37538,     0.37638,     0.37738,     0.37838,     0.37938,     0.38038,     0.38138,     0.38238,     0.38338,\n",
       "           0.38438,     0.38539,     0.38639,     0.38739,     0.38839,     0.38939,     0.39039,     0.39139,     0.39239,     0.39339,     0.39439,      0.3954,      0.3964,      0.3974,      0.3984,      0.3994,      0.4004,      0.4014,      0.4024,      0.4034,      0.4044,     0.40541,     0.40641,     0.40741,\n",
       "           0.40841,     0.40941,     0.41041,     0.41141,     0.41241,     0.41341,     0.41441,     0.41542,     0.41642,     0.41742,     0.41842,     0.41942,     0.42042,     0.42142,     0.42242,     0.42342,     0.42442,     0.42543,     0.42643,     0.42743,     0.42843,     0.42943,     0.43043,     0.43143,\n",
       "           0.43243,     0.43343,     0.43443,     0.43544,     0.43644,     0.43744,     0.43844,     0.43944,     0.44044,     0.44144,     0.44244,     0.44344,     0.44444,     0.44545,     0.44645,     0.44745,     0.44845,     0.44945,     0.45045,     0.45145,     0.45245,     0.45345,     0.45445,     0.45546,\n",
       "           0.45646,     0.45746,     0.45846,     0.45946,     0.46046,     0.46146,     0.46246,     0.46346,     0.46446,     0.46547,     0.46647,     0.46747,     0.46847,     0.46947,     0.47047,     0.47147,     0.47247,     0.47347,     0.47447,     0.47548,     0.47648,     0.47748,     0.47848,     0.47948,\n",
       "           0.48048,     0.48148,     0.48248,     0.48348,     0.48448,     0.48549,     0.48649,     0.48749,     0.48849,     0.48949,     0.49049,     0.49149,     0.49249,     0.49349,     0.49449,      0.4955,      0.4965,      0.4975,      0.4985,      0.4995,      0.5005,      0.5015,      0.5025,      0.5035,\n",
       "            0.5045,     0.50551,     0.50651,     0.50751,     0.50851,     0.50951,     0.51051,     0.51151,     0.51251,     0.51351,     0.51451,     0.51552,     0.51652,     0.51752,     0.51852,     0.51952,     0.52052,     0.52152,     0.52252,     0.52352,     0.52452,     0.52553,     0.52653,     0.52753,\n",
       "           0.52853,     0.52953,     0.53053,     0.53153,     0.53253,     0.53353,     0.53453,     0.53554,     0.53654,     0.53754,     0.53854,     0.53954,     0.54054,     0.54154,     0.54254,     0.54354,     0.54454,     0.54555,     0.54655,     0.54755,     0.54855,     0.54955,     0.55055,     0.55155,\n",
       "           0.55255,     0.55355,     0.55455,     0.55556,     0.55656,     0.55756,     0.55856,     0.55956,     0.56056,     0.56156,     0.56256,     0.56356,     0.56456,     0.56557,     0.56657,     0.56757,     0.56857,     0.56957,     0.57057,     0.57157,     0.57257,     0.57357,     0.57457,     0.57558,\n",
       "           0.57658,     0.57758,     0.57858,     0.57958,     0.58058,     0.58158,     0.58258,     0.58358,     0.58458,     0.58559,     0.58659,     0.58759,     0.58859,     0.58959,     0.59059,     0.59159,     0.59259,     0.59359,     0.59459,      0.5956,      0.5966,      0.5976,      0.5986,      0.5996,\n",
       "            0.6006,      0.6016,      0.6026,      0.6036,      0.6046,     0.60561,     0.60661,     0.60761,     0.60861,     0.60961,     0.61061,     0.61161,     0.61261,     0.61361,     0.61461,     0.61562,     0.61662,     0.61762,     0.61862,     0.61962,     0.62062,     0.62162,     0.62262,     0.62362,\n",
       "           0.62462,     0.62563,     0.62663,     0.62763,     0.62863,     0.62963,     0.63063,     0.63163,     0.63263,     0.63363,     0.63463,     0.63564,     0.63664,     0.63764,     0.63864,     0.63964,     0.64064,     0.64164,     0.64264,     0.64364,     0.64464,     0.64565,     0.64665,     0.64765,\n",
       "           0.64865,     0.64965,     0.65065,     0.65165,     0.65265,     0.65365,     0.65465,     0.65566,     0.65666,     0.65766,     0.65866,     0.65966,     0.66066,     0.66166,     0.66266,     0.66366,     0.66466,     0.66567,     0.66667,     0.66767,     0.66867,     0.66967,     0.67067,     0.67167,\n",
       "           0.67267,     0.67367,     0.67467,     0.67568,     0.67668,     0.67768,     0.67868,     0.67968,     0.68068,     0.68168,     0.68268,     0.68368,     0.68468,     0.68569,     0.68669,     0.68769,     0.68869,     0.68969,     0.69069,     0.69169,     0.69269,     0.69369,     0.69469,      0.6957,\n",
       "            0.6967,      0.6977,      0.6987,      0.6997,      0.7007,      0.7017,      0.7027,      0.7037,      0.7047,     0.70571,     0.70671,     0.70771,     0.70871,     0.70971,     0.71071,     0.71171,     0.71271,     0.71371,     0.71471,     0.71572,     0.71672,     0.71772,     0.71872,     0.71972,\n",
       "           0.72072,     0.72172,     0.72272,     0.72372,     0.72472,     0.72573,     0.72673,     0.72773,     0.72873,     0.72973,     0.73073,     0.73173,     0.73273,     0.73373,     0.73473,     0.73574,     0.73674,     0.73774,     0.73874,     0.73974,     0.74074,     0.74174,     0.74274,     0.74374,\n",
       "           0.74474,     0.74575,     0.74675,     0.74775,     0.74875,     0.74975,     0.75075,     0.75175,     0.75275,     0.75375,     0.75475,     0.75576,     0.75676,     0.75776,     0.75876,     0.75976,     0.76076,     0.76176,     0.76276,     0.76376,     0.76476,     0.76577,     0.76677,     0.76777,\n",
       "           0.76877,     0.76977,     0.77077,     0.77177,     0.77277,     0.77377,     0.77477,     0.77578,     0.77678,     0.77778,     0.77878,     0.77978,     0.78078,     0.78178,     0.78278,     0.78378,     0.78478,     0.78579,     0.78679,     0.78779,     0.78879,     0.78979,     0.79079,     0.79179,\n",
       "           0.79279,     0.79379,     0.79479,      0.7958,      0.7968,      0.7978,      0.7988,      0.7998,      0.8008,      0.8018,      0.8028,      0.8038,      0.8048,     0.80581,     0.80681,     0.80781,     0.80881,     0.80981,     0.81081,     0.81181,     0.81281,     0.81381,     0.81481,     0.81582,\n",
       "           0.81682,     0.81782,     0.81882,     0.81982,     0.82082,     0.82182,     0.82282,     0.82382,     0.82482,     0.82583,     0.82683,     0.82783,     0.82883,     0.82983,     0.83083,     0.83183,     0.83283,     0.83383,     0.83483,     0.83584,     0.83684,     0.83784,     0.83884,     0.83984,\n",
       "           0.84084,     0.84184,     0.84284,     0.84384,     0.84484,     0.84585,     0.84685,     0.84785,     0.84885,     0.84985,     0.85085,     0.85185,     0.85285,     0.85385,     0.85485,     0.85586,     0.85686,     0.85786,     0.85886,     0.85986,     0.86086,     0.86186,     0.86286,     0.86386,\n",
       "           0.86486,     0.86587,     0.86687,     0.86787,     0.86887,     0.86987,     0.87087,     0.87187,     0.87287,     0.87387,     0.87487,     0.87588,     0.87688,     0.87788,     0.87888,     0.87988,     0.88088,     0.88188,     0.88288,     0.88388,     0.88488,     0.88589,     0.88689,     0.88789,\n",
       "           0.88889,     0.88989,     0.89089,     0.89189,     0.89289,     0.89389,     0.89489,      0.8959,      0.8969,      0.8979,      0.8989,      0.8999,      0.9009,      0.9019,      0.9029,      0.9039,      0.9049,     0.90591,     0.90691,     0.90791,     0.90891,     0.90991,     0.91091,     0.91191,\n",
       "           0.91291,     0.91391,     0.91491,     0.91592,     0.91692,     0.91792,     0.91892,     0.91992,     0.92092,     0.92192,     0.92292,     0.92392,     0.92492,     0.92593,     0.92693,     0.92793,     0.92893,     0.92993,     0.93093,     0.93193,     0.93293,     0.93393,     0.93493,     0.93594,\n",
       "           0.93694,     0.93794,     0.93894,     0.93994,     0.94094,     0.94194,     0.94294,     0.94394,     0.94494,     0.94595,     0.94695,     0.94795,     0.94895,     0.94995,     0.95095,     0.95195,     0.95295,     0.95395,     0.95495,     0.95596,     0.95696,     0.95796,     0.95896,     0.95996,\n",
       "           0.96096,     0.96196,     0.96296,     0.96396,     0.96496,     0.96597,     0.96697,     0.96797,     0.96897,     0.96997,     0.97097,     0.97197,     0.97297,     0.97397,     0.97497,     0.97598,     0.97698,     0.97798,     0.97898,     0.97998,     0.98098,     0.98198,     0.98298,     0.98398,\n",
       "           0.98498,     0.98599,     0.98699,     0.98799,     0.98899,     0.98999,     0.99099,     0.99199,     0.99299,     0.99399,     0.99499,       0.996,       0.997,       0.998,       0.999,           1]), array([[     0.9768,      0.9768,     0.97251,     0.96907,     0.96735,     0.96564,     0.96564,     0.96478,     0.96392,      0.9622,     0.96134,     0.96134,     0.95962,      0.9579,     0.95619,     0.95619,     0.95369,     0.95103,     0.95103,     0.95103,     0.95103,     0.95017,     0.95017,\n",
       "            0.94845,     0.94845,     0.94759,     0.94759,     0.94759,     0.94759,     0.94759,     0.94674,     0.94674,     0.94674,     0.94674,     0.94674,     0.94588,     0.94588,     0.94445,     0.94244,     0.94244,     0.94158,     0.94158,     0.94158,     0.94158,     0.94072,       0.939,\n",
       "              0.939,     0.93814,     0.93814,     0.93814,     0.93814,     0.93814,     0.93814,     0.93814,     0.93814,     0.93814,     0.93814,     0.93814,     0.93814,     0.93814,     0.93729,     0.93729,     0.93729,     0.93696,     0.93643,     0.93557,     0.93557,     0.93557,     0.93557,\n",
       "            0.93557,     0.93471,     0.93467,     0.93303,     0.93299,     0.93299,     0.93299,     0.93299,     0.93299,     0.93299,     0.93299,     0.93298,     0.93213,     0.93213,     0.93213,     0.93213,     0.93213,     0.93213,     0.93213,     0.93213,     0.93213,     0.93213,     0.93127,\n",
       "            0.93127,     0.93106,     0.93041,     0.93041,     0.92955,     0.92955,     0.92953,     0.92869,     0.92869,     0.92869,     0.92869,     0.92869,     0.92869,     0.92869,     0.92869,     0.92869,     0.92869,     0.92869,     0.92869,     0.92869,     0.92869,     0.92869,     0.92869,\n",
       "            0.92869,     0.92869,     0.92869,     0.92869,     0.92869,     0.92869,     0.92869,     0.92869,     0.92869,     0.92869,     0.92869,     0.92784,     0.92784,     0.92784,     0.92784,     0.92775,     0.92704,     0.92698,     0.92698,     0.92698,     0.92698,     0.92698,     0.92698,\n",
       "            0.92698,     0.92698,     0.92612,     0.92612,     0.92612,      0.9253,     0.92526,     0.92526,     0.92526,     0.92526,     0.92526,     0.92526,     0.92526,      0.9244,      0.9244,      0.9244,      0.9244,      0.9244,      0.9244,      0.9244,     0.92362,     0.92354,     0.92354,\n",
       "            0.92354,     0.92354,     0.92291,     0.92268,     0.92268,     0.92268,     0.92268,     0.92268,     0.92268,     0.92268,     0.92268,     0.92268,     0.92268,     0.92268,     0.92268,     0.92268,     0.92268,     0.92268,     0.92251,     0.92182,     0.92182,     0.92182,     0.92182,\n",
       "            0.92182,     0.92117,     0.92096,     0.92096,     0.92096,     0.92096,     0.92096,     0.92096,     0.92089,     0.92066,     0.92042,     0.92019,      0.9201,      0.9201,      0.9201,     0.91944,     0.91924,     0.91924,     0.91924,     0.91924,     0.91924,     0.91924,     0.91924,\n",
       "            0.91924,     0.91924,     0.91924,     0.91924,     0.91924,     0.91904,     0.91838,     0.91838,     0.91838,     0.91838,     0.91838,     0.91838,     0.91838,     0.91838,     0.91805,     0.91753,     0.91729,     0.91688,     0.91667,     0.91581,     0.91581,     0.91581,     0.91581,\n",
       "            0.91537,     0.91456,     0.91409,     0.91409,     0.91409,     0.91409,     0.91409,     0.91409,     0.91323,     0.91323,     0.91297,     0.91266,     0.91237,     0.91237,     0.91237,     0.91237,     0.91237,     0.91237,     0.91237,     0.91237,     0.91237,     0.91205,     0.91151,\n",
       "            0.91065,     0.91065,     0.91065,     0.91065,     0.91065,     0.91065,     0.91065,     0.91065,     0.91065,     0.91065,     0.91065,     0.91065,     0.91065,     0.91065,     0.91065,     0.91065,     0.91065,     0.91065,     0.91065,     0.91065,     0.91065,     0.91065,     0.91065,\n",
       "            0.91065,     0.91065,     0.91065,     0.91065,     0.91065,     0.91065,     0.91065,     0.91065,     0.91065,     0.91065,     0.91065,     0.91065,     0.91065,     0.90981,     0.90979,     0.90979,     0.90979,     0.90979,     0.90979,     0.90979,     0.90979,     0.90979,     0.90979,\n",
       "            0.90979,     0.90878,     0.90846,     0.90814,      0.9076,     0.90722,     0.90722,     0.90722,     0.90722,     0.90722,     0.90722,     0.90722,     0.90722,     0.90721,     0.90707,     0.90693,     0.90679,     0.90664,      0.9065,     0.90636,     0.90636,     0.90606,      0.9055,\n",
       "             0.9055,      0.9055,      0.9055,      0.9055,      0.9055,      0.9055,      0.9055,      0.9055,       0.905,     0.90464,     0.90464,     0.90464,     0.90464,     0.90464,     0.90464,     0.90464,     0.90464,     0.90464,     0.90464,     0.90464,     0.90464,     0.90464,     0.90459,\n",
       "            0.90408,     0.90378,     0.90378,     0.90317,     0.90292,     0.90292,     0.90292,     0.90292,     0.90292,     0.90292,     0.90292,     0.90292,     0.90259,     0.90208,     0.90206,     0.90206,     0.90182,     0.90008,     0.89948,     0.89948,     0.89948,     0.89948,     0.89948,\n",
       "            0.89948,     0.89948,     0.89948,     0.89948,     0.89941,     0.89918,     0.89894,     0.89871,     0.89847,     0.89824,       0.898,     0.89777,     0.89777,     0.89777,     0.89777,     0.89777,     0.89691,     0.89691,     0.89691,     0.89691,     0.89605,     0.89605,     0.89605,\n",
       "            0.89605,     0.89605,     0.89598,     0.89519,     0.89519,     0.89519,     0.89509,     0.89485,     0.89462,     0.89438,     0.89399,     0.89355,     0.89347,     0.89347,     0.89309,     0.89265,     0.89089,     0.89089,     0.89089,     0.89089,     0.89089,     0.89089,     0.89089,\n",
       "            0.89048,     0.89003,     0.89003,     0.89003,     0.89003,     0.89003,     0.89003,     0.88989,     0.88971,     0.88952,     0.88934,     0.88832,     0.88832,     0.88824,      0.8878,     0.88736,     0.88692,      0.8866,      0.8866,      0.8866,     0.88629,     0.88574,     0.88574,\n",
       "            0.88488,     0.88341,     0.88295,     0.88266,     0.88236,      0.8823,      0.8823,      0.8823,     0.88215,     0.88197,      0.8818,     0.88162,     0.88145,     0.88115,     0.88086,     0.87973,     0.87973,     0.87973,     0.87964,     0.87942,      0.8792,     0.87898,     0.87873,\n",
       "            0.87843,     0.87814,     0.87708,     0.87695,     0.87683,      0.8767,     0.87658,     0.87645,     0.87632,     0.87629,     0.87563,     0.87509,     0.87465,     0.87439,     0.87417,     0.87395,     0.87373,     0.87331,     0.87287,     0.87199,     0.87199,      0.8711,     0.87027,\n",
       "             0.8702,     0.86767,     0.86737,     0.86708,     0.86668,     0.86598,     0.86578,     0.86501,     0.86457,      0.8634,      0.8634,      0.8634,      0.8634,      0.8634,      0.8634,      0.8634,     0.86298,      0.8621,     0.86082,     0.86082,     0.86032,     0.85884,      0.8584,\n",
       "            0.85825,     0.85825,     0.85825,     0.85825,     0.85792,     0.85748,     0.85739,     0.85639,     0.85621,     0.85603,     0.85586,     0.85568,     0.85567,     0.85395,     0.85395,     0.85395,     0.85395,     0.85395,     0.85395,     0.85389,     0.85345,     0.85293,     0.85223,\n",
       "            0.85223,     0.85216,     0.85186,     0.85157,     0.85128,     0.85098,     0.85069,     0.85043,     0.85021,     0.84999,     0.84977,     0.84922,     0.84833,     0.84745,     0.84708,      0.8469,     0.84661,     0.84632,     0.84622,     0.84622,     0.84622,     0.84622,     0.84588,\n",
       "            0.84544,     0.84464,     0.84364,     0.84364,      0.8435,     0.84334,     0.84318,     0.84302,     0.84286,     0.84278,     0.84278,     0.84278,     0.84278,     0.84278,     0.84278,     0.84259,     0.84229,       0.842,     0.84127,     0.83987,     0.83943,     0.83917,     0.83895,\n",
       "            0.83873,     0.83851,     0.83808,     0.83764,     0.83678,     0.83677,     0.83677,     0.83677,     0.83677,     0.83624,     0.83591,     0.83534,     0.83419,     0.83358,     0.83302,     0.83258,      0.8323,     0.83208,     0.83186,     0.83164,     0.83162,     0.83162,     0.83162,\n",
       "            0.83122,     0.82969,     0.82925,     0.82818,     0.82794,      0.8275,     0.82646,     0.82646,      0.8256,     0.82536,     0.82501,     0.82469,     0.82447,     0.82425,     0.82403,     0.82359,     0.82271,     0.82194,     0.82135,      0.8209,     0.82046,     0.81916,     0.81614,\n",
       "            0.81529,     0.81529,     0.81529,     0.81509,     0.81425,     0.81396,     0.81366,     0.81337,     0.81308,     0.81278,      0.8114,     0.81093,     0.81071,     0.81049,     0.81027,     0.80832,     0.80807,     0.80781,     0.80756,     0.80584,     0.80411,     0.80376,     0.80341,\n",
       "              0.803,     0.80256,     0.80011,     0.79923,     0.79835,     0.79704,      0.7946,      0.7943,     0.79401,     0.79323,     0.79221,     0.79171,     0.79127,     0.79043,     0.78866,     0.78845,     0.78801,     0.78648,     0.78431,     0.78343,     0.78175,     0.78139,     0.78104,\n",
       "            0.77947,     0.77859,     0.77514,     0.77394,      0.7735,     0.77301,     0.77243,     0.77159,     0.77109,     0.77065,     0.76766,     0.76678,      0.7659,     0.76459,     0.76371,     0.76203,     0.76203,     0.76203,     0.76031,     0.75993,     0.75601,     0.75497,     0.75302,\n",
       "             0.7502,     0.74846,     0.74672,     0.74298,     0.74254,     0.74118,      0.7406,     0.74001,     0.73929,     0.73841,     0.73596,     0.73364,     0.73098,     0.72827,     0.72783,     0.72386,     0.72236,     0.72165,     0.71962,     0.71918,     0.71777,     0.71642,     0.71617,\n",
       "            0.71592,     0.71567,     0.71341,     0.71148,     0.71102,     0.71066,      0.7092,     0.70832,     0.70759,     0.70443,     0.70384,     0.70361,     0.70189,     0.70189,     0.69845,      0.6975,     0.69706,       0.694,     0.69342,     0.68768,     0.68623,     0.68564,     0.68162,\n",
       "            0.67931,     0.67873,     0.67556,     0.67483,     0.67267,     0.67208,     0.67072,     0.67028,     0.66975,     0.66814,     0.66695,     0.66283,     0.65856,     0.65744,     0.65355,     0.64932,     0.64873,     0.64661,     0.64456,     0.64433,     0.64182,     0.64035,      0.6366,\n",
       "             0.6366,     0.63574,     0.63402,     0.63402,     0.63402,     0.62937,     0.62629,     0.62629,     0.62331,      0.6218,      0.6167,     0.61611,     0.61381,     0.61227,     0.61023,     0.60603,     0.59943,     0.59884,     0.59202,     0.58851,      0.5842,     0.57989,      0.5793,\n",
       "            0.57597,     0.57131,      0.5711,     0.56989,     0.56328,     0.55888,      0.5567,      0.5567,     0.55518,     0.55086,      0.5467,     0.54567,     0.53974,     0.53531,     0.52849,      0.5238,     0.52321,     0.51246,     0.50426,     0.49367,     0.48963,     0.48534,     0.48475,\n",
       "            0.47827,     0.47064,     0.46444,     0.46182,     0.45984,     0.45123,     0.44305,     0.43814,     0.43411,     0.42924,     0.42801,     0.42447,     0.42128,     0.41758,     0.41195,     0.40606,     0.39773,     0.39077,     0.38472,     0.38177,      0.3769,     0.36998,     0.36644,\n",
       "            0.36235,     0.35697,     0.35091,     0.34519,      0.3446,     0.33776,     0.33173,      0.3275,     0.31801,     0.30975,     0.30589,     0.30112,      0.2955,     0.28647,     0.27651,     0.26874,     0.26268,     0.25822,     0.25228,     0.24537,     0.23759,      0.2281,     0.22571,\n",
       "            0.22483,      0.2211,      0.2116,     0.20383,     0.20198,     0.19515,     0.18738,      0.1843,     0.18214,      0.1761,     0.17346,     0.16912,     0.16564,     0.16302,     0.15954,     0.15606,     0.15086,     0.14653,     0.14047,     0.13379,     0.13265,     0.12659,      0.1214,\n",
       "            0.11362,     0.11289,     0.11096,     0.10404,     0.10228,    0.098802,    0.092746,    0.086729,    0.085869,    0.085282,    0.081405,    0.077067,    0.071587,    0.065812,    0.061442,    0.057994,    0.053656,    0.048458,    0.045838,    0.043329,    0.042316,    0.039005,    0.036216,\n",
       "           0.034455,    0.030092,    0.029212,    0.027902,    0.025691,    0.021353,    0.017126,    0.016539,    0.015337,    0.014308,    0.012287,    0.011121,      0.0109,     0.01068,     0.01046,   0.0080364,   0.0065087,   0.0060684,   0.0033962,   0.0032926,    0.003189,   0.0030854,   0.0029818,\n",
       "          0.0028782,   0.0027746,    0.002671,   0.0025653,   0.0024395,   0.0023137,   0.0021879,   0.0020621,   0.0019363,   0.0018105,   0.0014834,           0,           0,           0,           0,           0,           0,           0,           0,           0,           0,           0,           0,\n",
       "                  0,           0,           0,           0,           0,           0,           0,           0,           0,           0,           0,           0,           0,           0,           0,           0,           0,           0,           0,           0,           0,           0,           0,\n",
       "                  0,           0,           0,           0,           0,           0,           0,           0,           0,           0,           0,           0,           0,           0,           0,           0,           0,           0,           0,           0,           0,           0,           0,\n",
       "                  0,           0,           0,           0,           0,           0,           0,           0,           0,           0,           0]]), 'Confidence', 'Recall']]\n",
       "fitness: np.float64(0.6598711143542306)\n",
       "keys: ['metrics/precision(B)', 'metrics/recall(B)', 'metrics/mAP50(B)', 'metrics/mAP50-95(B)']\n",
       "maps: array([    0.62948])\n",
       "names: {0: 'pothole'}\n",
       "plot: True\n",
       "results_dict: {'metrics/precision(B)': np.float64(0.9055307029367174), 'metrics/recall(B)': np.float64(0.8908934707903781), 'metrics/mAP50(B)': np.float64(0.933393540916728), 'metrics/mAP50-95(B)': np.float64(0.6294797336250642), 'fitness': np.float64(0.6598711143542306)}\n",
       "save_dir: WindowsPath('model_out/train')\n",
       "speed: {'preprocess': 0.08399029607780424, 'inference': 3.0767501644660165, 'loss': 0.003319736821906286, 'postprocess': 1.3268350329135021}\n",
       "task: 'detect'"
      ]
     },
     "execution_count": 21,
     "metadata": {},
     "output_type": "execute_result"
    }
   ],
   "source": [
    "model.train(data=yaml_path, epochs=100, imgsz=320, batch = 12, project=\"model_out\")"
   ]
  },
  {
   "cell_type": "code",
   "execution_count": 22,
   "metadata": {},
   "outputs": [
    {
     "name": "stdout",
     "output_type": "stream",
     "text": [
      "Ultralytics 8.3.91  Python-3.12.3 torch-2.5.1 CUDA:0 (NVIDIA GeForce RTX 4050 Laptop GPU, 6141MiB)\n",
      "YOLO11m summary (fused): 125 layers, 20,030,803 parameters, 0 gradients, 67.6 GFLOPs\n"
     ]
    },
    {
     "name": "stderr",
     "output_type": "stream",
     "text": [
      "\u001b[34m\u001b[1mval: \u001b[0mScanning C:\\Users\\athif\\OneDrive\\Documents\\Hackathon-Voxel51\\val\\labels\\val.cache... 608 images, 0 backgrounds, 0 corrupt: 100%|██████████| 608/608 [00:00<?, ?it/s]\n",
      "                 Class     Images  Instances      Box(P          R      mAP50  mAP50-95): 100%|██████████| 51/51 [00:09<00:00,  5.59it/s]\n"
     ]
    },
    {
     "name": "stdout",
     "output_type": "stream",
     "text": [
      "                   all        608       1164      0.905      0.888      0.933      0.629\n",
      "Speed: 0.2ms preprocess, 6.7ms inference, 0.0ms loss, 1.6ms postprocess per image\n",
      "Results saved to \u001b[1mmodel_out\\train3\u001b[0m\n"
     ]
    }
   ],
   "source": [
    "metrics = model.val()"
   ]
  },
  {
   "cell_type": "code",
   "execution_count": 23,
   "metadata": {},
   "outputs": [],
   "source": [
    "EXPORT_DIR = r\"C:\\Users\\athif\\OneDrive\\Documents\\Hackathon-Voxel51\\trained_model\"\n",
    "model.save(os.path.join(EXPORT_DIR, 'pothole_detector_v2.pt'))"
   ]
  },
  {
   "cell_type": "code",
   "execution_count": 25,
   "metadata": {},
   "outputs": [
    {
     "name": "stdout",
     "output_type": "stream",
     "text": [
      "Ultralytics 8.3.91  Python-3.12.3 torch-2.5.1 CPU (13th Gen Intel Core(TM) i7-13700H)\n",
      "\n",
      "\u001b[34m\u001b[1mPyTorch:\u001b[0m starting from 'model_out\\train\\weights\\best.pt' with input shape (1, 3, 320, 320) BCHW and output shape(s) (1, 5, 2100) (38.6 MB)\n",
      "\n",
      "\u001b[34m\u001b[1mONNX:\u001b[0m starting export with onnx 1.17.0 opset 19...\n",
      "\u001b[34m\u001b[1mONNX:\u001b[0m slimming with onnxslim 0.1.48...\n",
      "\u001b[34m\u001b[1mONNX:\u001b[0m export success  4.2s, saved as 'model_out\\train\\weights\\best.onnx' (76.6 MB)\n",
      "\n",
      "Export complete (4.7s)\n",
      "Results saved to \u001b[1mC:\\Users\\athif\\OneDrive\\Documents\\Hackathon-Voxel51\\model_out\\train\\weights\u001b[0m\n",
      "Predict:         yolo predict task=detect model=model_out\\train\\weights\\best.onnx imgsz=320  \n",
      "Validate:        yolo val task=detect model=model_out\\train\\weights\\best.onnx imgsz=320 data=C:\\Users\\athif\\OneDrive\\Documents\\Hackathon-Voxel51\\dataset.yaml  \n",
      "Visualize:       https://netron.app\n"
     ]
    },
    {
     "data": {
      "text/plain": [
       "'model_out\\\\train\\\\weights\\\\best.onnx'"
      ]
     },
     "execution_count": 25,
     "metadata": {},
     "output_type": "execute_result"
    }
   ],
   "source": [
    "model.export(format='onnx')"
   ]
  },
  {
   "cell_type": "code",
   "execution_count": null,
   "metadata": {},
   "outputs": [],
   "source": []
  }
 ],
 "metadata": {
  "kernelspec": {
   "display_name": "pytorch",
   "language": "python",
   "name": "python3"
  },
  "language_info": {
   "codemirror_mode": {
    "name": "ipython",
    "version": 3
   },
   "file_extension": ".py",
   "mimetype": "text/x-python",
   "name": "python",
   "nbconvert_exporter": "python",
   "pygments_lexer": "ipython3",
   "version": "3.12.3"
  }
 },
 "nbformat": 4,
 "nbformat_minor": 2
}
